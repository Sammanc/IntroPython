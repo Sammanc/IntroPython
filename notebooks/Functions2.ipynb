{
 "cells": [
  {
   "cell_type": "markdown",
   "metadata": {},
   "source": [
    "## Functions, Part II"
   ]
  },
  {
   "cell_type": "markdown",
   "metadata": {},
   "source": [
    "### Scope\n",
    "\n",
    "The *scope* of a variable is the part of a program within which that variable can be \"seen\": assigned to, used in a computation, printed, and so on.\n",
    "\n",
    "[Here is more detail on scope.](https://en.wikipedia.org/wiki/Scope_(computer_science))\n",
    "\n",
    "[And here is a discussion of scoping in Python in particular.](https://www.w3schools.com/python/python_scope.asp)\n",
    "\n",
    "Let's look at a code example illustrating scoping in Python."
   ]
  },
  {
   "cell_type": "code",
   "execution_count": 1,
   "metadata": {},
   "outputs": [],
   "source": [
    "def f1(name):\n",
    "    print(\"\\nFrom within f1:\", name)\n",
    "#    print(vehicle)  # vehicle is not defined here."
   ]
  },
  {
   "cell_type": "code",
   "execution_count": 2,
   "metadata": {},
   "outputs": [],
   "source": [
    "def f2():\n",
    "#    print(\"From within main f2:\", name)\n",
    "    vehicle = \"Ford\"\n",
    "    print(\"\\nFrom within f2:\", vehicle)"
   ]
  },
  {
   "cell_type": "code",
   "execution_count": 3,
   "metadata": {},
   "outputs": [
    {
     "name": "stdout",
     "output_type": "stream",
     "text": [
      "From within main:  Bernard Volvo\n",
      "\n",
      "From within f1:  Dolores\n",
      "\n",
      "From within main:  Bernard Volvo\n",
      "\n",
      "From within f2:  Ford\n",
      "\n",
      "From within main:  Bernard Volvo\n"
     ]
    }
   ],
   "source": [
    "def main():\n",
    "    name = \"Bernard\"\n",
    "    vehicle = \"Volvo\"\n",
    "    print(\"From within main:\", name, vehicle)\n",
    "\n",
    "    f1(\"Dolores\")\n",
    "    print(\"\\nFrom within main:\", name, vehicle)\n",
    "\n",
    "    f2()\n",
    "    print(\"\\nFrom within main:\", name, vehicle)\n",
    "\n",
    "\n",
    "main()"
   ]
  },
  {
   "cell_type": "code",
   "execution_count": null,
   "metadata": {},
   "outputs": [],
   "source": []
  },
  {
   "cell_type": "markdown",
   "metadata": {},
   "source": [
    "### Default parameters\n",
    "\n",
    "The terms *parameter* and *argument* are often used interchangeably. However, if we want to be strictly correct, a *parameter* is the placeholder for an *argument* in a function definition, and an *argument* is the actual value passed in to the function. But don't worry too much about this: even professional programmers are often sloppy with this technical distinction.\n",
    "\n",
    "Python allows passing function arguments by position, which is what we have been exclusively dealing with so far. So we might define a function called `place_agent(x, y)`, where `x` and `y` are the coordinates on a grid where an agent will be placed.\n",
    "\n",
    "But Python also allows *default* parameters. These take the form `param=default_val`. All purely positional parameters must come before any parameters with default values.\n",
    "\n",
    "The default parameters may be skipped, in which case the function will be passed the default value. This facility is very valuable, as it allows one to extend a function to take new arguments without breaking existing code.\n",
    "\n",
    "Here is an example of a function with one positional parameter and one default parameter:"
   ]
  },
  {
   "cell_type": "code",
   "execution_count": 10,
   "metadata": {},
   "outputs": [
    {
     "name": "stdout",
     "output_type": "stream",
     "text": [
      "log e base e = 1.0\n",
      "log e base 2 = 1.4426950408889634\n",
      "log e base 10 = 0.43429448190325176\n"
     ]
    }
   ],
   "source": [
    "from math import log, e\n",
    "\n",
    "loge = log(e)\n",
    "loge_b2 = log(e, 2)\n",
    "loge_b10 = log(e, 10)\n",
    "\n",
    "print(\"log e base e =\", loge)\n",
    "print(\"log e base 2 =\", loge_b2)\n",
    "print(\"log e base 10 =\", loge_b10)"
   ]
  },
  {
   "cell_type": "markdown",
   "metadata": {},
   "source": [
    "### Keyword arguments\n",
    "\n",
    "Python functions also can accept *keyword* arguments, meaning we can pass arguments by name. Let's see how those work."
   ]
  },
  {
   "cell_type": "code",
   "execution_count": 4,
   "metadata": {},
   "outputs": [
    {
     "name": "stdout",
     "output_type": "stream",
     "text": [
      "Roses are red,\n",
      "Violets are blue,\n",
      "Sugar is sweet, and so are you\n"
     ]
    }
   ],
   "source": [
    "def rhyme(flower1, flower2, color1, color2):\n",
    "    print(\"{} are {},\".format(flower1, color1))\n",
    "    print(\"{} are {},\".format(flower2, color2))\n",
    "    print(\"Sugar is sweet, and so are you\")\n",
    "\n",
    "\n",
    "rhyme(\"Roses\", \"Violets\", \"red\", \"blue\")"
   ]
  },
  {
   "cell_type": "code",
   "execution_count": null,
   "metadata": {},
   "outputs": [],
   "source": [
    "def rhyme_two(flower1, flower2=\"Violets\", color1=\"red\", color2=\"blue\"):\n",
    "    print(\"{} are {},\".format(flower1, color1))\n",
    "    print(\"{} are {},\".format(flower2, color2))\n",
    "    print(\"Sugar is sweet, and so are you\")\n",
    "\n",
    "print()\n",
    "rhyme_two(\"Pine needles\", color1=\"green\")"
   ]
  },
  {
   "cell_type": "code",
   "execution_count": 2,
   "metadata": {},
   "outputs": [
    {
     "name": "stdout",
     "output_type": "stream",
     "text": [
      "\n",
      "Daisies are red,\n",
      "Violets are white,\n",
      "Sugar is sweet, and so are you\n"
     ]
    }
   ],
   "source": [
    "print()\n",
    "rhyme_two(flower1=\"Daisies\", color2=\"white\")"
   ]
  },
  {
   "cell_type": "code",
   "execution_count": 1,
   "metadata": {},
   "outputs": [
    {
     "name": "stdout",
     "output_type": "stream",
     "text": [
      "Roses are red,\n",
      "Violets are blue,\n",
      "Sugar is sweet, and so are you\n",
      "Enter to continue...\n",
      "\n",
      "Pine needles are green,\n",
      "Violets are blue,\n",
      "Sugar is sweet, and so are you\n",
      "Enter to continue...\n",
      "\n",
      "Daisies are red,\n",
      "Violets are white,\n",
      "Sugar is sweet, and so are you\n",
      "Enter to continue...\n",
      "\n"
     ]
    },
    {
     "ename": "TypeError",
     "evalue": "rhyme_two() missing 1 required positional argument: 'flower1'",
     "output_type": "error",
     "traceback": [
      "\u001b[0;31m--------------------------------------------------------------------------\u001b[0m",
      "\u001b[0;31mTypeError\u001b[0m                                Traceback (most recent call last)",
      "\u001b[0;32m<ipython-input-1-1544e7cb4a17>\u001b[0m in \u001b[0;36m<module>\u001b[0;34m()\u001b[0m\n\u001b[1;32m     25\u001b[0m \u001b[0;34m\u001b[0m\u001b[0m\n\u001b[1;32m     26\u001b[0m \u001b[0mprint\u001b[0m\u001b[0;34m(\u001b[0m\u001b[0;34m)\u001b[0m\u001b[0;34m\u001b[0m\u001b[0m\n\u001b[0;32m---> 27\u001b[0;31m \u001b[0mrhyme_two\u001b[0m\u001b[0;34m(\u001b[0m\u001b[0;34m)\u001b[0m\u001b[0;34m\u001b[0m\u001b[0m\n\u001b[0m",
      "\u001b[0;31mTypeError\u001b[0m: rhyme_two() missing 1 required positional argument: 'flower1'"
     ]
    }
   ],
   "source": [
    "print()\n",
    "rhyme_two()"
   ]
  },
  {
   "cell_type": "code",
   "execution_count": null,
   "metadata": {},
   "outputs": [],
   "source": []
  }
 ],
 "metadata": {
  "kernelspec": {
   "display_name": "Python 3",
   "language": "python",
   "name": "python3"
  },
  "language_info": {
   "codemirror_mode": {
    "name": "ipython",
    "version": 3
   },
   "file_extension": ".py",
   "mimetype": "text/x-python",
   "name": "python",
   "nbconvert_exporter": "python",
   "pygments_lexer": "ipython3",
   "version": "3.6.2"
  }
 },
 "nbformat": 4,
 "nbformat_minor": 4
}
