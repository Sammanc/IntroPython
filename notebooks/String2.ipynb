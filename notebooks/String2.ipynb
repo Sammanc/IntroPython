{
 "cells": [
  {
   "cell_type": "markdown",
   "metadata": {},
   "source": [
    "## Strings Continued"
   ]
  },
  {
   "cell_type": "markdown",
   "metadata": {},
   "source": [
    "### String Slicing"
   ]
  },
  {
   "cell_type": "markdown",
   "metadata": {},
   "source": [
    "### Letter frequency program"
   ]
  },
  {
   "cell_type": "code",
   "execution_count": null,
   "metadata": {},
   "outputs": [],
   "source": [
    "address = '''Four score and seven years ago our fathers brought forth on this\n",
    "continent, a new nation, conceived in Liberty, and dedicated to the proposition\n",
    "all men are created equal.\n",
    "\n",
    "Now we are engaged in a great civil war, testing whether that nation, or any\n",
    "nation so conceived and dedicated, can long endure. We are met on a great\n",
    "battle-field of that war. We have come to dedicate a portion of that field, as\n",
    "a final resting place for those who here gave their lives that that nation\n",
    "might live. It is altogether fitting and proper that we should do this.\n",
    "\n",
    "But, in a larger sense, we can not dedicate — we can not consecrate — we can\n",
    "not hallow — this ground. The brave men, living and dead, who struggled here,\n",
    "have consecrated it, far above our poor power to add or detract. The world\n",
    "will little note, nor long remember what we say here, but it can never forget\n",
    "what they did here. It is for us the living, rather, to be dedicated here to\n",
    "the unfinished work which they who fought here have thus far so nobly advanced.\n",
    "It is rather for us to be here dedicated to the great task remaining before us\n",
    "— that from these honored dead we take increased devotion to that cause for\n",
    "which they gave the last full measure of devotion — that we here highly\n",
    "resolve that these dead shall not have died in vain — that this nation, under\n",
    "God, shall have a new birth of freedom — and that government of the people, by\n",
    "the people, for the people, shall not perish from the earth.\n",
    "'''\n",
    "num_of_a = 0\n",
    "num_of_b = 0\n",
    "num_of_periods = 0\n",
    "\n",
    "print (\"Processing the Gettysburg Address:\", end=\"\")\n",
    "for letter in address:\n",
    "    letter = letter.lower()\n",
    "    print(\".\", end=\"\")\n",
    "    if letter == 'a':\n",
    "        num_of_a += 1\n",
    "    elif letter == 'b':\n",
    "        num_of_b += 1\n",
    "    elif letter == '.':\n",
    "        num_of_periods += 1\n",
    "\n",
    "print(\"\\nThere are {:>10d} periods, {:<12d} occurrences of the letter a, and {} of the letter b.\".format( \\\n",
    "    num_of_periods, num_of_a, num_of_b))\n",
    "print(\"\\nThere are\", num_of_periods, \"periods,\", num_of_a, \"occurrences of the letter a, and\",\n",
    "      num_of_b, \"of the letter b.\")"
   ]
  },
  {
   "cell_type": "markdown",
   "metadata": {},
   "source": [
    "### Counting Words"
   ]
  },
  {
   "cell_type": "code",
   "execution_count": null,
   "metadata": {},
   "outputs": [],
   "source": [
    "user_input = input(\"Enter a string or phrase: \")\n",
    "count = user_input.strip().count(\" \") + 1\n",
    "print (\"There are {} words in the string you entered.\".format(count))"
   ]
  },
  {
   "cell_type": "markdown",
   "metadata": {},
   "source": [
    "### Reordering Words"
   ]
  },
  {
   "cell_type": "code",
   "execution_count": null,
   "metadata": {},
   "outputs": [],
   "source": [
    "# Program given the name as \"firstname middlename lastname\", reorder the string\n",
    "# and print it as \"lastname, firstname middlename\"\n",
    "\n",
    "name = \"Eugene J. Callahan\"\n",
    "\n",
    "firstname, middlename, lastname = name.split() # splits on ' ' by default\n",
    "firstmiddle, lastname = name.split('.') # splits on ' ' by default\n",
    "print(\"Firstmiddle = \", firstmiddle, \"lastname = \", lastname)\n",
    "transformed = \"{}, {} {}\".format(lastname, firstname, middlename)\n",
    "print(transformed)\n",
    "print(\"name = {}\".format(name)) # name is unchanged"
   ]
  },
  {
   "cell_type": "code",
   "execution_count": 2,
   "metadata": {},
   "outputs": [
    {
     "name": "stdout",
     "output_type": "stream",
     "text": [
      "Saul Goodman (2.8800): sophomore\n"
     ]
    }
   ],
   "source": [
    "# Common data format is a CSV file (comma separated values) - set split(\",\")\n",
    "#\n",
    "#lname,fname,year,gpa\n",
    "name = \"Goodman,Saul,sophomore,2.88\"\n",
    "\n",
    "lastname, firstname, grade, gpa = name.split(\",\")\n",
    "transformed = \"{0} {1} ({3:>6.4f}): {2}\".format(firstname,\n",
    "                                                lastname,\n",
    "                                                grade,\n",
    "                                                float(gpa))\n",
    "print(transformed)"
   ]
  },
  {
   "cell_type": "markdown",
   "metadata": {},
   "source": [
    "### Palindrome Checker"
   ]
  },
  {
   "cell_type": "markdown",
   "metadata": {},
   "source": [
    "Checks a simple palindrome:"
   ]
  },
  {
   "cell_type": "code",
   "execution_count": 11,
   "metadata": {},
   "outputs": [
    {
     "name": "stdout",
     "output_type": "stream",
     "text": [
      "backward =  kayak\n",
      "kayak vs kayak: True\n",
      "\n"
     ]
    }
   ],
   "source": [
    "original = \"kayak\"\n",
    "backward = original[::-1]\n",
    "print(\"backward = \", backward)\n",
    "print(\"{} vs {}: {}\\n\".format(original, backward,\n",
    "                              original == backward))"
   ]
  },
  {
   "cell_type": "markdown",
   "metadata": {},
   "source": [
    "This palindrome fails the test, since case of first and last 'm' don't match case, as well as 4th 'a' and 4th to last 'a':"
   ]
  },
  {
   "cell_type": "code",
   "execution_count": 12,
   "metadata": {},
   "outputs": [
    {
     "data": {
      "text/plain": [
       "True"
      ]
     },
     "execution_count": 12,
     "metadata": {},
     "output_type": "execute_result"
    }
   ],
   "source": [
    "# nonsense palindrome:\n",
    "s = \"aoxomoxoa\"\n",
    "backward = s[::-1]\n",
    "s == backward"
   ]
  },
  {
   "cell_type": "code",
   "execution_count": 13,
   "metadata": {},
   "outputs": [
    {
     "name": "stdout",
     "output_type": "stream",
     "text": [
      "Madam I'm Adam vs madA m'I madaM: False\n",
      "\n"
     ]
    }
   ],
   "source": [
    "original = \"Madam I'm Adam\"\n",
    "backward = original[::-1]\n",
    "print(\"{} vs {}: {}\\n\".format(original, backward,\n",
    "                              original == backward))"
   ]
  },
  {
   "cell_type": "markdown",
   "metadata": {},
   "source": [
    "This palindrome will work:"
   ]
  },
  {
   "cell_type": "code",
   "execution_count": 15,
   "metadata": {},
   "outputs": [
    {
     "name": "stdout",
     "output_type": "stream",
     "text": [
      "Able was I ere I saw elba VS. able was I ere I saw elbA: False\n",
      "\n"
     ]
    }
   ],
   "source": [
    "original = \"Able was I ere I saw elba\"\n",
    "backward = original[::-1]\n",
    "print(\"{} VS. {}: {}\\n\".format(original, backward,\n",
    "                              original == backward))"
   ]
  },
  {
   "cell_type": "markdown",
   "metadata": {},
   "source": [
    "We'll use the string module to get access to:\n",
    "\n",
    "- `string.punctutation`\n",
    "- `string.digits`\n",
    "- `string.ascii_lowercase`\n",
    "- `string.whitespace`"
   ]
  },
  {
   "cell_type": "code",
   "execution_count": 16,
   "metadata": {},
   "outputs": [
    {
     "name": "stdout",
     "output_type": "stream",
     "text": [
      "madam i'm adam: False\n",
      "\n",
      "madamimadam: True\n",
      "\n"
     ]
    }
   ],
   "source": [
    "import string\n",
    "\n",
    "original = \"Madam I'm Adam\"\n",
    "original = original.lower()\n",
    "print(\"{}: {}\\n\".format(original, original == original[::-1]))\n",
    "\n",
    "bad_chars = string.whitespace + string.punctuation\n",
    "for char in bad_chars:\n",
    "    original = original.replace(char, \"\")\n",
    "\n",
    "print(\"{}: {}\\n\".format(original,\n",
    "                        original == original[::-1]))"
   ]
  },
  {
   "cell_type": "code",
   "execution_count": null,
   "metadata": {},
   "outputs": [],
   "source": []
  }
 ],
 "metadata": {
  "kernelspec": {
   "display_name": "Python 3",
   "language": "python",
   "name": "python3"
  },
  "language_info": {
   "codemirror_mode": {
    "name": "ipython",
    "version": 3
   },
   "file_extension": ".py",
   "mimetype": "text/x-python",
   "name": "python",
   "nbconvert_exporter": "python",
   "pygments_lexer": "ipython3",
   "version": "3.6.2"
  }
 },
 "nbformat": 4,
 "nbformat_minor": 2
}
