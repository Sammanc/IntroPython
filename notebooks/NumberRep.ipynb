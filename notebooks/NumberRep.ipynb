{
 "cells": [
  {
   "cell_type": "markdown",
   "metadata": {},
   "source": [
    "## Numeral Systems\n",
    "\n",
    "We typically represent numbers in base-10. Speculation is that's because of the number of fingers we have. But base-20, base-60, and base-33 have all [been used in the past] (https://en.wikipedia.org/wiki/List_of_numeral_systems).\n",
    "\n",
    "The simplest possible number system is *base-1*: we just make a mark for everything we count. So if there are five dogs, we write down:\n",
    "/////\n",
    "\n",
    "The Roman numeral system is probably somewhat familiar to you. It is actually partially unary: 1, 2 and 3 are *I*, *II*, and *III*. Five is *V*, while four is \"5 - 1,\" designated by putting the *I* before the *V*: *IV*. Then 6, 7 and 8 go back to unary: *VI*, *VII*, *VIII*. Ten is *X*, while nine is \"10 - 1\": *IX*.\n",
    "\n",
    "This system is awkward: The user has to remember lots of different letters, as the numbers keep going up, and the digits do not lineup well for operations like addition and multiplication. Fifty minus eight looks like:\n",
    "\n",
    "`\n",
    " L\n",
    "-VIII\n",
    "`\n",
    "\n",
    "Instead of:\n",
    "\n",
    "`\n",
    " 50\n",
    " -8\n",
    "`"
   ]
  },
  {
   "cell_type": "markdown",
   "metadata": {},
   "source": [
    "### Positional systems\n",
    "\n",
    "Things get much better when we line numbers up in positions according to some *base* factor, and have the idea of *zero* available for when some place is missing. So, in base ten, we have, on the far right, the *units* place, followed by the *tens* place, the *hundreds* place, the *thousands* place, and so on. With this system, we can use the same digits over and over again, to represent a number however big we want. So:"
   ]
  },
  {
   "cell_type": "code",
   "execution_count": 1,
   "metadata": {},
   "outputs": [
    {
     "data": {
      "text/plain": [
       "18446744073709551616"
      ]
     },
     "execution_count": 1,
     "metadata": {},
     "output_type": "execute_result"
    }
   ],
   "source": [
    "2**64"
   ]
  },
  {
   "cell_type": "markdown",
   "metadata": {},
   "source": []
  }
 ],
 "metadata": {
  "kernelspec": {
   "display_name": "Python 3",
   "language": "python",
   "name": "python3"
  },
  "language_info": {
   "codemirror_mode": {
    "name": "ipython",
    "version": 3
   },
   "file_extension": ".py",
   "mimetype": "text/x-python",
   "name": "python",
   "nbconvert_exporter": "python",
   "pygments_lexer": "ipython3",
   "version": "3.6.2"
  }
 },
 "nbformat": 4,
 "nbformat_minor": 2
}
