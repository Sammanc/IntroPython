{
 "cells": [
  {
   "cell_type": "markdown",
   "metadata": {},
   "source": [
    "## Exceptions and More File IO"
   ]
  },
  {
   "cell_type": "code",
   "execution_count": null,
   "metadata": {},
   "outputs": [],
   "source": [
    "some_long_string = '''The Week 10 NFL slate is stacked with great matchups.\n",
    "Our NFL Nation reporters bring us the keys to every game, a bold prediction\n",
    "for each matchup and final score predictions.'''\n",
    "\n",
    "try:\n",
    "    some_char_index = int(input(\"What char do you want? \"))\n",
    "    print(\"The char is: {}\".format(some_long_string[some_char_index]))\n",
    "    \n",
    "except ValueError:\n",
    "    print(\"The value inputted is not an int.\")\n",
    "\n",
    "except IndexError:\n",
    "    print(\"The value you entered is not a valid index into the string.\")"
   ]
  },
  {
   "cell_type": "markdown",
   "metadata": {},
   "source": [
    "### Python Builtin Exceptions\n",
    "\n",
    "`ModuleNotFoundError` is thrown when an imported module can not be found.\n",
    "\n",
    "`ImportError` is thrown when a specified name can not be found.\n",
    "\n",
    "`TypeError` is thrown when an operation or function is applied to an object\n",
    "of an inappropriate type."
   ]
  },
  {
   "cell_type": "code",
   "execution_count": null,
   "metadata": {},
   "outputs": [],
   "source": [
    "'2' + 2"
   ]
  },
  {
   "cell_type": "markdown",
   "metadata": {},
   "source": [
    "`ValueError` is thrown when a function's argument is of an inappropriate type."
   ]
  },
  {
   "cell_type": "code",
   "execution_count": null,
   "metadata": {},
   "outputs": [],
   "source": [
    "int('str')"
   ]
  },
  {
   "cell_type": "markdown",
   "metadata": {},
   "source": [
    "`ZeroDivisionError` is thrown when the second operator in the division is zero."
   ]
  },
  {
   "cell_type": "code",
   "execution_count": null,
   "metadata": {},
   "outputs": [],
   "source": [
    "100/0"
   ]
  },
  {
   "cell_type": "markdown",
   "metadata": {},
   "source": [
    "`KeyboardInterrupt` is thrown when the user hits the interrupt key (normally Control-C) during the execution of the program. **NOTE**: This works from the command line, but **not** inside a notebook!"
   ]
  },
  {
   "cell_type": "code",
   "execution_count": null,
   "metadata": {},
   "outputs": [],
   "source": [
    "value = True\n",
    "\n",
    "try:\n",
    "    while value:\n",
    "        print(\".\", end='')\n",
    "\n",
    "except KeyboardInterrupt:\n",
    "    print(\"Program terminated by user.\")"
   ]
  },
  {
   "cell_type": "markdown",
   "metadata": {},
   "source": [
    "### Exceptions and Files"
   ]
  },
  {
   "cell_type": "code",
   "execution_count": 2,
   "metadata": {},
   "outputs": [
    {
     "name": "stdout",
     "output_type": "stream",
     "text": [
      "What file do you want to open? input.txt\n",
      "What line of the file do you want to see? 400\n",
      "Line 400 of file input.txt not found.\n",
      "End of program\n"
     ]
    }
   ],
   "source": [
    "file_name = input(\"What file do you want to open? \")\n",
    "line_num_str = input(\"What line of the file do you want to see? \")\n",
    "\n",
    "try:\n",
    "    input_file = open(file_name)\n",
    "    find_line_int = int(line_num_str)\n",
    "\n",
    "    line_count_int = 1\n",
    "\n",
    "    for line_str in input_file:\n",
    "        if line_count_int == find_line_int:\n",
    "            print(\"Line {} of file {} is: {}\".format(line_count_int, file_name, \\\n",
    "                                                     line_str))\n",
    "            break\n",
    "        line_count_int += 1\n",
    "\n",
    "    else:\n",
    "        print(\"Line {} of file {} not found.\".format(find_line_int, file_name))\n",
    "\n",
    "    input_file.close()\n",
    "\n",
    "except FileNotFoundError:\n",
    "    print(\"The file {} does not exist.\".format(file_name))\n",
    "\n",
    "except ValueError:\n",
    "    print(\"Line {} isn't a legal line number.\".format(line_num_str))\n",
    "\n",
    "print(\"End of program\")"
   ]
  },
  {
   "cell_type": "markdown",
   "metadata": {},
   "source": [
    "### Try-Except-Else-Finally"
   ]
  },
  {
   "cell_type": "code",
   "execution_count": 4,
   "metadata": {},
   "outputs": [
    {
     "name": "stdout",
     "output_type": "stream",
     "text": [
      "File does not exist: grudes.txt\n",
      "All done!\n"
     ]
    }
   ],
   "source": [
    "file_name = \"grudes.txt\"\n",
    "try:\n",
    "    input_file = open(file_name)\n",
    "\n",
    "except FileNotFoundError:\n",
    "    print(\"File does not exist:\", file_name)\n",
    "\n",
    "else:\n",
    "    # executed if try block is error-free\n",
    "    print(\"Processing\", file_name)\n",
    "    \n",
    "finally:\n",
    "    # executed irrespective of exception occured or not\n",
    "    print(\"All done!\")"
   ]
  },
  {
   "cell_type": "code",
   "execution_count": null,
   "metadata": {},
   "outputs": [],
   "source": []
  }
 ],
 "metadata": {
  "kernelspec": {
   "display_name": "Python 3",
   "language": "python",
   "name": "python3"
  },
  "language_info": {
   "codemirror_mode": {
    "name": "ipython",
    "version": 3
   },
   "file_extension": ".py",
   "mimetype": "text/x-python",
   "name": "python",
   "nbconvert_exporter": "python",
   "pygments_lexer": "ipython3",
   "version": "3.6.2"
  }
 },
 "nbformat": 4,
 "nbformat_minor": 2
}
