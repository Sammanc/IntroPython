{
 "cells": [
  {
   "cell_type": "markdown",
   "metadata": {},
   "source": [
    "## Turtle graphics\n",
    "\n",
    "Let's have a quick look at turtle graphics. (The name comes from the notion that we are steering a little \"drawing turtle\" around the screen. I've never seen a drawing turtle, but...) `turtle` is a non-core *module*, so we must `import` it:"
   ]
  },
  {
   "cell_type": "code",
   "execution_count": 1,
   "metadata": {},
   "outputs": [],
   "source": [
    "import turtle"
   ]
  },
  {
   "cell_type": "markdown",
   "metadata": {},
   "source": [
    "Now that we have it loaded, we can run turtle commands:"
   ]
  },
  {
   "cell_type": "code",
   "execution_count": 3,
   "metadata": {},
   "outputs": [],
   "source": [
    "turtle.forward(100)\n",
    "turtle.right(144)\n",
    "turtle.forward(100)\n",
    "turtle.right(144)\n",
    "turtle.forward(100)\n",
    "turtle.right(144)\n",
    "turtle.forward(100)\n",
    "turtle.right(144)\n",
    "turtle.forward(100)"
   ]
  },
  {
   "cell_type": "markdown",
   "metadata": {},
   "source": [
    "We could, of course, have made a *function* to eliminate the repetitive code above:"
   ]
  },
  {
   "cell_type": "code",
   "execution_count": 6,
   "metadata": {},
   "outputs": [],
   "source": [
    "def draw_and_turn():\n",
    "    turtle.forward(100)\n",
    "    turtle.right(144)\n",
    "\n",
    "for i in range (0, 5):\n",
    "    draw_and_turn()\n",
    "    "
   ]
  },
  {
   "cell_type": "code",
   "execution_count": null,
   "metadata": {},
   "outputs": [],
   "source": []
  }
 ],
 "metadata": {
  "kernelspec": {
   "display_name": "Python 3",
   "language": "python",
   "name": "python3"
  },
  "language_info": {
   "codemirror_mode": {
    "name": "ipython",
    "version": 3
   },
   "file_extension": ".py",
   "mimetype": "text/x-python",
   "name": "python",
   "nbconvert_exporter": "python",
   "pygments_lexer": "ipython3",
   "version": "3.6.2"
  }
 },
 "nbformat": 4,
 "nbformat_minor": 2
}
