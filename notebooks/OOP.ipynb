{
 "cells": [
  {
   "cell_type": "markdown",
   "metadata": {},
   "source": [
    "## Object Oriented Programming"
   ]
  },
  {
   "cell_type": "markdown",
   "metadata": {},
   "source": [
    "We use classes to build our own types. The class defines what form the class's data takes and what operations can be performed on that data.\n",
    "\n",
    "Then, from those classes, we create objects to represent one instance of data that has the form of the class.\n",
    "\n",
    "A short definition: an *object* is some data and some code \"packaged\" together.\n",
    "\n",
    "\n",
    "Class: Student -->  [ Student1: (Joe, Smith, N1234), Student2: (Mary, Margaret, N4566) ]"
   ]
  },
  {
   "cell_type": "code",
   "execution_count": null,
   "metadata": {},
   "outputs": [],
   "source": [
    "class Student(object):\n",
    "    '''\n",
    "    A simple Student class to represent a single student at NYU.\n",
    "    `__init__()` and `__str__()` are instances of *dunder* methods.\n",
    "    '''\n",
    "    def __init__(self, first='', last='', n_num=\"N0000\"):   # initializer\n",
    "        self.first_name_str = first\n",
    "        self.last_name_str = last\n",
    "        self.nyu_n_num = n_num\n",
    "        \n",
    "    def __str__(self):\n",
    "        return \"{} {}: ({})\".format(self.first_name_str, self.last_name_str, self.nyu_n_num)"
   ]
  },
  {
   "cell_type": "code",
   "execution_count": null,
   "metadata": {},
   "outputs": [],
   "source": [
    "new_student = Student(first=\"Porgie\", last=\"Tirebiter\", n_num=\"N23423\")\n",
    "str(new_student)"
   ]
  },
  {
   "cell_type": "markdown",
   "metadata": {},
   "source": [
    "Objects have attributes that are stored within the object (first_name_str, last_name_str, nyu_n_num)\n",
    "\n",
    "Objects can be interacted with via their methods, which may or may not change the attribute's values in the object.\n",
    "\n",
    "We've been using objects all along: list, dictionary, str, tuple.\n",
    "\n",
    "Think of a class as a blueprint for making objects.  Blueprint is a document that defines how to construct a building (house, etc.) You can make variations from that, but the blueprint can be used over and over again to make houses that have the same design (number of rooms, number of bathrooms, placement of windows), but different attribute values (color of front door, size of walkway, flooring material)."
   ]
  },
  {
   "cell_type": "markdown",
   "metadata": {},
   "source": [
    "You've been using classes already and likely didn't realize it...\n",
    "\n",
    "Examples: `list`, `dict`, `tuple`, `string`."
   ]
  },
  {
   "cell_type": "code",
   "execution_count": null,
   "metadata": {},
   "outputs": [],
   "source": [
    "# Object.method (.method is a sign it's an object)\n",
    "# student_name is a specific object that has been created\n",
    "# and intialized (instantiated)."
   ]
  },
  {
   "cell_type": "code",
   "execution_count": null,
   "metadata": {},
   "outputs": [],
   "source": [
    "student_name = \"Anakin Skywalker\"\n",
    "revised_name = student_name.lower() \n",
    "print(revised_name)\n",
    "print(id(student_name), id(revised_name))"
   ]
  },
  {
   "cell_type": "markdown",
   "metadata": {},
   "source": [
    "Another_student is a second string object:"
   ]
  },
  {
   "cell_type": "code",
   "execution_count": null,
   "metadata": {},
   "outputs": [],
   "source": [
    "another_student = \"Kylo Ren\"\n",
    "print(id(another_student))"
   ]
  },
  {
   "cell_type": "markdown",
   "metadata": {},
   "source": [
    "Calling the string class' __init__ method (known as a constructor) to create a new string object for Admiral Ackbar"
   ]
  },
  {
   "cell_type": "code",
   "execution_count": null,
   "metadata": {},
   "outputs": [],
   "source": [
    "big_character = str(\"Admiral Ackbar\")\n",
    "\n",
    "also_big_character = 'Grand Moff Tarkin'  # also calls string class' constructor"
   ]
  },
  {
   "cell_type": "markdown",
   "metadata": {},
   "source": [
    "### Terminology Notes\n",
    "\n",
    "**Class**: class is a template for making a new object of a given type (like `int`, `string`, or your own type)\n",
    "\n",
    "**Instance**: an object made from a class is an *instance* of that class (student_name is a string instance).\n",
    "\n",
    "Class can \"stamp out\" instances (infinite number), like a cookie cutter.\n",
    "\n",
    "The `int` type is a class which models the representation of an integer, this includes operations that can be performed on instances of the int type. "
   ]
  },
  {
   "cell_type": "markdown",
   "metadata": {},
   "source": [
    "### Built-In Classes and Instances\n",
    "\n",
    "Data structures that are built into the language already are defined as a class:\n",
    "list, tuple, dictionary, set, string\n",
    "\n",
    "You can make an instance using the built-in constructors:"
   ]
  },
  {
   "cell_type": "code",
   "execution_count": null,
   "metadata": {},
   "outputs": [],
   "source": [
    "some_list = [1, 2, 3] \n",
    "some_dict = dict(food=1, beverage=2, desert=3)\n",
    "string = str(123.4)"
   ]
  },
  {
   "cell_type": "code",
   "execution_count": null,
   "metadata": {},
   "outputs": [],
   "source": [
    "print(type(some_list), type(some_dict), type(string))"
   ]
  },
  {
   "cell_type": "markdown",
   "metadata": {},
   "source": [
    "### Details of a class"
   ]
  },
  {
   "cell_type": "code",
   "execution_count": null,
   "metadata": {},
   "outputs": [],
   "source": [
    "class StudentWorker(Student):\n",
    "    '''\n",
    "    A StudentWorker class to represent a single\n",
    "    student who also works at NYU.\n",
    "    '''\n",
    "    def __init__(self, first='', last='', n_num=\"N0000\", job=None):   # initializer\n",
    "        super().__init__(first, last, n_num)\n",
    "        self.job = job\n",
    "        \n",
    "    def __str__(self):\n",
    "        return super().__str__() + \"; works as: {}\".format(self.job)\n",
    "    \n",
    "worker = StudentWorker(first=\"Joe\", last=\"Smith\", n_num=\"N98098\", job=\"librarian\")\n",
    "print(worker)"
   ]
  },
  {
   "cell_type": "markdown",
   "metadata": {},
   "source": [
    "Line 1:\n",
    "\n",
    "- 'class': keyword that indicates that a class is being defined\n",
    "- 'StudentWorker': name of the class we are defining\n",
    "- 'Student': defines that the StudentWorker class' parent is the Student class (inheritance)\n",
    "\n",
    "All of this code is in the scope of the class (it's \"in\" the class).\n",
    "\n",
    "`__init__()` defines an initializer method (constructor) which is called to create an instance of Student\n",
    "\n",
    "`some_student = Student('Jimmy', 'Hoffa', 'N44554322')`\n",
    "\n",
    "`self`: in class methods, refers to the object that calls the method\n",
    "        \n",
    "`some_student.__str__()`\n",
    "        \n",
    "self if \"some_student\": allows the method to be able to refer to the object\n",
    "\n",
    "Reference to self must be the first parameter, but it is not used when we call the method value for self at the time of the call is autoamatically populated by Python.\n",
    "\n",
    "The code in `__init__()` defines new attributes of the class (`first_name`, `last_name`, `nyu_n`) which will contain the values stored for each object of the Student class.\n",
    "\n",
    "`dir()` function shows a classes members (methods and attributes)."
   ]
  },
  {
   "cell_type": "code",
   "execution_count": null,
   "metadata": {},
   "outputs": [],
   "source": [
    "print(dir(Student))\n",
    "help(Student)\n",
    "help(StudentWorker)"
   ]
  },
  {
   "cell_type": "code",
   "execution_count": null,
   "metadata": {},
   "outputs": [],
   "source": [
    "a_student = Student('Carson', 'Wentz', 'N23234')\n",
    "print(dir(a_student))"
   ]
  },
  {
   "cell_type": "code",
   "execution_count": null,
   "metadata": {},
   "outputs": [],
   "source": [
    "x = 7\n",
    "dir(x)"
   ]
  },
  {
   "cell_type": "code",
   "execution_count": null,
   "metadata": {},
   "outputs": [],
   "source": [
    "x.__pow__(2)"
   ]
  },
  {
   "cell_type": "code",
   "execution_count": null,
   "metadata": {},
   "outputs": [],
   "source": [
    "x.bit_length()"
   ]
  },
  {
   "cell_type": "markdown",
   "metadata": {},
   "source": [
    "### Example: Let's Play Dice!\n",
    "\n",
    "First, we will create our `Die` object:"
   ]
  },
  {
   "cell_type": "code",
   "execution_count": 23,
   "metadata": {},
   "outputs": [],
   "source": [
    "import random\n",
    "\n",
    "DEF_FACES = 6\n",
    "\n",
    "class Die():\n",
    "    '''\n",
    "    A class to represent a die for playing games with.\n",
    "    Just has a single field: which face is up.\n",
    "    '''\n",
    "    def __init__(self, faces=DEF_FACES):\n",
    "        self.num_faces = faces\n",
    "        self.face = 1\n",
    "\n",
    "    def roll(self):\n",
    "        self.face = random.randint(1, self.num_faces)\n",
    "\n",
    "    def get_value(self):\n",
    "        return self.face\n",
    "    \n",
    "    def __str__(self):\n",
    "        return \"Die with face value of \" + str(self.get_value())"
   ]
  },
  {
   "cell_type": "code",
   "execution_count": 24,
   "metadata": {},
   "outputs": [
    {
     "name": "stdout",
     "output_type": "stream",
     "text": [
      "new_die value =  1\n",
      "new_die value =  6\n",
      "Fllllbbbbpppp!!!!\n"
     ]
    }
   ],
   "source": [
    "new_die = Die()\n",
    "print(\"new_die value = \", new_die.get_value())\n",
    "new_die.roll()\n",
    "print(\"new_die value = \", new_die.get_value())\n",
    "print(new_die)"
   ]
  },
  {
   "cell_type": "markdown",
   "metadata": {},
   "source": [
    "Now let's use it:"
   ]
  },
  {
   "cell_type": "code",
   "execution_count": 3,
   "metadata": {},
   "outputs": [
    {
     "name": "stdout",
     "output_type": "stream",
     "text": [
      "4 2\n",
      "7 1\n",
      "2 2\n",
      "3 1\n",
      "5 1\n",
      "2 2\n",
      "3 1\n",
      "6 2\n",
      "6 2\n",
      "5 1\n",
      "1 1\n",
      "1 2\n",
      "3 2\n",
      "6 1\n",
      "5 1\n",
      "7 1\n",
      "3 1\n",
      "1 1\n",
      "2 2\n"
     ]
    }
   ],
   "source": [
    "die1 = Die(faces=8)\n",
    "die2 = Die(faces=2)\n",
    "\n",
    "for _ in range(1, 20):\n",
    "    die1.roll()\n",
    "    die2.roll()\n",
    "\n",
    "    print(die1.get_value(), die2.get_value())"
   ]
  },
  {
   "cell_type": "markdown",
   "metadata": {},
   "source": [
    "### A Playlist App\n",
    "\n"
   ]
  },
  {
   "cell_type": "code",
   "execution_count": 39,
   "metadata": {},
   "outputs": [],
   "source": [
    "class Song:\n",
    "    def __init__(self, artist, song_title, record_label=\"Unknown Label\",\n",
    "                 runtime=(0, 0), genre=None):\n",
    "        self.artist = artist\n",
    "        self.title = song_title\n",
    "        self.label = record_label\n",
    "        self.runtime = runtime\n",
    "        self.genre = genre\n",
    "    \n",
    "    def __str__(self):\n",
    "        return \"'{}' by {} ({}): {:d}:{:02d}, Genre: {}\".format(self.title,\n",
    "                                                     self.artist,\n",
    "                                                     self.label,\n",
    "                                                     self.runtime[0],\n",
    "                                                     self.runtime[1],\n",
    "                                                     self.genre)"
   ]
  },
  {
   "cell_type": "code",
   "execution_count": 26,
   "metadata": {},
   "outputs": [
    {
     "name": "stdout",
     "output_type": "stream",
     "text": [
      "'My Song' by Elton John (Unknown Label): 0:00\n"
     ]
    }
   ],
   "source": [
    "my_song = Song(\"Elton John\", \"My Song\")\n",
    "print(my_song)"
   ]
  },
  {
   "cell_type": "code",
   "execution_count": 41,
   "metadata": {},
   "outputs": [
    {
     "data": {
      "text/plain": [
       "['__add__',\n",
       " '__class__',\n",
       " '__contains__',\n",
       " '__delattr__',\n",
       " '__delitem__',\n",
       " '__dir__',\n",
       " '__doc__',\n",
       " '__eq__',\n",
       " '__format__',\n",
       " '__ge__',\n",
       " '__getattribute__',\n",
       " '__getitem__',\n",
       " '__gt__',\n",
       " '__hash__',\n",
       " '__iadd__',\n",
       " '__imul__',\n",
       " '__init__',\n",
       " '__init_subclass__',\n",
       " '__iter__',\n",
       " '__le__',\n",
       " '__len__',\n",
       " '__lt__',\n",
       " '__mul__',\n",
       " '__ne__',\n",
       " '__new__',\n",
       " '__reduce__',\n",
       " '__reduce_ex__',\n",
       " '__repr__',\n",
       " '__reversed__',\n",
       " '__rmul__',\n",
       " '__setattr__',\n",
       " '__setitem__',\n",
       " '__sizeof__',\n",
       " '__str__',\n",
       " '__subclasshook__',\n",
       " 'append',\n",
       " 'clear',\n",
       " 'copy',\n",
       " 'count',\n",
       " 'extend',\n",
       " 'index',\n",
       " 'insert',\n",
       " 'pop',\n",
       " 'remove',\n",
       " 'reverse',\n",
       " 'sort']"
      ]
     },
     "execution_count": 41,
     "metadata": {},
     "output_type": "execute_result"
    }
   ],
   "source": [
    "mylist = []\n",
    "dir(mylist)"
   ]
  },
  {
   "cell_type": "code",
   "execution_count": 61,
   "metadata": {},
   "outputs": [],
   "source": [
    "class Playlist:\n",
    "    def __init__(self, name, songs=[]):\n",
    "        self.name = name\n",
    "        self.songs = songs.copy()\n",
    "\n",
    "    def add_song(self, artist=None, song_title=None, record_label=None,\n",
    "                 runtime=None, genre=None):\n",
    "        new_song = Song(artist, song_title, record_label, runtime, genre)\n",
    "        self.songs.append(new_song)\n",
    "        \n",
    "    def get_playlist_length(self):\n",
    "        return len(self.songs)\n",
    "    \n",
    "    def get_total_runtime(self):\n",
    "        total_minutes = 0\n",
    "        total_seconds = 0\n",
    "        for songs in self.songs:\n",
    "            total_minutes += songs.runtime[0]\n",
    "            total_seconds += songs.runtime[1]\n",
    "        \n",
    "        total_minutes += int(total_seconds / 60)\n",
    "        total_seconds = total_seconds % 60\n",
    "        return (total_minutes, total_seconds)\n",
    "\n",
    "    def __add__(self, other):\n",
    "        return Playlist(self.name + \" + \" + other.name, self.songs + other.songs)\n",
    "    \n",
    "    def __mul__(self, num_times):\n",
    "        return Playlist(self.name + \" * \" + str(num_times), self.songs * num_times)\n",
    "   \n",
    "    def __str__(self):\n",
    "        totmin, totsec = self.get_total_runtime()\n",
    "        result = \"{} (total run time of {:d}:{:02d})\\n\".format(self.name, totmin, totsec)\n",
    "        for song in self.songs:\n",
    "            result += \" \" * 5 + str(song) + \"\\n\"\n",
    "        return result"
   ]
  },
  {
   "cell_type": "code",
   "execution_count": 65,
   "metadata": {},
   "outputs": [
    {
     "name": "stdout",
     "output_type": "stream",
     "text": [
      "Top 100 - 4/10/20 (total run time of 12:13)\n",
      "     'Toosie Slide' by Drake (Republic): 3:04, Genre: Rap\n",
      "     'Blinding Lights' by The Weeknd (Republic): 3:11, Genre: None\n",
      "     'The Box' by Roddy Ricch (Atlantic Records): 2:59, Genre: None\n",
      "     'Savage' by Megan Thee Stallion (None): 2:59, Genre: None\n",
      "\n",
      "Fela (total run time of 27:48)\n",
      "     'Mr. Follow Follow' by Fela Kuti (Island): 12:04, Genre: Afrobeat\n",
      "     'I Be Lady' by Fela Kuti (Island): 15:44, Genre: Afrobeat\n",
      "\n",
      "Fela * 8 (total run time of 222:24)\n",
      "     'Mr. Follow Follow' by Fela Kuti (Island): 12:04, Genre: Afrobeat\n",
      "     'I Be Lady' by Fela Kuti (Island): 15:44, Genre: Afrobeat\n",
      "     'Mr. Follow Follow' by Fela Kuti (Island): 12:04, Genre: Afrobeat\n",
      "     'I Be Lady' by Fela Kuti (Island): 15:44, Genre: Afrobeat\n",
      "     'Mr. Follow Follow' by Fela Kuti (Island): 12:04, Genre: Afrobeat\n",
      "     'I Be Lady' by Fela Kuti (Island): 15:44, Genre: Afrobeat\n",
      "     'Mr. Follow Follow' by Fela Kuti (Island): 12:04, Genre: Afrobeat\n",
      "     'I Be Lady' by Fela Kuti (Island): 15:44, Genre: Afrobeat\n",
      "     'Mr. Follow Follow' by Fela Kuti (Island): 12:04, Genre: Afrobeat\n",
      "     'I Be Lady' by Fela Kuti (Island): 15:44, Genre: Afrobeat\n",
      "     'Mr. Follow Follow' by Fela Kuti (Island): 12:04, Genre: Afrobeat\n",
      "     'I Be Lady' by Fela Kuti (Island): 15:44, Genre: Afrobeat\n",
      "     'Mr. Follow Follow' by Fela Kuti (Island): 12:04, Genre: Afrobeat\n",
      "     'I Be Lady' by Fela Kuti (Island): 15:44, Genre: Afrobeat\n",
      "     'Mr. Follow Follow' by Fela Kuti (Island): 12:04, Genre: Afrobeat\n",
      "     'I Be Lady' by Fela Kuti (Island): 15:44, Genre: Afrobeat\n",
      "\n",
      "Top 100 - 4/10/20 + Fela * 8 + Top 100 - 4/10/20 (total run time of 246:50)\n",
      "     'Toosie Slide' by Drake (Republic): 3:04, Genre: Rap\n",
      "     'Blinding Lights' by The Weeknd (Republic): 3:11, Genre: None\n",
      "     'The Box' by Roddy Ricch (Atlantic Records): 2:59, Genre: None\n",
      "     'Savage' by Megan Thee Stallion (None): 2:59, Genre: None\n",
      "     'Mr. Follow Follow' by Fela Kuti (Island): 12:04, Genre: Afrobeat\n",
      "     'I Be Lady' by Fela Kuti (Island): 15:44, Genre: Afrobeat\n",
      "     'Mr. Follow Follow' by Fela Kuti (Island): 12:04, Genre: Afrobeat\n",
      "     'I Be Lady' by Fela Kuti (Island): 15:44, Genre: Afrobeat\n",
      "     'Mr. Follow Follow' by Fela Kuti (Island): 12:04, Genre: Afrobeat\n",
      "     'I Be Lady' by Fela Kuti (Island): 15:44, Genre: Afrobeat\n",
      "     'Mr. Follow Follow' by Fela Kuti (Island): 12:04, Genre: Afrobeat\n",
      "     'I Be Lady' by Fela Kuti (Island): 15:44, Genre: Afrobeat\n",
      "     'Mr. Follow Follow' by Fela Kuti (Island): 12:04, Genre: Afrobeat\n",
      "     'I Be Lady' by Fela Kuti (Island): 15:44, Genre: Afrobeat\n",
      "     'Mr. Follow Follow' by Fela Kuti (Island): 12:04, Genre: Afrobeat\n",
      "     'I Be Lady' by Fela Kuti (Island): 15:44, Genre: Afrobeat\n",
      "     'Mr. Follow Follow' by Fela Kuti (Island): 12:04, Genre: Afrobeat\n",
      "     'I Be Lady' by Fela Kuti (Island): 15:44, Genre: Afrobeat\n",
      "     'Mr. Follow Follow' by Fela Kuti (Island): 12:04, Genre: Afrobeat\n",
      "     'I Be Lady' by Fela Kuti (Island): 15:44, Genre: Afrobeat\n",
      "     'Toosie Slide' by Drake (Republic): 3:04, Genre: Rap\n",
      "     'Blinding Lights' by The Weeknd (Republic): 3:11, Genre: None\n",
      "     'The Box' by Roddy Ricch (Atlantic Records): 2:59, Genre: None\n",
      "     'Savage' by Megan Thee Stallion (None): 2:59, Genre: None\n",
      "\n"
     ]
    }
   ],
   "source": [
    "playlist_1 = Playlist(\"Top 100 - 4/10/20\")\n",
    "\n",
    "playlist_1.add_song(\"Drake\", \"Toosie Slide\", \"Republic\", (3, 4), \"Rap\")\n",
    "playlist_1.add_song(\"The Weeknd\", \"Blinding Lights\", \"Republic\", (3, 11))\n",
    "playlist_1.add_song(\"Roddy Ricch\", \"The Box\", \"Atlantic Records\", (2, 59))\n",
    "playlist_1.add_song(\"Megan Thee Stallion\", \"Savage\", None, (2, 59))\n",
    "print(playlist_1)\n",
    "\n",
    "fela = Playlist(\"Fela\", [])\n",
    "fela.add_song(\"Fela Kuti\", \"Mr. Follow Follow\", \"Island\", (12, 4), \"Afrobeat\")\n",
    "fela.add_song(\"Fela Kuti\", \"I Be Lady\", \"Island\", (15, 44), \"Afrobeat\")\n",
    "print(fela)\n",
    "\n",
    "lots_of_fela = fela * 8\n",
    "print(lots_of_fela)\n",
    "\n",
    "combined_list = playlist_1 + lots_of_fela + playlist_1\n",
    "print(combined_list)"
   ]
  },
  {
   "cell_type": "markdown",
   "metadata": {},
   "source": [
    "### Dunder methods\n",
    "\n",
    "These are special methods for objects that have a *double underscore* to start and end the name of the method.\n",
    "\n",
    "We've already met `__init__()` and `__str__()`. There are many more. They allow our class to respond properly to built-in Python functions and operators."
   ]
  },
  {
   "cell_type": "code",
   "execution_count": null,
   "metadata": {},
   "outputs": [],
   "source": [
    "class FunnyString(object):\n",
    "    def __init__(self, value):\n",
    "        self.value = value\n",
    "        \n",
    "    def __str__(self):\n",
    "        return str(self.value)\n",
    "    \n",
    "    def __len__(self):\n",
    "        return 5000000\n",
    "    \n",
    "    def __add__(self, str2):\n",
    "#    str1 + str2 => str1.__add__(str2)\n",
    "        temp = self.value\n",
    "        self.value = str2.value\n",
    "        str2.value = temp\n",
    "\n",
    "    def __sub__(self, param2):\n",
    "        new_str = self.value\n",
    "        for c in param2.value:\n",
    "            new_str = new_str.replace(c, '')\n",
    "        return FunnyString(new_str)\n",
    "    \n",
    "    def __mul__(self, param2):\n",
    "        return 42\n",
    "    \n",
    "    def __call__(self):\n",
    "        return \"You called?\""
   ]
  },
  {
   "cell_type": "code",
   "execution_count": null,
   "metadata": {},
   "outputs": [],
   "source": [
    "the_string = \"DO NOT WRITE ON THE BACK OF ANY PAGE!\"\n",
    "print('The length of the string the_string is {}.'.format(len(the_string)))\n",
    "\n",
    "a_string = FunnyString(the_string)\n",
    "print('The value of a_string is {}.'.format(a_string))\n",
    "print('The length of the FunnyString object a_string is {}.'.format(len(a_string)))\n",
    "\n",
    "b_string = FunnyString(\"RUTGERS\")\n",
    "result = a_string - b_string\n",
    "print(a_string)\n",
    "print(b_string)\n",
    "print(result)\n",
    "print(type(result))\n",
    "print(a_string())"
   ]
  },
  {
   "cell_type": "markdown",
   "metadata": {},
   "source": [
    "#### A Complex Number Class"
   ]
  },
  {
   "cell_type": "code",
   "execution_count": 1,
   "metadata": {},
   "outputs": [
    {
     "name": "stdout",
     "output_type": "stream",
     "text": [
      "0.0 + 0.0i\n"
     ]
    }
   ],
   "source": [
    "class Complex(object):\n",
    "    '''\n",
    "    A complex number class.\n",
    "    '''\n",
    "    def __init__(self, real=0.0, imag=0.0):\n",
    "        self.real = real\n",
    "        self.imag = imag\n",
    "\n",
    "    def __str__(self):\n",
    "        return str(self.real) + \" + \" + str(self.imag) + 'i'\n",
    "\n",
    "zero = Complex()\n",
    "print(zero)   # equivalent to print(str(zero))"
   ]
  },
  {
   "cell_type": "markdown",
   "metadata": {},
   "source": [
    "#### Some Dunder Methods"
   ]
  },
  {
   "cell_type": "markdown",
   "metadata": {},
   "source": [
    "#### Math\n",
    "\n",
    "- `__add__()`: Addition --> x+y\n",
    "\n",
    "- `__sub__()`: Subtraction --> x-y\n",
    "\n",
    "- `__mul__()`: Multiplication --> x*y\n",
    "\n",
    "- `__div__()`: Division --> x/y\n",
    "\n",
    "- `__iadd__()`: +=\n",
    "\n",
    "- `__isub__()`: -=\n",
    "\n",
    "- `__imul__()`: *=\n",
    "\n",
    "- `__idiv__()`: /=\n",
    "\n",
    "\n",
    "\n",
    "#### Comparisons\n",
    "\n",
    "- `__eq__()`: Equality --> x == y\n",
    "\n",
    "- `__gt__()`: Greater Than --> x > y\n",
    "\n",
    "- `__ge__()`: Greater Than Or Equal --> x >= y\n",
    "\n",
    "- `__lt__()`: Less Than --> x < y\n",
    "\n",
    "- `__le__()`: Less Than Or Equal --> x <= y\n",
    "\n",
    "- `__ne__()`: Not Equal --> x != y\n",
    "\n",
    "\n",
    "#### Collections\n",
    "\n",
    "- `__len__()`: Length --> len(x)\n",
    "\n",
    "- `__contains__()`: Does the sequence x, contain y --> x in y\n",
    "\n",
    "- `__getitem__()`: Access element key of sequence x --> x[key]\n",
    "\n",
    "- `__setitem__()`: Set element key of sequence x to value y -> x[key]=y\n",
    "\n",
    "- `__iter__()`: Return an iterator over the collection.\n",
    "\n",
    "\n",
    "#### General methods\n",
    "\n",
    "- `__init__()`: Constructor --> x = MyClass()\n",
    "\n",
    "- `__str__()`: Convert to a readable string --> print(x), str(x)\n",
    "\n",
    "- `__repr__()`: returns a representation of x --> x.__repr__() or repr(x)"
   ]
  },
  {
   "cell_type": "code",
   "execution_count": null,
   "metadata": {},
   "outputs": [],
   "source": []
  }
 ],
 "metadata": {
  "kernelspec": {
   "display_name": "Python 3",
   "language": "python",
   "name": "python3"
  },
  "language_info": {
   "codemirror_mode": {
    "name": "ipython",
    "version": 3
   },
   "file_extension": ".py",
   "mimetype": "text/x-python",
   "name": "python",
   "nbconvert_exporter": "python",
   "pygments_lexer": "ipython3",
   "version": "3.6.9"
  }
 },
 "nbformat": 4,
 "nbformat_minor": 2
}
