{
 "cells": [
  {
   "cell_type": "markdown",
   "metadata": {},
   "source": [
    "## Object Oriented Programming"
   ]
  },
  {
   "cell_type": "markdown",
   "metadata": {},
   "source": [
    "We use classes to build our own data types.  Then, from those classes, we create objects to represent one instance of data that has the form of the class.\n",
    "\n",
    "Class: Student -->  [ Student1: (Joe, Smith, N1234), Student2: (Mary, Margaret, N4566) ]"
   ]
  },
  {
   "cell_type": "code",
   "execution_count": null,
   "metadata": {},
   "outputs": [],
   "source": [
    "class Student(object):\n",
    "    ''' A simple Student class to represent a single student at NYU'''\n",
    "    def __init__(self, first='', last='', n_num=\"N0000\"):   # initializer\n",
    "        self.first_name_str = first\n",
    "        self.last_name_str = last\n",
    "        self.nyu_n_num = n_num\n",
    "        \n",
    "    def __str__(self):\n",
    "        return \"{} {}: ({})\".format(self.first_name_str, self.last_name_str, self.nyu_n_num)"
   ]
  },
  {
   "cell_type": "markdown",
   "metadata": {},
   "source": [
    "Objects have attributes that are stored within the object (first_name_str, last_name_str, nyu_n_num)\n",
    "\n",
    "Objects can be interacted with via their methods, which may or may not change the attribute's values in the object.\n",
    "\n",
    "We've been using objects all along: list, dictionary, str, tuple.\n",
    "\n",
    "Think of a class as a blueprint for making objects.  Blueprint is a document that defines how to construct a building (house, etc.) You can make variations from that, but the blueprint can be used over and over again to make houses that have the same design (number of rooms, number of bathrooms, placement of windows), but different attribute values (color of front door, size of walkway, flooring material)."
   ]
  },
  {
   "cell_type": "code",
   "execution_count": null,
   "metadata": {},
   "outputs": [],
   "source": []
  }
 ],
 "metadata": {
  "kernelspec": {
   "display_name": "Python 3",
   "language": "python",
   "name": "python3"
  },
  "language_info": {
   "codemirror_mode": {
    "name": "ipython",
    "version": 3
   },
   "file_extension": ".py",
   "mimetype": "text/x-python",
   "name": "python",
   "nbconvert_exporter": "python",
   "pygments_lexer": "ipython3",
   "version": "3.6.2"
  }
 },
 "nbformat": 4,
 "nbformat_minor": 2
}
