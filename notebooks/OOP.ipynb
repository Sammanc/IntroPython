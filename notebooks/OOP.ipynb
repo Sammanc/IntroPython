{
 "cells": [
  {
   "cell_type": "markdown",
   "metadata": {},
   "source": [
    "## Object Oriented Programming"
   ]
  },
  {
   "cell_type": "markdown",
   "metadata": {},
   "source": [
    "We use classes to build our own data types.  Then, from those classes, we create objects to represent one instance of data that has the form of the class.\n",
    "\n",
    "Class: Student -->  [ Student1: (Joe, Smith, N1234), Student2: (Mary, Margaret, N4566) ]"
   ]
  },
  {
   "cell_type": "code",
   "execution_count": null,
   "metadata": {},
   "outputs": [],
   "source": [
    "class Student(object):\n",
    "    ''' A simple Student class to represent a single student at NYU'''\n",
    "    def __init__(self, first='', last='', n_num=\"N0000\"):   # initializer\n",
    "        self.first_name_str = first\n",
    "        self.last_name_str = last\n",
    "        self.nyu_n_num = n_num\n",
    "        \n",
    "    def __str__(self):\n",
    "        return \"{} {}: ({})\".format(self.first_name_str, self.last_name_str, self.nyu_n_num)"
   ]
  },
  {
   "cell_type": "markdown",
   "metadata": {},
   "source": [
    "Objects have attributes that are stored within the object (first_name_str, last_name_str, nyu_n_num)\n",
    "\n",
    "Objects can be interacted with via their methods, which may or may not change the attribute's values in the object.\n",
    "\n",
    "We've been using objects all along: list, dictionary, str, tuple.\n",
    "\n",
    "Think of a class as a blueprint for making objects.  Blueprint is a document that defines how to construct a building (house, etc.) You can make variations from that, but the blueprint can be used over and over again to make houses that have the same design (number of rooms, number of bathrooms, placement of windows), but different attribute values (color of front door, size of walkway, flooring material)."
   ]
  },
  {
   "cell_type": "code",
   "execution_count": null,
   "metadata": {},
   "outputs": [],
   "source": [
    "# You've been using classes already and likely didn't realize it...\n",
    "\n",
    "# Examples:"
   ]
  },
  {
   "cell_type": "code",
   "execution_count": null,
   "metadata": {},
   "outputs": [],
   "source": [
    "# Object.method (.method is a sign it's an object)\n",
    "# student_name is a specific object that has been created\n",
    "# and intialized (instantiated)."
   ]
  },
  {
   "cell_type": "code",
   "execution_count": null,
   "metadata": {},
   "outputs": [],
   "source": [
    "student_name = \"Anakin Skywalker\"\n",
    "revised_name = student_name.lower() "
   ]
  },
  {
   "cell_type": "markdown",
   "metadata": {},
   "source": [
    "Another_student is a second string object:"
   ]
  },
  {
   "cell_type": "code",
   "execution_count": null,
   "metadata": {},
   "outputs": [],
   "source": [
    "another_student = \"Kylo Ren\""
   ]
  },
  {
   "cell_type": "markdown",
   "metadata": {},
   "source": [
    "Calling the string class' __init__ method (known as a constructor) to create a new string object for Admiral Ackbar"
   ]
  },
  {
   "cell_type": "code",
   "execution_count": null,
   "metadata": {},
   "outputs": [],
   "source": [
    "big_character = str(\"Admiral Ackbar\")\n",
    "\n",
    "also_big_character = 'Grand Moff Tarkin'  # also calls string class' constructor"
   ]
  },
  {
   "cell_type": "markdown",
   "metadata": {},
   "source": [
    "### Terminology Notes\n",
    "\n",
    "**Class**: class is a template for making a new object of a given type (like an int, string, but your own type)\n",
    "\n",
    "**Instance**: an object made from a class is an /instance/ of that class (student_name is a string instance)\n",
    "\n",
    "Class can \"stamp out\" instances (infinite number), like a cookie cutter\n",
    "\n",
    "The `int` type is a class which models the representation of an integer, this includes operations that can be\n",
    "performed on instances of the int type. "
   ]
  },
  {
   "cell_type": "markdown",
   "metadata": {},
   "source": [
    "### Built-In Classes and Instances\n",
    "\n",
    "Data structures that are built into the language already are defined as a class:\n",
    "list, tuple, dictionary, set, string\n",
    "\n",
    "You can make an instance using the built-in constructors:"
   ]
  },
  {
   "cell_type": "code",
   "execution_count": 9,
   "metadata": {},
   "outputs": [],
   "source": [
    "some_list = [1, 2, 3] \n",
    "some_dict = dict(food=1, beverage=2, desert=3)\n",
    "string = str(123.4)"
   ]
  },
  {
   "cell_type": "markdown",
   "metadata": {},
   "source": [
    "Some of these have shortcuts: '' (string), [] (list), () (tuple), {} (dictionary)"
   ]
  },
  {
   "cell_type": "code",
   "execution_count": 10,
   "metadata": {},
   "outputs": [
    {
     "name": "stdout",
     "output_type": "stream",
     "text": [
      "<class 'list'> <class 'dict'> <class 'str'>\n"
     ]
    }
   ],
   "source": [
    "print(type(some_list), type(some_dict), type(string))"
   ]
  },
  {
   "cell_type": "markdown",
   "metadata": {},
   "source": [
    "### Details of a class"
   ]
  },
  {
   "cell_type": "code",
   "execution_count": 16,
   "metadata": {},
   "outputs": [],
   "source": [
    "class Student(object):\n",
    "    '''\n",
    "    A simple Student class to represent a single\n",
    "    student at NYU.\n",
    "    '''\n",
    "    def __init__(self, first='', last='', n_num=\"N0000\"):   # initializer\n",
    "        self.first_name = first\n",
    "        self.last_name = last\n",
    "        self.nyu_n = n_num\n",
    "        \n",
    "    def __str__(self):\n",
    "        return \"{} {}: ({})\".format(self.first_name, \n",
    "                                    self.last_name,\n",
    "                                    self.nyu_n)"
   ]
  },
  {
   "cell_type": "markdown",
   "metadata": {},
   "source": [
    "Line 1:\n",
    "\n",
    "- 'class': keyword that indicates that a class is being defined\n",
    "- 'Student': name of the class we are defining\n",
    "- 'object': defines that the Student class' parent is the object class (inheritance)\n",
    "\n",
    "All of this code is in the scope of the class (it's \"in\" the class).\n",
    "\n",
    "`__init__()` defines an initializer method (constructor) which is called to create an instance of Student\n",
    "\n",
    "`some_student = Student('Jimmy', 'Hoffa', 'N44554322')`\n",
    "\n",
    "`self`: in class methods, refers to the object that calls the method\n",
    "        \n",
    "`some_student.__str__()`\n",
    "        \n",
    "self if \"some_student\": allows the method to be able to refer to the object\n",
    "\n",
    "Reference to self must be the first parameter, but it is not used when we call the method value for self at the time of the call is autoamatically populated by Python.\n",
    "\n",
    "The code in `__init__()` defines new attributes of the class (`first_name`, `last_name`, `nyu_n`) which will contain the values stored for each object of the Student class.\n",
    "\n",
    "`dir()` function shows a classes members (methods and attributes)."
   ]
  },
  {
   "cell_type": "code",
   "execution_count": 17,
   "metadata": {},
   "outputs": [
    {
     "name": "stdout",
     "output_type": "stream",
     "text": [
      "['__class__', '__delattr__', '__dict__', '__dir__', '__doc__', '__eq__', '__format__', '__ge__', '__getattribute__', '__gt__', '__hash__', '__init__', '__init_subclass__', '__le__', '__lt__', '__module__', '__ne__', '__new__', '__reduce__', '__reduce_ex__', '__repr__', '__setattr__', '__sizeof__', '__str__', '__subclasshook__', '__weakref__']\n",
      "--------------------------------------------------\n",
      "['__class__', '__delattr__', '__dict__', '__dir__', '__doc__', '__eq__', '__format__', '__ge__', '__getattribute__', '__gt__', '__hash__', '__init__', '__init_subclass__', '__le__', '__lt__', '__module__', '__ne__', '__new__', '__reduce__', '__reduce_ex__', '__repr__', '__setattr__', '__sizeof__', '__str__', '__subclasshook__', '__weakref__', 'first_name', 'last_name', 'nyu_n']\n"
     ]
    }
   ],
   "source": [
    "print(dir(Student))     \n",
    "\n",
    "a_student = Student('Carson', 'Wentz', 'N23234')\n",
    "print(\"-\"*50)\n",
    "print(dir(a_student))"
   ]
  },
  {
   "cell_type": "code",
   "execution_count": 18,
   "metadata": {},
   "outputs": [
    {
     "data": {
      "text/plain": [
       "['__abs__',\n",
       " '__add__',\n",
       " '__and__',\n",
       " '__bool__',\n",
       " '__ceil__',\n",
       " '__class__',\n",
       " '__delattr__',\n",
       " '__dir__',\n",
       " '__divmod__',\n",
       " '__doc__',\n",
       " '__eq__',\n",
       " '__float__',\n",
       " '__floor__',\n",
       " '__floordiv__',\n",
       " '__format__',\n",
       " '__ge__',\n",
       " '__getattribute__',\n",
       " '__getnewargs__',\n",
       " '__gt__',\n",
       " '__hash__',\n",
       " '__index__',\n",
       " '__init__',\n",
       " '__init_subclass__',\n",
       " '__int__',\n",
       " '__invert__',\n",
       " '__le__',\n",
       " '__lshift__',\n",
       " '__lt__',\n",
       " '__mod__',\n",
       " '__mul__',\n",
       " '__ne__',\n",
       " '__neg__',\n",
       " '__new__',\n",
       " '__or__',\n",
       " '__pos__',\n",
       " '__pow__',\n",
       " '__radd__',\n",
       " '__rand__',\n",
       " '__rdivmod__',\n",
       " '__reduce__',\n",
       " '__reduce_ex__',\n",
       " '__repr__',\n",
       " '__rfloordiv__',\n",
       " '__rlshift__',\n",
       " '__rmod__',\n",
       " '__rmul__',\n",
       " '__ror__',\n",
       " '__round__',\n",
       " '__rpow__',\n",
       " '__rrshift__',\n",
       " '__rshift__',\n",
       " '__rsub__',\n",
       " '__rtruediv__',\n",
       " '__rxor__',\n",
       " '__setattr__',\n",
       " '__sizeof__',\n",
       " '__str__',\n",
       " '__sub__',\n",
       " '__subclasshook__',\n",
       " '__truediv__',\n",
       " '__trunc__',\n",
       " '__xor__',\n",
       " 'bit_length',\n",
       " 'conjugate',\n",
       " 'denominator',\n",
       " 'from_bytes',\n",
       " 'imag',\n",
       " 'numerator',\n",
       " 'real',\n",
       " 'to_bytes']"
      ]
     },
     "execution_count": 18,
     "metadata": {},
     "output_type": "execute_result"
    }
   ],
   "source": [
    "dir(7)"
   ]
  },
  {
   "cell_type": "code",
   "execution_count": null,
   "metadata": {},
   "outputs": [],
   "source": []
  }
 ],
 "metadata": {
  "kernelspec": {
   "display_name": "Python 3",
   "language": "python",
   "name": "python3"
  },
  "language_info": {
   "codemirror_mode": {
    "name": "ipython",
    "version": 3
   },
   "file_extension": ".py",
   "mimetype": "text/x-python",
   "name": "python",
   "nbconvert_exporter": "python",
   "pygments_lexer": "ipython3",
   "version": "3.6.2"
  }
 },
 "nbformat": 4,
 "nbformat_minor": 2
}
