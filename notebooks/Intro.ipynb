{
 "cells": [
  {
   "cell_type": "markdown",
   "metadata": {},
   "source": [
    "## Welcome to Introductory Programming Using Python!"
   ]
  },
  {
   "cell_type": "markdown",
   "metadata": {},
   "source": [
    "This class is meant to be a first programming course. Such a course could use any language, but we have chosen Python, because it is:\n",
    "* Easy to use\n",
    "* Yet powerful\n",
    "* And used widely\n",
    "\n",
    "Given this is an introduction to programming, our focus will be on features common to most programming languages, not on those specific to Python. And by the way, we will use Python version 3: version 2 is now defunct.\n",
    "\n",
    "The tool I am using here is called a *Jupyter Notebook*. It is great for our purposes since it allows mixing formatted text and live code. In addition, I can share the notebooks I create with you, which I will do using a site called *GitHub*, the most popular source code repository in the world.\n",
    "\n",
    "For your own Python development, you will probably use an *IDE* (integrated development environment), such as *PyCharm* or *Spyder*, or you can simply type `python` at a command prompt on your system."
   ]
  },
  {
   "cell_type": "markdown",
   "metadata": {},
   "source": [
    "### Let's Start Coding!"
   ]
  },
  {
   "cell_type": "markdown",
   "metadata": {},
   "source": [
    "One of the great things about Python is that it is so easy to start coding. For instance, you can just type an arithmetic expression, and Python will *interpret* it and show you the result:"
   ]
  },
  {
   "cell_type": "code",
   "execution_count": 3,
   "metadata": {},
   "outputs": [
    {
     "data": {
      "text/plain": [
       "7"
      ]
     },
     "execution_count": 3,
     "metadata": {},
     "output_type": "execute_result"
    }
   ],
   "source": [
    "3 + 4"
   ]
  },
  {
   "cell_type": "code",
   "execution_count": null,
   "metadata": {},
   "outputs": [],
   "source": []
  }
 ],
 "metadata": {
  "kernelspec": {
   "display_name": "Python 3",
   "language": "python",
   "name": "python3"
  },
  "language_info": {
   "codemirror_mode": {
    "name": "ipython",
    "version": 3
   },
   "file_extension": ".py",
   "mimetype": "text/x-python",
   "name": "python",
   "nbconvert_exporter": "python",
   "pygments_lexer": "ipython3",
   "version": "3.6.2"
  }
 },
 "nbformat": 4,
 "nbformat_minor": 2
}
