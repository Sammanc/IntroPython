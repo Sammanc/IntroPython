{
 "cells": [
  {
   "cell_type": "markdown",
   "metadata": {},
   "source": [
    "## Welcome to Introductory Programming Using Python!"
   ]
  },
  {
   "cell_type": "markdown",
   "metadata": {},
   "source": [
    "This class is meant to be a first programming course. Such a course could use any language, but we have chosen Python, because it is:\n",
    "* Easy to use\n",
    "* Yet powerful\n",
    "* And used widely\n",
    "\n",
    "Given this is an introduction to programming, our focus will be on features common to most programming languages, not on those specific to Python. And by the way, we will use Python version 3: version 2 is now defunct.\n",
    "\n",
    "The tool I am using here is called a *Jupyter Notebook*. It is great for our purposes since it allows mixing formatted text and live code. In addition, I can share the notebooks I create with you, which I will do using a site called *GitHub*, the most popular source code repository in the world.\n",
    "\n",
    "For your own Python development, you will probably use an *IDE* (integrated development environment), such as *PyCharm* or *Spyder*, or you can simply type `python` at a command prompt on your system."
   ]
  },
  {
   "cell_type": "markdown",
   "metadata": {},
   "source": [
    "### Let's Start Coding!"
   ]
  },
  {
   "cell_type": "markdown",
   "metadata": {},
   "source": [
    "One of the great things about Python is that it is so easy to start coding. For instance, you can just type an arithmetic expression, and Python will *interpret* it and show you the result:"
   ]
  },
  {
   "cell_type": "code",
   "execution_count": 3,
   "metadata": {},
   "outputs": [
    {
     "data": {
      "text/plain": [
       "7"
      ]
     },
     "execution_count": 3,
     "metadata": {},
     "output_type": "execute_result"
    }
   ],
   "source": [
    "3 + 4"
   ]
  },
  {
   "cell_type": "markdown",
   "metadata": {},
   "source": [
    "We can also put the result of a computation (like that above) into a place in computer memory. *And* we can give that place a name, so we don't need to bother about the exact memory address where the value sits:"
   ]
  },
  {
   "cell_type": "code",
   "execution_count": 11,
   "metadata": {},
   "outputs": [
    {
     "data": {
      "text/plain": [
       "7"
      ]
     },
     "execution_count": 11,
     "metadata": {},
     "output_type": "execute_result"
    }
   ],
   "source": [
    "x = 3 + 4\n",
    "x"
   ]
  },
  {
   "cell_type": "markdown",
   "metadata": {},
   "source": [
    "Python has the \"usual\" arithmetic operators, like `+`, `-`, `/`, and `*` (multiplication), but also unusual ones, like `**`. Let's see what `**` does:"
   ]
  },
  {
   "cell_type": "code",
   "execution_count": 12,
   "metadata": {},
   "outputs": [
    {
     "data": {
      "text/plain": [
       "49"
      ]
     },
     "execution_count": 12,
     "metadata": {},
     "output_type": "execute_result"
    }
   ],
   "source": [
    "x = x ** 2\n",
    "x"
   ]
  },
  {
   "cell_type": "markdown",
   "metadata": {},
   "source": [
    "An interactive Python interpreter (like this notebook!) will output the result of evaluating an expression. But Python also includes a print statement that we can use to output \"stuff.\" (More on \"stuff\" is coming!)"
   ]
  },
  {
   "cell_type": "code",
   "execution_count": 6,
   "metadata": {},
   "outputs": [
    {
     "name": "stdout",
     "output_type": "stream",
     "text": [
      "7\n"
     ]
    }
   ],
   "source": [
    "print(x)"
   ]
  },
  {
   "cell_type": "markdown",
   "metadata": {},
   "source": [
    "So let's write the \"traditional\" first program for any language:"
   ]
  },
  {
   "cell_type": "code",
   "execution_count": 7,
   "metadata": {},
   "outputs": [
    {
     "name": "stdout",
     "output_type": "stream",
     "text": [
      "Hello world!\n"
     ]
    }
   ],
   "source": [
    "print(\"Hello world!\")"
   ]
  },
  {
   "cell_type": "markdown",
   "metadata": {},
   "source": [
    "We can also combine values in a single `print` call, like this:"
   ]
  },
  {
   "cell_type": "code",
   "execution_count": 8,
   "metadata": {},
   "outputs": [
    {
     "name": "stdout",
     "output_type": "stream",
     "text": [
      "Hello world, the value of x is 7\n"
     ]
    }
   ],
   "source": [
    "print(\"Hello world, the value of x is\", x)"
   ]
  },
  {
   "cell_type": "markdown",
   "metadata": {},
   "source": [
    "Let's try something more complex, like the circle calculator from chapter one of our textbook:"
   ]
  },
  {
   "cell_type": "code",
   "execution_count": 14,
   "metadata": {},
   "outputs": [
    {
     "name": "stdout",
     "output_type": "stream",
     "text": [
      "Enter the radius: 1\n",
      "Circumference =  6.283185307179586\n",
      "Area =  3.141592653589793\n"
     ]
    }
   ],
   "source": [
    "import math\n",
    "\n",
    "radius_text = input(\"Enter the radius: \")\n",
    "radius = int(radius_text)\n",
    "\n",
    "circumference = 2 * math.pi * radius\n",
    "area = math.pi * (radius ** 2)\n",
    "\n",
    "print(\"Circumference = \", circumference)\n",
    "print(\"Area = \", area)"
   ]
  },
  {
   "cell_type": "code",
   "execution_count": null,
   "metadata": {},
   "outputs": [],
   "source": []
  }
 ],
 "metadata": {
  "kernelspec": {
   "display_name": "Python 3",
   "language": "python",
   "name": "python3"
  },
  "language_info": {
   "codemirror_mode": {
    "name": "ipython",
    "version": 3
   },
   "file_extension": ".py",
   "mimetype": "text/x-python",
   "name": "python",
   "nbconvert_exporter": "python",
   "pygments_lexer": "ipython3",
   "version": "3.6.2"
  }
 },
 "nbformat": 4,
 "nbformat_minor": 2
}
