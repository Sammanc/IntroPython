{
 "cells": [
  {
   "cell_type": "markdown",
   "metadata": {},
   "source": [
    "## Lists"
   ]
  },
  {
   "cell_type": "markdown",
   "metadata": {},
   "source": [
    "In Python, *lists* are the way to store a collection of items when you want to address the items by naming their position in the collection.  (What Python calls a list, other languages typically call and *array* or a *vector*.) Lists are a *sequence* type, like strings.\n",
    "\n",
    "Like many languages, Python starts counting from zero, so the \"first\" item is item 0, the second item 1, etc.\n",
    "\n",
    "Some notable features of lists:\n",
    "\n",
    " - Lists can contain a sequence of elements of any type (strings, ints, floats, other lists...)\n",
    " - Lists can even contain differently typed elements in the same list.\n",
    " - Lists are mutable - they can be modified after they are initially created.\n",
    "\n",
    "\n",
    "Here's how to create lists in Python:"
   ]
  },
  {
   "cell_type": "code",
   "execution_count": 5,
   "metadata": {},
   "outputs": [],
   "source": [
    "a_list = [1, 2, 'a', 'string', 3.14159]\n",
    "\n",
    "weekdays = ['Monday', 'Tuesday', 'Wednesday', 'Thursday', 'Friday']\n",
    "\n",
    "empty_list = []\n",
    "\n",
    "list_of_lists = [ ['NYU', 'Columbia', 'CUNY'], ['BC', 'BU', 'Tufts'], \\\n",
    "                  ['Penn', 'Drexel', 'Temple']]\n",
    "\n",
    "int_list = [5, 3, 45, 7, 8, 1]"
   ]
  },
  {
   "cell_type": "code",
   "execution_count": null,
   "metadata": {},
   "outputs": [],
   "source": [
    "empty_list"
   ]
  },
  {
   "cell_type": "code",
   "execution_count": null,
   "metadata": {},
   "outputs": [],
   "source": [
    "a_list"
   ]
  },
  {
   "cell_type": "markdown",
   "metadata": {},
   "source": [
    "### Accessing lists\n",
    "\n",
    "You can access the entire list, one sepecific element, or a range of elements.\n",
    "\n",
    "`print()` can print the whole list for you:"
   ]
  },
  {
   "cell_type": "code",
   "execution_count": 3,
   "metadata": {},
   "outputs": [
    {
     "name": "stdout",
     "output_type": "stream",
     "text": [
      "[1, 2, 'a', 'string', 3.14159]\n"
     ]
    }
   ],
   "source": [
    "print(a_list)"
   ]
  },
  {
   "cell_type": "markdown",
   "metadata": {},
   "source": [
    "(Note: in general, a random collection of different types is probably not a good idea, but it is good to know that you *can* do it if you need to.)"
   ]
  },
  {
   "cell_type": "markdown",
   "metadata": {},
   "source": [
    "Access individual elements:"
   ]
  },
  {
   "cell_type": "code",
   "execution_count": 4,
   "metadata": {},
   "outputs": [
    {
     "name": "stdout",
     "output_type": "stream",
     "text": [
      "Monday Wednesday\n"
     ]
    }
   ],
   "source": [
    "print(weekdays[0], weekdays[2])"
   ]
  },
  {
   "cell_type": "markdown",
   "metadata": {},
   "source": [
    "Accessing a range of elements returns a *new* `list` that is a *slice* of the original list:"
   ]
  },
  {
   "cell_type": "code",
   "execution_count": 3,
   "metadata": {},
   "outputs": [
    {
     "name": "stdout",
     "output_type": "stream",
     "text": [
      "['Tuesday', 'Wednesday', 'Thursday']\n"
     ]
    }
   ],
   "source": [
    "midweek = weekdays[1:4]\n",
    "print(midweek)"
   ]
  },
  {
   "cell_type": "markdown",
   "metadata": {},
   "source": [
    "Note that the *range* 1:4 returns *three* elements: this is a half-open range!\n",
    "\n",
    "When we have a list of lists, each element in the top-level list is itself a list:"
   ]
  },
  {
   "cell_type": "code",
   "execution_count": 5,
   "metadata": {},
   "outputs": [
    {
     "name": "stdout",
     "output_type": "stream",
     "text": [
      "['NYU', 'Columbia', 'CUNY']\n"
     ]
    }
   ],
   "source": [
    "nyc = list_of_lists[0]\n",
    "print(nyc)"
   ]
  },
  {
   "cell_type": "code",
   "execution_count": 7,
   "metadata": {},
   "outputs": [
    {
     "name": "stdout",
     "output_type": "stream",
     "text": [
      "['Penn', 'Drexel', 'Temple']\n",
      "Penn\n",
      "Drexel\n"
     ]
    }
   ],
   "source": [
    "philly = list_of_lists[2]\n",
    "print(philly)\n",
    "print(philly[0])\n",
    "print(philly[1])"
   ]
  },
  {
   "cell_type": "markdown",
   "metadata": {},
   "source": [
    "### List Modification"
   ]
  },
  {
   "cell_type": "markdown",
   "metadata": {},
   "source": [
    "Unlike strings, lists are *mutable*."
   ]
  },
  {
   "cell_type": "code",
   "execution_count": 8,
   "metadata": {},
   "outputs": [
    {
     "name": "stdout",
     "output_type": "stream",
     "text": [
      "List as initialized: ['Number 1', 'Uhura']\n"
     ]
    }
   ],
   "source": [
    "list_a = ['Number 1', 'Uhura']\n",
    "print(\"List as initialized:\", list_a)"
   ]
  },
  {
   "cell_type": "code",
   "execution_count": 9,
   "metadata": {},
   "outputs": [
    {
     "name": "stdout",
     "output_type": "stream",
     "text": [
      "Replace 2nd item in list: ['Number 1', 'Data']\n"
     ]
    }
   ],
   "source": [
    "list_a[1] = 'Data'\n",
    "print(\"Replace 2nd item in list:\", list_a)"
   ]
  },
  {
   "cell_type": "markdown",
   "metadata": {},
   "source": [
    "#### Growing a list\n",
    "\n",
    "Note: we can't grow a list by saying `list[1000000] = \"new value\"`."
   ]
  },
  {
   "cell_type": "code",
   "execution_count": 10,
   "metadata": {},
   "outputs": [
    {
     "ename": "IndexError",
     "evalue": "list assignment index out of range",
     "output_type": "error",
     "traceback": [
      "\u001b[0;31m------------------------------------------------------------------------\u001b[0m",
      "\u001b[0;31mIndexError\u001b[0m                             Traceback (most recent call last)",
      "\u001b[0;32m<ipython-input-10-993651d87ce3>\u001b[0m in \u001b[0;36m<module>\u001b[0;34m()\u001b[0m\n\u001b[0;32m----> 1\u001b[0;31m \u001b[0mlist_a\u001b[0m\u001b[0;34m[\u001b[0m\u001b[0;36m2\u001b[0m\u001b[0;34m]\u001b[0m \u001b[0;34m=\u001b[0m \u001b[0;34m[\u001b[0m\u001b[0;34m'Geordie'\u001b[0m\u001b[0;34m,\u001b[0m \u001b[0;34m'Crusher'\u001b[0m\u001b[0;34m]\u001b[0m  \u001b[0;31m# fails, can't append like this.\u001b[0m\u001b[0;34m\u001b[0m\u001b[0m\n\u001b[0m\u001b[1;32m      2\u001b[0m \u001b[0;31m#print(list_a)\u001b[0m\u001b[0;34m\u001b[0m\u001b[0;34m\u001b[0m\u001b[0m\n",
      "\u001b[0;31mIndexError\u001b[0m: list assignment index out of range"
     ]
    }
   ],
   "source": [
    "list_a[2] = ['Geordie', 'Crusher']  # fails, can't append like this.\n",
    "#print(list_a)"
   ]
  },
  {
   "cell_type": "code",
   "execution_count": 11,
   "metadata": {},
   "outputs": [
    {
     "name": "stdout",
     "output_type": "stream",
     "text": [
      "Add a list to the end: ['Number 1', 'Data', 'Scotty', ['Geordie', 'Crusher']]\n"
     ]
    }
   ],
   "source": [
    "list_a.append('Scotty')\n",
    "list_a.append(['Geordie', 'Crusher'])\n",
    "print(\"Add a list to the end:\", list_a)"
   ]
  },
  {
   "cell_type": "markdown",
   "metadata": {},
   "source": [
    "#### Removing items from a list"
   ]
  },
  {
   "cell_type": "code",
   "execution_count": 12,
   "metadata": {},
   "outputs": [
    {
     "name": "stdout",
     "output_type": "stream",
     "text": [
      "Remove the added list: ['Number 1', 'Data', 'Scotty']\n"
     ]
    }
   ],
   "source": [
    "list_a.remove(['Geordie', 'Crusher'])\n",
    "print(\"Remove the added list:\", list_a)"
   ]
  },
  {
   "cell_type": "code",
   "execution_count": 13,
   "metadata": {},
   "outputs": [
    {
     "ename": "ValueError",
     "evalue": "list.remove(x): x not in list",
     "output_type": "error",
     "traceback": [
      "\u001b[0;31m------------------------------------------------------------------------\u001b[0m",
      "\u001b[0;31mValueError\u001b[0m                             Traceback (most recent call last)",
      "\u001b[0;32m<ipython-input-13-7275679ab373>\u001b[0m in \u001b[0;36m<module>\u001b[0;34m()\u001b[0m\n\u001b[0;32m----> 1\u001b[0;31m \u001b[0mlist_a\u001b[0m\u001b[0;34m.\u001b[0m\u001b[0mremove\u001b[0m\u001b[0;34m(\u001b[0m\u001b[0;34m'Uhura'\u001b[0m\u001b[0;34m)\u001b[0m \u001b[0;31m# Error, item not in list\u001b[0m\u001b[0;34m\u001b[0m\u001b[0m\n\u001b[0m",
      "\u001b[0;31mValueError\u001b[0m: list.remove(x): x not in list"
     ]
    }
   ],
   "source": [
    "list_a.remove('Uhura') # Error, item not in list"
   ]
  },
  {
   "cell_type": "markdown",
   "metadata": {},
   "source": [
    "#### Inserting using slicing"
   ]
  },
  {
   "cell_type": "code",
   "execution_count": 14,
   "metadata": {},
   "outputs": [
    {
     "name": "stdout",
     "output_type": "stream",
     "text": [
      "['S', 'o', 'm', 'e', 't', 'h', 'i', 'n', 'g', ' ', 'e', 'l', 's', 'e', 'Scotty']\n"
     ]
    }
   ],
   "source": [
    "list_a[:2] = 'Something else'\n",
    "print(list_a)"
   ]
  },
  {
   "cell_type": "code",
   "execution_count": 15,
   "metadata": {},
   "outputs": [
    {
     "name": "stdout",
     "output_type": "stream",
     "text": [
      "['Something else', 'Scotty']\n"
     ]
    }
   ],
   "source": [
    "list_a[:14] = ['Something else']\n",
    "print(list_a)"
   ]
  },
  {
   "cell_type": "code",
   "execution_count": 16,
   "metadata": {},
   "outputs": [
    {
     "name": "stdout",
     "output_type": "stream",
     "text": [
      "Replace: ['alpha', 'beta', 'gamma']\n"
     ]
    }
   ],
   "source": [
    "list_a[:10] = ['alpha', 'beta', 'gamma']\n",
    "print(\"Replace:\", list_a)"
   ]
  },
  {
   "cell_type": "markdown",
   "metadata": {},
   "source": [
    "#### Some list functions and methods"
   ]
  },
  {
   "cell_type": "code",
   "execution_count": 18,
   "metadata": {},
   "outputs": [
    {
     "name": "stdout",
     "output_type": "stream",
     "text": [
      "['Hamlet', 'Ophelia', 'Laertes', 'Polonius', 'Claudius']\n",
      "['Hamlet', 'Ophelia', 'Laertes', 'Polonius']\n"
     ]
    }
   ],
   "source": [
    "list_a = ['Hamlet', 'Ophelia', 'Laertes', 'Polonius']\n",
    "\n",
    "list_a.append('Claudius')\n",
    "print(list_a)\n",
    "list_a.remove('Claudius')\n",
    "print(list_a)"
   ]
  },
  {
   "cell_type": "code",
   "execution_count": 19,
   "metadata": {},
   "outputs": [
    {
     "name": "stdout",
     "output_type": "stream",
     "text": [
      "Length of list_a is 4\n"
     ]
    }
   ],
   "source": [
    "print(\"Length of list_a is\", len(list_a))"
   ]
  },
  {
   "cell_type": "code",
   "execution_count": 20,
   "metadata": {},
   "outputs": [
    {
     "name": "stdout",
     "output_type": "stream",
     "text": [
      "Reversed: ['Polonius', 'Laertes', 'Ophelia', 'Hamlet']\n"
     ]
    }
   ],
   "source": [
    "list_a.reverse()\n",
    "print(\"Reversed:\", list_a)"
   ]
  },
  {
   "cell_type": "code",
   "execution_count": 21,
   "metadata": {},
   "outputs": [
    {
     "name": "stdout",
     "output_type": "stream",
     "text": [
      "Popped element: Hamlet\n",
      "length: 3\n",
      "The list: ['Polonius', 'Laertes', 'Ophelia']\n"
     ]
    }
   ],
   "source": [
    "element = list_a.pop()   # removes element at the end of the list\n",
    "print(\"Popped element:\", element)\n",
    "print(\"length:\", len(list_a))\n",
    "print(\"The list:\", list_a)"
   ]
  },
  {
   "cell_type": "code",
   "execution_count": 23,
   "metadata": {},
   "outputs": [
    {
     "name": "stdout",
     "output_type": "stream",
     "text": [
      "Index of 'Ophelia': 2\n"
     ]
    }
   ],
   "source": [
    "print(\"Index of 'Ophelia':\", list_a.index('Ophelia'))"
   ]
  },
  {
   "cell_type": "code",
   "execution_count": 24,
   "metadata": {},
   "outputs": [
    {
     "name": "stdout",
     "output_type": "stream",
     "text": [
      "Count of 1s: 6\n"
     ]
    }
   ],
   "source": [
    "print(\"Count of 1s:\", [1,0,1,0,1,1,1,1,0,0,10].count(1))"
   ]
  },
  {
   "cell_type": "code",
   "execution_count": 25,
   "metadata": {},
   "outputs": [
    {
     "name": "stdout",
     "output_type": "stream",
     "text": [
      "insert 'a' at 1 [1, 'a', 0, 1, 0, 1, 1, 1, 1, 0, 0, 10]\n",
      "insert 'x' at 15 [1, 'a', 0, 1, 0, 1, 1, 1, 1, 0, 0, 10, 'x']\n",
      "insert 'r' at -1 [1, 'a', 0, 1, 0, 1, 1, 1, 1, 0, 0, 10, 'r', 'x']\n"
     ]
    }
   ],
   "source": [
    "new_list = [1,0,1,0,1,1,1,1,0,0,10] # 11 values\n",
    "new_list.insert(1, 'a')\n",
    "print(\"insert 'a' at 1\", new_list)\n",
    "new_list.insert(15, 'x')\n",
    "print(\"insert 'x' at 15\", new_list)\n",
    "new_list.insert(-1, 'r')\n",
    "print(\"insert 'r' at -1\", new_list)"
   ]
  },
  {
   "cell_type": "markdown",
   "metadata": {},
   "source": [
    "#### List Operators"
   ]
  },
  {
   "cell_type": "code",
   "execution_count": 26,
   "metadata": {},
   "outputs": [],
   "source": [
    "list_a = ['MacBeth', 'Duncan']\n",
    "list_b = ['Macduff', 'Malcolm']"
   ]
  },
  {
   "cell_type": "markdown",
   "metadata": {},
   "source": [
    "You can use both the addition and multiplication operators with lists."
   ]
  },
  {
   "cell_type": "code",
   "execution_count": 27,
   "metadata": {},
   "outputs": [
    {
     "name": "stdout",
     "output_type": "stream",
     "text": [
      "list addition: ['MacBeth', 'Duncan', 'Macduff', 'Malcolm']\n",
      "list multiplication: ['Macduff', 'Malcolm', 'Macduff', 'Malcolm', 'Macduff', 'Malcolm']\n"
     ]
    }
   ],
   "source": [
    "list_c = list_a + list_b\n",
    "list_d = list_b * 3\n",
    "print('list addition:', list_c)\n",
    "print('list multiplication:', list_d)"
   ]
  },
  {
   "cell_type": "markdown",
   "metadata": {},
   "source": [
    "You can use >, <, ==, <=, >=, != operators on lists:"
   ]
  },
  {
   "cell_type": "code",
   "execution_count": null,
   "metadata": {},
   "outputs": [],
   "source": [
    "comparison_result = [1, 3, 5] < [1, 3, 3] # first diff at index 3: 5 !< 3\n",
    "print('list comparison (<):', comparison_result)\n",
    "\n",
    "print('list comparison (=):', [1] == [1, 2])\n",
    "print('list comparison (<):', [1] < [1])\n",
    "print('list comparison (>=):', ['Foo'] >= ['Bar'])"
   ]
  },
  {
   "cell_type": "markdown",
   "metadata": {},
   "source": [
    "You can test for list membership using the boolean operand `in`."
   ]
  },
  {
   "cell_type": "code",
   "execution_count": 4,
   "metadata": {},
   "outputs": [
    {
     "name": "stdout",
     "output_type": "stream",
     "text": [
      "1. membership, a in list: False\n",
      "2. membership, a in list: True\n",
      "3. is Durant a member of the NBA? False\n",
      "4. is Durant a member of the Nets? True\n"
     ]
    }
   ],
   "source": [
    "print('1. membership, a in list:', 'a' in ['alpha'])\n",
    "print('2. membership, a in list:', 'a' in ['b', 'c', 'd', 'e', 'a'])\n",
    "print('3. is Durant a member of the NBA?', 'Durant' in [['Durant', 'Irving'], ['Curry', 'Thompson']])\n",
    "print('4. is Durant a member of the Nets?', 'Durant' in ['Durant', 'Irving'])"
   ]
  },
  {
   "cell_type": "markdown",
   "metadata": {},
   "source": [
    "You can get the size of a list with `len()`, just like for a string:"
   ]
  },
  {
   "cell_type": "code",
   "execution_count": 4,
   "metadata": {},
   "outputs": [
    {
     "data": {
      "text/plain": [
       "5"
      ]
     },
     "execution_count": 4,
     "metadata": {},
     "output_type": "execute_result"
    }
   ],
   "source": [
    "len(a_list)"
   ]
  },
  {
   "cell_type": "markdown",
   "metadata": {},
   "source": [
    "### Traversing a list"
   ]
  },
  {
   "cell_type": "markdown",
   "metadata": {},
   "source": [
    "We can *traverse* a list with the `for` control structure:"
   ]
  },
  {
   "cell_type": "code",
   "execution_count": 6,
   "metadata": {},
   "outputs": [
    {
     "name": "stdout",
     "output_type": "stream",
     "text": [
      "The sum of the list elements is: 69\n"
     ]
    }
   ],
   "source": [
    "total = 0\n",
    "for num in int_list:\n",
    "    total += num\n",
    "print(\"The sum of the list elements is:\", total)"
   ]
  },
  {
   "cell_type": "code",
   "execution_count": null,
   "metadata": {},
   "outputs": [],
   "source": []
  }
 ],
 "metadata": {
  "kernelspec": {
   "display_name": "Python 3",
   "language": "python",
   "name": "python3"
  },
  "language_info": {
   "codemirror_mode": {
    "name": "ipython",
    "version": 3
   },
   "file_extension": ".py",
   "mimetype": "text/x-python",
   "name": "python",
   "nbconvert_exporter": "python",
   "pygments_lexer": "ipython3",
   "version": "3.6.9"
  }
 },
 "nbformat": 4,
 "nbformat_minor": 4
}
