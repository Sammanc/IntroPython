{
 "cells": [
  {
   "cell_type": "markdown",
   "metadata": {},
   "source": [
    "## Lists"
   ]
  },
  {
   "cell_type": "markdown",
   "metadata": {},
   "source": [
    "In Python, *lists* are the way to store a collection of items when you want to address the items by naming their position in the collection.  (What Python calls a list, other languages typically call and *array* or a *vector*.) Like many languages, Python starts counting from zero, so the \"first\" item is item 0, the second item 1, etc.\n",
    "\n",
    "Some notable features of lists:\n",
    "\n",
    " - Lists can contain a sequence of elements of any type (strings, ints, floats, other lists...)\n",
    " - Lists can even contain differently typed elements in the same list.\n",
    " - Lists are mutable - they can be modified after they are initially created.\n",
    "\n",
    "\n",
    "Here's how to create lists in Python:"
   ]
  },
  {
   "cell_type": "code",
   "execution_count": 1,
   "metadata": {},
   "outputs": [],
   "source": [
    "a_list = [1, 2, 'a', 'string', 3.14159]\n",
    "\n",
    "weekdays = ['Monday', 'Tuesday', 'Wednesday', 'Thursday', 'Friday']\n",
    "\n",
    "empty_list = []\n",
    "\n",
    "list_of_lists = [ ['NYU', 'Columbia', 'CUNY'], ['BC', 'BU', 'Tufts'], \\\n",
    "                  ['Penn', 'Drexel', 'Temple']]"
   ]
  },
  {
   "cell_type": "code",
   "execution_count": 2,
   "metadata": {},
   "outputs": [
    {
     "data": {
      "text/plain": [
       "[]"
      ]
     },
     "execution_count": 2,
     "metadata": {},
     "output_type": "execute_result"
    }
   ],
   "source": [
    "empty_list"
   ]
  },
  {
   "cell_type": "code",
   "execution_count": 3,
   "metadata": {},
   "outputs": [
    {
     "data": {
      "text/plain": [
       "[1, 2, 'a', 'string', 3.14159]"
      ]
     },
     "execution_count": 3,
     "metadata": {},
     "output_type": "execute_result"
    }
   ],
   "source": [
    "a_list"
   ]
  },
  {
   "cell_type": "markdown",
   "metadata": {},
   "source": [
    "### Accessing lists\n",
    "\n",
    "You can access the entire list, one sepecific element, or a range of elements.\n",
    "\n",
    "Access individual elements:"
   ]
  },
  {
   "cell_type": "code",
   "execution_count": null,
   "metadata": {},
   "outputs": [],
   "source": [
    "print(weekdays[0], weekdays[2])"
   ]
  },
  {
   "cell_type": "markdown",
   "metadata": {},
   "source": [
    "Accessing a range of elements returns a `list`:"
   ]
  },
  {
   "cell_type": "code",
   "execution_count": 8,
   "metadata": {},
   "outputs": [
    {
     "name": "stdout",
     "output_type": "stream",
     "text": [
      "['Tuesday', 'Wednesday', 'Thursday']\n"
     ]
    }
   ],
   "source": [
    "sublist = weekdays[1:4]\n",
    "print(sublist)"
   ]
  },
  {
   "cell_type": "markdown",
   "metadata": {},
   "source": [
    "Note that the *range* 1:4 returns elements *three* elements: this is a half-open range!\n",
    "\n",
    "When we have a list of lists, each element in the top-level list is itself a list:"
   ]
  },
  {
   "cell_type": "code",
   "execution_count": 9,
   "metadata": {},
   "outputs": [
    {
     "name": "stdout",
     "output_type": "stream",
     "text": [
      "['NYU', 'Columbia', 'CUNY']\n"
     ]
    }
   ],
   "source": [
    "nyc = list_of_lists[0]\n",
    "print(nyc)"
   ]
  },
  {
   "cell_type": "code",
   "execution_count": 10,
   "metadata": {},
   "outputs": [
    {
     "name": "stdout",
     "output_type": "stream",
     "text": [
      "Penn\n",
      "Drexel\n"
     ]
    }
   ],
   "source": [
    "philly = list_of_lists[2]\n",
    "print(philly[0])\n",
    "print(philly[1])"
   ]
  },
  {
   "cell_type": "markdown",
   "metadata": {},
   "source": [
    "### List Modification"
   ]
  },
  {
   "cell_type": "code",
   "execution_count": 14,
   "metadata": {},
   "outputs": [
    {
     "name": "stdout",
     "output_type": "stream",
     "text": [
      "List as initialized: ['Number 1', 'Uhura']\n",
      "Replace 2nd item in list: ['Number 1', 'Data']\n"
     ]
    }
   ],
   "source": [
    "list_a = ['Number 1', 'Uhura']\n",
    "print(\"List as initialized:\", list_a)\n",
    "\n",
    "list_a[1] = 'Data'\n",
    "print(\"Replace 2nd item in list:\", list_a)"
   ]
  },
  {
   "cell_type": "markdown",
   "metadata": {},
   "source": [
    "#### Growing a list"
   ]
  },
  {
   "cell_type": "code",
   "execution_count": 15,
   "metadata": {},
   "outputs": [
    {
     "name": "stdout",
     "output_type": "stream",
     "text": [
      "Add a list to the end: ['Number 1', 'Data', 'Scotty', ['Geordie', 'Crusher']]\n"
     ]
    }
   ],
   "source": [
    "#list_a[2] = ['Geordie', 'Crusher']  # fails, can't append like this.\n",
    "#print(list_a)\n",
    "\n",
    "list_a.append('Scotty')\n",
    "list_a.append(['Geordie', 'Crusher'])\n",
    "print(\"Add a list to the end:\", list_a)"
   ]
  },
  {
   "cell_type": "markdown",
   "metadata": {},
   "source": [
    "#### Removing items from a list"
   ]
  },
  {
   "cell_type": "code",
   "execution_count": 16,
   "metadata": {},
   "outputs": [
    {
     "name": "stdout",
     "output_type": "stream",
     "text": [
      "Remove the added list: ['Number 1', 'Data', 'Scotty']\n"
     ]
    }
   ],
   "source": [
    "list_a.remove(['Geordie', 'Crusher'])\n",
    "print(\"Remove the added list:\", list_a)\n",
    "\n",
    "#list_a.remove('Uhura') # Error, item not in list"
   ]
  },
  {
   "cell_type": "markdown",
   "metadata": {},
   "source": [
    "#### Inserting using slicing"
   ]
  },
  {
   "cell_type": "code",
   "execution_count": 17,
   "metadata": {},
   "outputs": [
    {
     "name": "stdout",
     "output_type": "stream",
     "text": [
      "['S', 'o', 'm', 'e', 't', 'h', 'i', 'n', 'g', ' ', 'e', 'l', 's', 'e', 'Scotty']\n"
     ]
    }
   ],
   "source": [
    "list_a[:2] = 'Something else'\n",
    "print(list_a)"
   ]
  },
  {
   "cell_type": "code",
   "execution_count": 18,
   "metadata": {},
   "outputs": [
    {
     "name": "stdout",
     "output_type": "stream",
     "text": [
      "['Something else', 'Scotty']\n"
     ]
    }
   ],
   "source": [
    "list_a[:14] = ['Something else']\n",
    "print(list_a)"
   ]
  },
  {
   "cell_type": "code",
   "execution_count": 19,
   "metadata": {},
   "outputs": [
    {
     "name": "stdout",
     "output_type": "stream",
     "text": [
      "Replace: ['alpha', 'beta', 'gamma']\n"
     ]
    }
   ],
   "source": [
    "list_a[:10] = ['alpha', 'beta', 'gamma']\n",
    "print(\"Replace:\", list_a)"
   ]
  },
  {
   "cell_type": "code",
   "execution_count": null,
   "metadata": {},
   "outputs": [],
   "source": []
  }
 ],
 "metadata": {
  "kernelspec": {
   "display_name": "Python 3",
   "language": "python",
   "name": "python3"
  },
  "language_info": {
   "codemirror_mode": {
    "name": "ipython",
    "version": 3
   },
   "file_extension": ".py",
   "mimetype": "text/x-python",
   "name": "python",
   "nbconvert_exporter": "python",
   "pygments_lexer": "ipython3",
   "version": "3.6.9"
  }
 },
 "nbformat": 4,
 "nbformat_minor": 4
}
