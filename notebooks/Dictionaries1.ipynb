{
 "cells": [
  {
   "cell_type": "markdown",
   "metadata": {},
   "source": [
    "## Dictionary"
   ]
  },
  {
   "cell_type": "markdown",
   "metadata": {},
   "source": [
    "Like lists and tuples, it's a *collection* of data.\n",
    "\n",
    "Unlike lists and tuples it's not a *sequence* of data.\n",
    "\n",
    "Dictionaries are also known as *maps* or *associative arrays*.\n",
    "\n",
    "Map -> The *key* maps to a *value*.\n",
    "\n",
    "All operations on dictionaries are build to work through the keys\n",
    "\n",
    "Search for key, obtain value - designed to be very efficient\n",
    "\n",
    "Similar to a real dictionary\n",
    "\n",
    "Example:  Phone directory\n",
    "\n",
    "- Bill : 212-111-2233\n",
    "- Mary : 212-555-6677\n",
    "- Sue  : 212-555-4444"
   ]
  },
  {
   "cell_type": "code",
   "execution_count": 8,
   "metadata": {},
   "outputs": [
    {
     "name": "stdout",
     "output_type": "stream",
     "text": [
      "{'Bill': '212-111-2233', 'Mary': '212-555-6677', 'Sue': '212-555-4444'}\n",
      "212-555-4444\n",
      "Sue: 212-555-4444\n"
     ]
    }
   ],
   "source": [
    "contact_list = [\"Bill: 212-111-2233\", \"Mary: 212-555-6677\", \"Sue: 212-555-4444\"]\n",
    "\n",
    "contacts = {\"Bill\": \"212-111-2233\", \"Mary\": \"212-555-6677\",\n",
    "            \"Sue\": \"212-555-4444\"}\n",
    "print(contacts)\n",
    "print(contacts[\"Sue\"])\n",
    "for contact in contact_list:\n",
    "    if contact.startswith(\"Sue\"):\n",
    "        print(contact)"
   ]
  },
  {
   "cell_type": "markdown",
   "metadata": {},
   "source": [
    "### Creating dictionaries"
   ]
  },
  {
   "cell_type": "code",
   "execution_count": 12,
   "metadata": {},
   "outputs": [
    {
     "data": {
      "text/plain": [
       "'Susan Anthony'"
      ]
     },
     "execution_count": 12,
     "metadata": {},
     "output_type": "execute_result"
    }
   ],
   "source": [
    "def create_dictionaries():\n",
    "    kids = dict(grace=17, anthony=14, lily=11,\n",
    "                adam=11, eric=10, peter=3,)\n",
    "    other_people = {'Mom': 'Susan Anthony',\n",
    "                    'Dad': 'Peter Bogdanovich'}\n",
    "    return kids, other_people\n",
    "\n",
    "\n",
    "def create_dicts_in_dict():\n",
    "    the_kids, the_adults = create_dictionaries()\n",
    "    \n",
    "    family = {\"the_adults\": the_adults, \"the_kids\": the_kids}\n",
    "    return family\n",
    "\n",
    "family = create_dicts_in_dict()\n",
    "family[\"the_adults\"][\"Mom\"]"
   ]
  },
  {
   "cell_type": "markdown",
   "metadata": {},
   "source": [
    "### Dictionary Indexing and Assignment\n",
    "\n",
    "We use index operator `[ ]` to access elements, but we do **not**\n",
    "use index numbers. The keys are used to access the key/value pairs."
   ]
  },
  {
   "cell_type": "code",
   "execution_count": 13,
   "metadata": {},
   "outputs": [
    {
     "data": {
      "text/plain": [
       "'212-555-6677'"
      ]
     },
     "execution_count": 13,
     "metadata": {},
     "output_type": "execute_result"
    }
   ],
   "source": [
    "contacts = { \"Bill\" : \"212-111-2233\", \"Mary\" : \"212-555-6677\",\n",
    "            \"Sue\" : \"212-555-4444\" }\n",
    "\n",
    "# Accessing one contact, access through the \"key\"\n",
    "contacts['Mary']"
   ]
  },
  {
   "cell_type": "markdown",
   "metadata": {},
   "source": [
    "Modify a value given a key"
   ]
  },
  {
   "cell_type": "code",
   "execution_count": 14,
   "metadata": {},
   "outputs": [
    {
     "name": "stdout",
     "output_type": "stream",
     "text": [
      "{'Bill': '401-846-4318', 'Mary': '212-555-6677', 'Sue': '212-555-4444'}\n"
     ]
    }
   ],
   "source": [
    "contacts[\"Bill O'Callahan\"] = \"401-846-4318\"\n",
    "print(contacts)"
   ]
  },
  {
   "cell_type": "markdown",
   "metadata": {},
   "source": [
    "Accessing a key that is not in the dictionary will result in a KeyError being thrown:"
   ]
  },
  {
   "cell_type": "code",
   "execution_count": 16,
   "metadata": {},
   "outputs": [
    {
     "name": "stdout",
     "output_type": "stream",
     "text": [
      "The key, 'error', was not present in the dictionary.\n"
     ]
    }
   ],
   "source": [
    "try:\n",
    "    print(contacts[\"error\"])\n",
    "\n",
    "except KeyError:\n",
    "    print(\"The key, 'error', was not present in the dictionary.\")"
   ]
  },
  {
   "cell_type": "markdown",
   "metadata": {},
   "source": [
    "### Add a key-value pair via an assignment\n",
    "\n",
    "If the key does not exist, it is created and then\n",
    "associated with the specified value, otherwise the\n",
    "key's value is updated (see above)."
   ]
  },
  {
   "cell_type": "code",
   "execution_count": 17,
   "metadata": {},
   "outputs": [
    {
     "name": "stdout",
     "output_type": "stream",
     "text": [
      "{'Bill': '401-846-4318', 'Mary': '212-555-6677', 'Sue': '212-555-4444', 'Deanna': '865-5523'}\n"
     ]
    }
   ],
   "source": [
    "contacts['Deanna'] = '865-5523'\n",
    "print(contacts)"
   ]
  },
  {
   "cell_type": "markdown",
   "metadata": {},
   "source": [
    "### Dictionary Operations"
   ]
  },
  {
   "cell_type": "code",
   "execution_count": 24,
   "metadata": {
    "scrolled": true
   },
   "outputs": [
    {
     "name": "stdout",
     "output_type": "stream",
     "text": [
      "['x', 'y']\n",
      "['x', 'y']\n",
      "3\n"
     ]
    }
   ],
   "source": [
    "x = 14\n",
    "my_dict = {'a': 2, x: ['x', 'y'], 'joe': 'smith'}\n",
    "# x = 18\n",
    "print(my_dict[x])\n",
    "print(my_dict[14])\n",
    "print(len(my_dict))  # returns the number of keys"
   ]
  },
  {
   "cell_type": "code",
   "execution_count": 25,
   "metadata": {},
   "outputs": [
    {
     "name": "stdout",
     "output_type": "stream",
     "text": [
      "True\n",
      "False\n"
     ]
    }
   ],
   "source": [
    "result = 'a' in my_dict  # returns a boolean\n",
    "print(result)\n",
    "result = 'xxx' in my_dict\n",
    "print(result)"
   ]
  },
  {
   "cell_type": "code",
   "execution_count": 27,
   "metadata": {},
   "outputs": [
    {
     "name": "stdout",
     "output_type": "stream",
     "text": [
      "Key =  a ; value =  2\n",
      "Key =  14 ; value =  ['x', 'y']\n",
      "Key =  joe ; value =  smith\n"
     ]
    }
   ],
   "source": [
    "for the_key in my_dict:  # iterate through keys in the dictionary\n",
    "    print(\"Key = \", the_key, \"; value = \", my_dict[the_key])"
   ]
  },
  {
   "cell_type": "markdown",
   "metadata": {},
   "source": [
    "### Dictionary Methods"
   ]
  },
  {
   "cell_type": "code",
   "execution_count": 28,
   "metadata": {},
   "outputs": [
    {
     "name": "stdout",
     "output_type": "stream",
     "text": [
      "Key: a, Value: 2\n",
      "Key: 3, Value: ['x', 'y']\n",
      "Key: joe, Value: smith\n"
     ]
    }
   ],
   "source": [
    "my_dict = {'a':2, 3:['x', 'y'], 'joe':'smith'}\n",
    "\n",
    "for key, val in my_dict.items():  # iterate through all the key-value pairs as of tuples\n",
    "    print(\"Key: {}, Value: {}\".format(key, val))"
   ]
  },
  {
   "cell_type": "code",
   "execution_count": null,
   "metadata": {},
   "outputs": [],
   "source": [
    "for key in my_dict.keys():   # iterate through all of the keys\n",
    "    print(\"Key: {}\".format(key))"
   ]
  },
  {
   "cell_type": "code",
   "execution_count": 34,
   "metadata": {},
   "outputs": [
    {
     "name": "stdout",
     "output_type": "stream",
     "text": [
      "<class 'dict_keys'>\n",
      "<class 'list'>\n"
     ]
    }
   ],
   "source": [
    "all_keys = my_dict.keys()\n",
    "print(type(all_keys))\n",
    "keys_list = list(all_keys)\n",
    "print(type(keys_list))\n",
    "keys_list.append(\"Fail?\")"
   ]
  },
  {
   "cell_type": "code",
   "execution_count": 29,
   "metadata": {},
   "outputs": [
    {
     "name": "stdout",
     "output_type": "stream",
     "text": [
      "Value: 2\n",
      "Value: ['x', 'y']\n",
      "Value: smith\n"
     ]
    }
   ],
   "source": [
    "for value in my_dict.values():  # iterate through the values\n",
    "    print(\"Value: {}\".format(value))"
   ]
  },
  {
   "cell_type": "markdown",
   "metadata": {},
   "source": [
    "### Dictionaries with Different Key Types\n",
    "\n",
    "**Keys** - different types can be used in the same dictionary, as long as they are immutable.\n",
    "\n",
    "**Values** - can be any data structure, even another dictionary"
   ]
  },
  {
   "cell_type": "code",
   "execution_count": 35,
   "metadata": {},
   "outputs": [
    {
     "name": "stdout",
     "output_type": "stream",
     "text": [
      "{2: ['a', 'b', 'c'], (2, 4): 27, 'x': {1: 1.25, 'a': 3}}\n",
      "['a', 'b', 'c']\n",
      "27\n",
      "{1: 1.25, 'a': 3}\n",
      "3\n"
     ]
    }
   ],
   "source": [
    "demo = {2: ['a', 'b', 'c'], (2, 4): 27, 'x': {1: 1.25, 'a': 3}}\n",
    "\n",
    "print(demo)\n",
    "\n",
    "print(demo[2])\n",
    "print(demo[(2, 4)])\n",
    "print(demo['x'])\n",
    "print(demo['x']['a'])"
   ]
  },
  {
   "cell_type": "code",
   "execution_count": null,
   "metadata": {},
   "outputs": [],
   "source": []
  }
 ],
 "metadata": {
  "kernelspec": {
   "display_name": "Python 3",
   "language": "python",
   "name": "python3"
  },
  "language_info": {
   "codemirror_mode": {
    "name": "ipython",
    "version": 3
   },
   "file_extension": ".py",
   "mimetype": "text/x-python",
   "name": "python",
   "nbconvert_exporter": "python",
   "pygments_lexer": "ipython3",
   "version": "3.6.2"
  }
 },
 "nbformat": 4,
 "nbformat_minor": 2
}
