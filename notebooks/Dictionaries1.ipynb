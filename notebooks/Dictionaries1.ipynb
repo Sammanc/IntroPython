{
 "cells": [
  {
   "cell_type": "markdown",
   "metadata": {},
   "source": [
    "## Dictionary"
   ]
  },
  {
   "cell_type": "markdown",
   "metadata": {},
   "source": [
    "Like lists and tuples, it's a *collection* of data.\n",
    "Unlike lists and tuples it's not a *sequence* of data.\n",
    "Dictionaries are also known as *maps* or *associative arrays*.\n",
    "\n",
    "Map -> The *key* maps to a *value*.\n",
    "\n",
    "All operations on dictionaries are build to work through the keys\n",
    "Search for key, obtain value - designed to be very efficient\n",
    "Similar to a real dictionary\n",
    "\n",
    "Example:  Phone directory\n",
    "\n",
    "- Bill : 212-111-2233\n",
    "- Mary : 212-555-6677\n",
    "- Sue  : 212-555-4444"
   ]
  },
  {
   "cell_type": "code",
   "execution_count": 1,
   "metadata": {},
   "outputs": [
    {
     "name": "stdout",
     "output_type": "stream",
     "text": [
      "{'Bill': '212-111-2233', 'Mary': '212-555-6677', 'Sue': '212-555-4444'}\n"
     ]
    }
   ],
   "source": [
    "def main():\n",
    "    contacts = {\"Bill\": \"212-111-2233\", \"Mary\": \"212-555-6677\",\n",
    "                \"Sue\": \"212-555-4444\" }\n",
    "    print(contacts)\n",
    "    \n",
    "main()"
   ]
  },
  {
   "cell_type": "markdown",
   "metadata": {},
   "source": [
    "### Creating dictionaries"
   ]
  },
  {
   "cell_type": "code",
   "execution_count": 6,
   "metadata": {},
   "outputs": [
    {
     "name": "stdout",
     "output_type": "stream",
     "text": [
      "[{'Mom': 'Susan Anthony', 'Dad': 'Peter Bogdanovich'}, {'grace': 17, 'anthony': 14, 'lily': 11, 'adam': 11, 'eric': 10, 'peter': 3}]\n"
     ]
    }
   ],
   "source": [
    "def create_dictionaries():\n",
    "    kids = dict(grace=17, anthony=14, lily=11,\n",
    "                adam=11, eric=10, peter=3,)\n",
    "    other_people = {'Mom': 'Susan Anthony',\n",
    "                    'Dad': 'Peter Bogdanovich'}\n",
    "    return kids, other_people\n",
    "\n",
    "\n",
    "def create_dictionaries_in_list():\n",
    "    the_kids, the_adults = create_dictionaries()\n",
    "    \n",
    "    family = [the_adults, the_kids]\n",
    "    return family\n",
    "\n",
    "print(create_dictionaries_in_list())"
   ]
  },
  {
   "cell_type": "markdown",
   "metadata": {},
   "source": [
    "### Dictionary Indexing and Assignment\n",
    "\n",
    "We use index operator `[ ]` to access elements, but we do **not**\n",
    "use index numbers. The keys are used to access the key/value pairs."
   ]
  },
  {
   "cell_type": "code",
   "execution_count": 9,
   "metadata": {},
   "outputs": [
    {
     "name": "stdout",
     "output_type": "stream",
     "text": [
      "212-555-6677\n",
      "{'Bill': '401-846-4318', 'Mary': '212-555-6677', 'Sue': '212-555-4444'}\n"
     ]
    }
   ],
   "source": [
    "contacts = { \"Bill\" : \"212-111-2233\", \"Mary\" : \"212-555-6677\",\n",
    "            \"Sue\" : \"212-555-4444\" }\n",
    "\n",
    "# Accessing one contact, access through the \"key\"\n",
    "print(contacts['Mary'])\n",
    "\n",
    "# Modify a value given a key\n",
    "contacts[\"Bill\"] = \"401-846-4318\"\n",
    "print(contacts)"
   ]
  },
  {
   "cell_type": "markdown",
   "metadata": {},
   "source": [
    "Accessing a key that is not in the dictionary will result in a KeyError being thrown:"
   ]
  },
  {
   "cell_type": "code",
   "execution_count": 10,
   "metadata": {},
   "outputs": [
    {
     "name": "stdout",
     "output_type": "stream",
     "text": [
      "The key, 'error', was not present in the dictionary.\n"
     ]
    }
   ],
   "source": [
    "try:\n",
    "    print(contacts['error'])\n",
    "\n",
    "except KeyError:\n",
    "    print(\"The key, 'error', was not present in the dictionary.\")"
   ]
  },
  {
   "cell_type": "markdown",
   "metadata": {},
   "source": [
    "### Add a key-value pair via an assignment\n",
    "\n",
    "If the key does not exist, it is created and then\n",
    "associated with the specified value, otherwise the\n",
    "key's value is updated (see above)."
   ]
  },
  {
   "cell_type": "code",
   "execution_count": 8,
   "metadata": {},
   "outputs": [
    {
     "ename": "NameError",
     "evalue": "name 'contacts' is not defined",
     "output_type": "error",
     "traceback": [
      "\u001b[0;31m---------------------------------------------------------------------------\u001b[0m",
      "\u001b[0;31mNameError\u001b[0m                                 Traceback (most recent call last)",
      "\u001b[0;32m<ipython-input-8-98d54f575a8b>\u001b[0m in \u001b[0;36m<module>\u001b[0;34m()\u001b[0m\n\u001b[0;32m----> 1\u001b[0;31m \u001b[0mcontacts\u001b[0m\u001b[0;34m[\u001b[0m\u001b[0;34m'Deanna'\u001b[0m\u001b[0;34m]\u001b[0m \u001b[0;34m=\u001b[0m \u001b[0;34m'865-5523'\u001b[0m\u001b[0;34m\u001b[0m\u001b[0m\n\u001b[0m\u001b[1;32m      2\u001b[0m \u001b[0mprint\u001b[0m\u001b[0;34m(\u001b[0m\u001b[0mcontacts\u001b[0m\u001b[0;34m)\u001b[0m\u001b[0;34m\u001b[0m\u001b[0m\n",
      "\u001b[0;31mNameError\u001b[0m: name 'contacts' is not defined"
     ]
    }
   ],
   "source": [
    "contacts['Deanna'] = '865-5523'\n",
    "print(contacts)"
   ]
  },
  {
   "cell_type": "code",
   "execution_count": null,
   "metadata": {},
   "outputs": [],
   "source": [
    "# Dictionary Operations"
   ]
  },
  {
   "cell_type": "code",
   "execution_count": 11,
   "metadata": {},
   "outputs": [
    {
     "name": "stdout",
     "output_type": "stream",
     "text": [
      "3\n"
     ]
    }
   ],
   "source": [
    "my_dict = {'a': 2, 3: ['x', 'y'], 'joe': 'smith'}\n",
    "print(len(my_dict))  # returns the number of keys"
   ]
  },
  {
   "cell_type": "code",
   "execution_count": 12,
   "metadata": {},
   "outputs": [
    {
     "name": "stdout",
     "output_type": "stream",
     "text": [
      "True\n",
      "False\n"
     ]
    }
   ],
   "source": [
    "result = 'a' in my_dict  # returns a boolean\n",
    "print(result)\n",
    "result = 'xxx' in my_dict\n",
    "print(result)"
   ]
  },
  {
   "cell_type": "code",
   "execution_count": 13,
   "metadata": {},
   "outputs": [
    {
     "name": "stdout",
     "output_type": "stream",
     "text": [
      "a: 2\n",
      "3: ['x', 'y']\n",
      "joe: smith\n",
      "------\n"
     ]
    }
   ],
   "source": [
    "for the_key in my_dict:  # iterate through the list of keys\n",
    "    print(\"{}: {}\".format(the_key, my_dict[the_key]))\n",
    "print(\"------\")"
   ]
  },
  {
   "cell_type": "code",
   "execution_count": null,
   "metadata": {},
   "outputs": [],
   "source": []
  }
 ],
 "metadata": {
  "kernelspec": {
   "display_name": "Python 3",
   "language": "python",
   "name": "python3"
  },
  "language_info": {
   "codemirror_mode": {
    "name": "ipython",
    "version": 3
   },
   "file_extension": ".py",
   "mimetype": "text/x-python",
   "name": "python",
   "nbconvert_exporter": "python",
   "pygments_lexer": "ipython3",
   "version": "3.6.2"
  }
 },
 "nbformat": 4,
 "nbformat_minor": 2
}
