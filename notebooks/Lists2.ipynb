{
 "cells": [
  {
   "cell_type": "markdown",
   "metadata": {},
   "source": [
    "## More on Lists\n"
   ]
  },
  {
   "cell_type": "markdown",
   "metadata": {},
   "source": [
    "### List slicing"
   ]
  },
  {
   "cell_type": "code",
   "execution_count": null,
   "metadata": {},
   "outputs": [],
   "source": [
    "a_list = [1, 2, 'a', 'string', 3.14159, True, \"red\", 3]"
   ]
  },
  {
   "cell_type": "markdown",
   "metadata": {},
   "source": [
    "Copy of whole list:"
   ]
  },
  {
   "cell_type": "code",
   "execution_count": null,
   "metadata": {},
   "outputs": [],
   "source": [
    "new_list = a_list[:]  \n",
    "print(new_list)"
   ]
  },
  {
   "cell_type": "markdown",
   "metadata": {},
   "source": [
    "Copy of list from 3 on:"
   ]
  },
  {
   "cell_type": "code",
   "execution_count": null,
   "metadata": {},
   "outputs": [],
   "source": [
    "new_list = a_list[3:]  \n",
    "print(new_list)"
   ]
  },
  {
   "cell_type": "markdown",
   "metadata": {},
   "source": [
    "Copy of list up to 4:"
   ]
  },
  {
   "cell_type": "code",
   "execution_count": null,
   "metadata": {},
   "outputs": [],
   "source": [
    "new_list = a_list[:4]  \n",
    "print(new_list)"
   ]
  },
  {
   "cell_type": "markdown",
   "metadata": {},
   "source": [
    "We can also index from the back of the list, using negative indices:"
   ]
  },
  {
   "cell_type": "code",
   "execution_count": null,
   "metadata": {},
   "outputs": [],
   "source": [
    "print(a_list[-1])"
   ]
  },
  {
   "cell_type": "code",
   "execution_count": null,
   "metadata": {},
   "outputs": [],
   "source": [
    "print(a_list)"
   ]
  },
  {
   "cell_type": "code",
   "execution_count": null,
   "metadata": {},
   "outputs": [],
   "source": [
    "print(a_list[1:8:3])\n",
    "print(a_list[::2])"
   ]
  },
  {
   "cell_type": "markdown",
   "metadata": {},
   "source": [
    "### Joining lists into a string\n",
    "\n",
    "We can take a list of strings and join them into a single string:"
   ]
  },
  {
   "cell_type": "code",
   "execution_count": null,
   "metadata": {},
   "outputs": [],
   "source": [
    "words = ['These','are','some','words','in','a','list']\n",
    "sentence = ' '.join(words)\n",
    "\n",
    "print (sentence)\n",
    "\n",
    "print(type(sentence))"
   ]
  },
  {
   "cell_type": "markdown",
   "metadata": {},
   "source": [
    "### Iterating over a list\n",
    "\n",
    "Notice that a list can be passed to a function just like an integer or a string:"
   ]
  },
  {
   "cell_type": "code",
   "execution_count": null,
   "metadata": {},
   "outputs": [],
   "source": [
    "def list_printer(print_me):\n",
    "    for item in print_me:\n",
    "        print(item, end='-->')\n",
    "\n",
    "def main():\n",
    "    a_list = ['a', 'b', 'c', 'd', 'e', 'f', 'g']\n",
    "    list_printer(a_list)\n",
    "\n",
    "main()"
   ]
  },
  {
   "cell_type": "markdown",
   "metadata": {},
   "source": [
    "### List as a param to a function which changes the list\n",
    "\n",
    "Let's randomly replace 3 elements in a list with 'x'.\n",
    "This function modifies the list in-place(!) and does not return it."
   ]
  },
  {
   "cell_type": "code",
   "execution_count": 6,
   "metadata": {},
   "outputs": [
    {
     "name": "stdout",
     "output_type": "stream",
     "text": [
      "['a', 'b', 'x', 'x', 'e', 'f', 'g']\n"
     ]
    }
   ],
   "source": [
    "import random\n",
    "\n",
    "def random_list_changer(list_to_change):\n",
    "    if (len(list_to_change) <= 7):\n",
    "        for loop_index in range(3):\n",
    "            # may overwrite same location! \n",
    "            random_index = random.randint(0, 6) \n",
    "            list_to_change[random_index] = 'x'\n",
    "\n",
    "def main():\n",
    "    a_list = ['a', 'b', 'c', 'd', 'e', 'f', 'g']\n",
    "    random_list_changer(a_list)\n",
    "    print(a_list)   # Note that the list has changed!\n",
    "\n",
    "main()"
   ]
  },
  {
   "cell_type": "markdown",
   "metadata": {},
   "source": [
    "#### When are objects actually the same object?"
   ]
  },
  {
   "cell_type": "markdown",
   "metadata": {},
   "source": [
    "Two ints:"
   ]
  },
  {
   "cell_type": "code",
   "execution_count": 16,
   "metadata": {},
   "outputs": [
    {
     "name": "stdout",
     "output_type": "stream",
     "text": [
      "my_int = 5 ; an_int =  5\n",
      "4305218720 4305218720\n"
     ]
    }
   ],
   "source": [
    "an_int = 5\n",
    "my_int = 5\n",
    "# an_int = 6\n",
    "# my_int = 8\n",
    "\n",
    "print(\"my_int =\", my_int, \"; an_int = \", an_int)\n",
    "print(id(an_int), id(my_int))"
   ]
  },
  {
   "cell_type": "markdown",
   "metadata": {},
   "source": [
    "Two lists:"
   ]
  },
  {
   "cell_type": "code",
   "execution_count": 19,
   "metadata": {},
   "outputs": [
    {
     "name": "stdout",
     "output_type": "stream",
     "text": [
      "4703475016 4703475016\n"
     ]
    }
   ],
   "source": [
    "a_list = [1, 2, 3, 4, 5]\n",
    "b_list = a_list\n",
    "# a_list = \"Hello\"\n",
    "\n",
    "print(id(a_list), id(b_list))"
   ]
  },
  {
   "cell_type": "markdown",
   "metadata": {},
   "source": [
    "Let's change an item in a_list and see what happens:"
   ]
  },
  {
   "cell_type": "code",
   "execution_count": 20,
   "metadata": {},
   "outputs": [
    {
     "name": "stdout",
     "output_type": "stream",
     "text": [
      "a_list = [1, 2, 3, 10, 5] ; b_list = [1, 2, 3, 10, 5]\n",
      "4703475016 4703475016\n",
      "True\n"
     ]
    }
   ],
   "source": [
    "a_list[3] = 10\n",
    "print(\"a_list =\", a_list, \"; b_list =\", b_list)\n",
    "\n",
    "print(id(a_list), id(b_list))\n",
    "print(a_list is b_list)"
   ]
  },
  {
   "cell_type": "markdown",
   "metadata": {},
   "source": [
    "Taking a list slice creates a new list!"
   ]
  },
  {
   "cell_type": "code",
   "execution_count": 24,
   "metadata": {},
   "outputs": [
    {
     "name": "stdout",
     "output_type": "stream",
     "text": [
      "[2, 4, 6, 8]\n"
     ]
    }
   ],
   "source": [
    "c_list = [2, 4, 6, 8]\n",
    "d_list = c_list[:]  # list copy via slice\n",
    "print(d_list)"
   ]
  },
  {
   "cell_type": "code",
   "execution_count": 25,
   "metadata": {},
   "outputs": [
    {
     "name": "stdout",
     "output_type": "stream",
     "text": [
      "False\n",
      "4568407944 4568407816\n"
     ]
    }
   ],
   "source": [
    "print(c_list is d_list)\n",
    "print(id(c_list), id(d_list))"
   ]
  },
  {
   "cell_type": "code",
   "execution_count": 26,
   "metadata": {},
   "outputs": [
    {
     "name": "stdout",
     "output_type": "stream",
     "text": [
      "c_list = ['Hello', 4, 6, 8] d_list = [2, 4, 6, 8]\n"
     ]
    }
   ],
   "source": [
    "c_list[0] = 'Hello'\n",
    "print(\"c_list =\", c_list, \"d_list =\", d_list)"
   ]
  },
  {
   "cell_type": "code",
   "execution_count": null,
   "metadata": {},
   "outputs": [],
   "source": []
  }
 ],
 "metadata": {
  "kernelspec": {
   "display_name": "Python 3",
   "language": "python",
   "name": "python3"
  },
  "language_info": {
   "codemirror_mode": {
    "name": "ipython",
    "version": 3
   },
   "file_extension": ".py",
   "mimetype": "text/x-python",
   "name": "python",
   "nbconvert_exporter": "python",
   "pygments_lexer": "ipython3",
   "version": "3.6.2"
  }
 },
 "nbformat": 4,
 "nbformat_minor": 2
}
