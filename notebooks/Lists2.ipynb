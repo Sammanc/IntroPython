{
 "cells": [
  {
   "cell_type": "markdown",
   "metadata": {},
   "source": [
    "## More on Lists\n"
   ]
  },
  {
   "cell_type": "markdown",
   "metadata": {},
   "source": [
    "### List slicing"
   ]
  },
  {
   "cell_type": "markdown",
   "metadata": {},
   "source": [
    "Copy of whole list:"
   ]
  },
  {
   "cell_type": "code",
   "execution_count": null,
   "metadata": {},
   "outputs": [],
   "source": [
    "a_list = [1, 2, 'a', 'string', 3.14159, True, \"red\", 3]\n",
    "new_list = a_list[:]  \n",
    "print(new_list)\n",
    "a_list[0] = 999\n",
    "print(\"new_list:\", new_list)\n",
    "print(\"a_list:\", a_list)"
   ]
  },
  {
   "cell_type": "markdown",
   "metadata": {},
   "source": [
    "Copy of list from 3 on:"
   ]
  },
  {
   "cell_type": "code",
   "execution_count": null,
   "metadata": {},
   "outputs": [],
   "source": [
    "new_list = a_list[3:]  \n",
    "print(new_list)"
   ]
  },
  {
   "cell_type": "markdown",
   "metadata": {},
   "source": [
    "Copy of list up to 4:"
   ]
  },
  {
   "cell_type": "code",
   "execution_count": null,
   "metadata": {},
   "outputs": [],
   "source": [
    "new_list = a_list[:4]  \n",
    "print(new_list)"
   ]
  },
  {
   "cell_type": "markdown",
   "metadata": {},
   "source": [
    "We can also index from the back of the list, using negative indices:"
   ]
  },
  {
   "cell_type": "code",
   "execution_count": null,
   "metadata": {},
   "outputs": [],
   "source": [
    "print(a_list[-1])"
   ]
  },
  {
   "cell_type": "code",
   "execution_count": null,
   "metadata": {},
   "outputs": [],
   "source": [
    "print(a_list)"
   ]
  },
  {
   "cell_type": "code",
   "execution_count": null,
   "metadata": {},
   "outputs": [],
   "source": [
    "print(a_list[1:8:3])\n",
    "print(a_list[::2])"
   ]
  },
  {
   "cell_type": "markdown",
   "metadata": {},
   "source": [
    "### Joining lists into a string\n",
    "\n",
    "We can take a list of strings and join them into a single string:"
   ]
  },
  {
   "cell_type": "code",
   "execution_count": 37,
   "metadata": {},
   "outputs": [
    {
     "name": "stdout",
     "output_type": "stream",
     "text": [
      "These are some words in a list\n",
      "Type of words: <class 'list'>\n",
      "Type of sentence: <class 'str'>\n",
      "id words: 4432426632 ; id sentence: 4432247744\n",
      "id sentence2: 4432247744 id sentence3: 4432247504\n"
     ]
    }
   ],
   "source": [
    "words = ['These','are','some','words','in','a','list']\n",
    "sentence = ' '.join(words)\n",
    "\n",
    "print(sentence)\n",
    "sentence2 = sentence\n",
    "sentence3 = ' '.join(words)\n",
    "\n",
    "print(\"Type of words:\", type(words))\n",
    "print(\"Type of sentence:\", type(sentence))\n",
    "print(\"id words:\", id(words), \"; id sentence:\", id(sentence)) \n",
    "print(\"id sentence2:\", id(sentence2), \"id sentence3:\", id(sentence3))"
   ]
  },
  {
   "cell_type": "markdown",
   "metadata": {},
   "source": [
    "### List as a param to a function which changes the list\n",
    "\n",
    "Let's randomly replace 3 elements in a list with 'x'.\n",
    "This function modifies the list *in-place* and does not return it."
   ]
  },
  {
   "cell_type": "code",
   "execution_count": 11,
   "metadata": {},
   "outputs": [
    {
     "name": "stdout",
     "output_type": "stream",
     "text": [
      "['x', 'x', 'c', 'd', 'x', 'f', 'g']\n"
     ]
    }
   ],
   "source": [
    "import random\n",
    "\n",
    "def random_list_changer(list_to_change):\n",
    "    if (len(list_to_change) <= 7):\n",
    "        for loop_index in range(3):\n",
    "            # may overwrite same location! \n",
    "            random_index = random.randint(0, 6) \n",
    "            list_to_change[random_index] = 'x'\n",
    "\n",
    "def main():\n",
    "    a_list = ['a', 'b', 'c', 'd', 'e', 'f', 'g']\n",
    "    random_list_changer(a_list)\n",
    "    print(a_list)   # Note that the list has changed!\n",
    "\n",
    "main()"
   ]
  },
  {
   "cell_type": "markdown",
   "metadata": {},
   "source": [
    "#### When are objects actually the same object?"
   ]
  },
  {
   "cell_type": "markdown",
   "metadata": {},
   "source": [
    "Two ints:"
   ]
  },
  {
   "cell_type": "code",
   "execution_count": 29,
   "metadata": {},
   "outputs": [
    {
     "name": "stdout",
     "output_type": "stream",
     "text": [
      "my_int == an_int: True\n",
      "4305276064 4305276064\n",
      "True\n"
     ]
    }
   ],
   "source": [
    "an_int = 5  # 00000\n",
    "my_int = 5  # 00000\n",
    "# an_int = 6\n",
    "# my_int = 8\n",
    "\n",
    "print(\"my_int == an_int:\", my_int == an_int)\n",
    "print(id(an_int), id(my_int))\n",
    "print(an_int is my_int)"
   ]
  },
  {
   "cell_type": "markdown",
   "metadata": {},
   "source": [
    "Two lists:"
   ]
  },
  {
   "cell_type": "code",
   "execution_count": 27,
   "metadata": {},
   "outputs": [
    {
     "name": "stdout",
     "output_type": "stream",
     "text": [
      "4432426760 4432426760\n",
      "True\n"
     ]
    }
   ],
   "source": [
    "a_list = [1, 2, 3, 4, 5]\n",
    "b_list = a_list\n",
    "# a_list = \"Hello\"\n",
    "\n",
    "print(id(a_list), id(b_list))\n",
    "print(a_list is b_list)"
   ]
  },
  {
   "cell_type": "markdown",
   "metadata": {},
   "source": [
    "Let's change an item in a_list and see what happens:"
   ]
  },
  {
   "cell_type": "code",
   "execution_count": 28,
   "metadata": {},
   "outputs": [
    {
     "name": "stdout",
     "output_type": "stream",
     "text": [
      "a_list = [1, 2, 3, 10, 5] ; b_list = [1, 2, 3, 10, 5]\n",
      "4432426760 4432426760\n",
      "True\n"
     ]
    }
   ],
   "source": [
    "a_list[3] = 10\n",
    "print(\"a_list =\", a_list, \"; b_list =\", b_list)\n",
    "\n",
    "print(id(a_list), id(b_list))\n",
    "print(a_list is b_list)"
   ]
  },
  {
   "cell_type": "markdown",
   "metadata": {},
   "source": [
    "Taking a list slice creates a new list!"
   ]
  },
  {
   "cell_type": "code",
   "execution_count": 30,
   "metadata": {},
   "outputs": [
    {
     "name": "stdout",
     "output_type": "stream",
     "text": [
      "[2, 4, 6, 8]\n"
     ]
    }
   ],
   "source": [
    "c_list = [2, 4, 6, 8]\n",
    "d_list = c_list[:]  # list copy via slice\n",
    "print(d_list)"
   ]
  },
  {
   "cell_type": "code",
   "execution_count": 31,
   "metadata": {},
   "outputs": [
    {
     "name": "stdout",
     "output_type": "stream",
     "text": [
      "False\n",
      "4432485192 4432482952\n"
     ]
    }
   ],
   "source": [
    "print(c_list is d_list)\n",
    "print(id(c_list), id(d_list))"
   ]
  },
  {
   "cell_type": "code",
   "execution_count": 33,
   "metadata": {},
   "outputs": [
    {
     "name": "stdout",
     "output_type": "stream",
     "text": [
      "c_list = ['Hello', 4, 6, 8] ; d_list = [2, 4, 6, 8]\n"
     ]
    }
   ],
   "source": [
    "c_list[0] = 'Hello'\n",
    "print(\"c_list =\", c_list, \"; d_list =\", d_list)"
   ]
  },
  {
   "cell_type": "code",
   "execution_count": null,
   "metadata": {},
   "outputs": [],
   "source": []
  }
 ],
 "metadata": {
  "kernelspec": {
   "display_name": "Python 3",
   "language": "python",
   "name": "python3"
  },
  "language_info": {
   "codemirror_mode": {
    "name": "ipython",
    "version": 3
   },
   "file_extension": ".py",
   "mimetype": "text/x-python",
   "name": "python",
   "nbconvert_exporter": "python",
   "pygments_lexer": "ipython3",
   "version": "3.6.2"
  }
 },
 "nbformat": 4,
 "nbformat_minor": 2
}
