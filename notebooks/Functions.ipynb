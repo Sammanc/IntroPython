{
 "cells": [
  {
   "cell_type": "markdown",
   "metadata": {},
   "source": [
    "## Functions"
   ]
  },
  {
   "cell_type": "markdown",
   "metadata": {},
   "source": [
    "A *function* is a package of code we can call repeatedly. You can view it as a machine that takes some input and turns it into some output.\n",
    "\n",
    "<img src=\"https://upload.wikimedia.org/wikipedia/commons/thumb/3/3b/Function_machine2.svg/440px-Function_machine2.svg.png\" alt=\"A function\" style=\"width: 33%;\"/>\n",
    "\n",
    "Functions:\n",
    "- takes zero or more arguments as input\n",
    "- return one value (potentially a compound object) as output\n",
    "\n",
    "Using functions serves several purposes:\n",
    "\n",
    "1. it names a computation\n",
    "1. it makes the code easier to read by hiding details inside the fuction\n",
    "1. it means we don't have to repeat lines of code throughout our program, easing maintenance\n"
   ]
  },
  {
   "cell_type": "markdown",
   "metadata": {},
   "source": [
    "Function definition - accepts no arguments, returns nothing:"
   ]
  },
  {
   "cell_type": "code",
   "execution_count": 2,
   "metadata": {},
   "outputs": [
    {
     "name": "stdout",
     "output_type": "stream",
     "text": [
      "Goodbye from the temperature converter!\n"
     ]
    },
    {
     "data": {
      "text/plain": [
       "4434584576"
      ]
     },
     "execution_count": 2,
     "metadata": {},
     "output_type": "execute_result"
    }
   ],
   "source": [
    "x = 17\n",
    "\n",
    "def print_welcome_message():\n",
    "    # signature: None -> None\n",
    "    print (\"Goodbye from the temperature converter!\")\n",
    "\n",
    "print_welcome_message()\n",
    "id(print_welcome_message)"
   ]
  },
  {
   "cell_type": "markdown",
   "metadata": {},
   "source": [
    "Function definition - accept one int argument, returns nothing:"
   ]
  },
  {
   "cell_type": "code",
   "execution_count": null,
   "metadata": {},
   "outputs": [],
   "source": [
    "def print_blank_lines(num_lines):\n",
    "    # signature: int -> None\n",
    "    for line_number in range(0, num_lines):\n",
    "        print()\n",
    "\n",
    "print_blank_lines(2)"
   ]
  },
  {
   "cell_type": "markdown",
   "metadata": {},
   "source": [
    "Function definition - accepts one number, returns a float:"
   ]
  },
  {
   "cell_type": "code",
   "execution_count": null,
   "metadata": {},
   "outputs": [],
   "source": [
    "def celsius_to_farenheit(celsius):\n",
    "    # sig: float -> float\n",
    "    return celsius * (9/5) + 32\n",
    "\n",
    "celsius_to_farenheit(100)"
   ]
  },
  {
   "cell_type": "code",
   "execution_count": null,
   "metadata": {},
   "outputs": [],
   "source": [
    "def nice_print(c, f):\n",
    "    print(\"{:5.2f} degrees celsius is {:5.2f} degrees fahrenheit.\".format(c, f))"
   ]
  },
  {
   "cell_type": "markdown",
   "metadata": {},
   "source": [
    "Function invocation (calling our functions):"
   ]
  },
  {
   "cell_type": "code",
   "execution_count": null,
   "metadata": {},
   "outputs": [],
   "source": [
    "print_welcome_message()\n",
    "print_blank_lines(3)\n",
    "\n",
    "celsius = 55.0\n",
    "fahrenheit = celsius_to_farenheit(celsius)\n",
    "nice_print(celsius, fahrenheit)\n",
    "nice_print(20.55, celsius_to_farenheit(celsius))\n",
    "nice_print(12.8, celsius_to_farenheit(12.8))"
   ]
  },
  {
   "cell_type": "markdown",
   "metadata": {},
   "source": [
    "### More function definition examples:"
   ]
  },
  {
   "cell_type": "code",
   "execution_count": null,
   "metadata": {},
   "outputs": [],
   "source": [
    "def fancy_print_gpa(name, gpa):\n",
    "    # sig: String, float -> None\n",
    "    print(\"{:s} has a gpa of {:1.2f}\".format(name, gpa))\n",
    "    \n",
    "fancy_print_gpa(\"Euvin\", 4)"
   ]
  },
  {
   "cell_type": "code",
   "execution_count": null,
   "metadata": {},
   "outputs": [],
   "source": [
    "def extract_nth_char(input_string, position):\n",
    "    # sig: String, int -> String\n",
    "    if len(input_string) > position:\n",
    "        return input_string[position]\n",
    "    else:\n",
    "        return \"ERROR\"\n",
    "    \n",
    "extract_nth_char(\"Hello class\", 5)"
   ]
  },
  {
   "cell_type": "code",
   "execution_count": null,
   "metadata": {},
   "outputs": [],
   "source": [
    "def print_results(index, sample, result):\n",
    "    # sig: int, String, String -> None\n",
    "    print(\"The {}th character of '{}' is '{}'\".format(index,\n",
    "                                                      sample,\n",
    "                                                      result))"
   ]
  },
  {
   "cell_type": "code",
   "execution_count": null,
   "metadata": {},
   "outputs": [],
   "source": [
    "gpa = 0.8\n",
    "fancy_print_gpa(\"Peter\", gpa)"
   ]
  },
  {
   "cell_type": "code",
   "execution_count": null,
   "metadata": {},
   "outputs": [],
   "source": [
    "index = 25\n",
    "sample = \"This is a sample string\"\n",
    "result = extract_nth_char(sample, index)\n",
    "if result != \"ERROR\":\n",
    "    print_results(index, sample, result)\n",
    "else:\n",
    "    print(\"Something bad happened.\")"
   ]
  },
  {
   "cell_type": "markdown",
   "metadata": {},
   "source": [
    "### Using a `main()` function:"
   ]
  },
  {
   "cell_type": "markdown",
   "metadata": {},
   "source": [
    "`main()` in Python is the customary name for a function to execute *if* your code is running as the top-level module in a Python program.\n",
    "\n",
    "[Here is how `main()` is used.](https://docs.python.org/3/library/__main__.html)\n",
    "\n",
    "Here is some code with a `main()` function:"
   ]
  },
  {
   "cell_type": "code",
   "execution_count": 1,
   "metadata": {},
   "outputs": [],
   "source": [
    "def double_it(some_number):\n",
    "    return some_number * 2\n",
    "\n",
    "def main():\n",
    "    print(\"Welcome to my program.\")\n",
    "    value = int(input(\"Enter an integer and I'll double it! \"))\n",
    "\n",
    "    print(\"Your value doubled is:\",\n",
    "          double_it(value))"
   ]
  },
  {
   "cell_type": "markdown",
   "metadata": {},
   "source": [
    "Now run `main()`:"
   ]
  },
  {
   "cell_type": "code",
   "execution_count": 2,
   "metadata": {},
   "outputs": [
    {
     "name": "stdout",
     "output_type": "stream",
     "text": [
      "Welcome to my program.\n",
      "Enter an integer and I'll double it! 23\n",
      "Your value doubled is: 46\n"
     ]
    }
   ],
   "source": [
    "main()"
   ]
  },
  {
   "cell_type": "markdown",
   "metadata": {},
   "source": [
    "### Functions (Larger example)\n",
    "\n",
    "We will calculate the area of a triangle, given length of 3 sides:\n",
    "\n",
    "s = (a + b + c) / 2\n",
    "\n",
    "area = sqrt(s * (s-a) * (s-b) * (s-c))"
   ]
  },
  {
   "cell_type": "code",
   "execution_count": 9,
   "metadata": {},
   "outputs": [],
   "source": [
    "import math\n",
    "\n",
    "def get_coord(x_or_y):\n",
    "    return float(input(\"   Please enter \" + x_or_y + \":\"))\n",
    "\n",
    "def get_vertex():\n",
    "    # sig: None -> float, float\n",
    "    x = get_coord(\"x\")\n",
    "    y = get_coord(\"y\")\n",
    "    return x,y   \n",
    "# NOTE! This function returns two values as one!"
   ]
  },
  {
   "cell_type": "code",
   "execution_count": 10,
   "metadata": {},
   "outputs": [],
   "source": [
    "def get_triangle():\n",
    "    # sig: None -> (float, float, float, float, float, float)\n",
    "    print(\"\\nEnter the first vertex:\")\n",
    "    x1, y1 = get_vertex()\n",
    "\n",
    "    print(\"\\nEnter the second vertex:\")\n",
    "    x2, y2 = get_vertex()\n",
    "\n",
    "    print(\"\\nEnter the third vertex:\")\n",
    "    x3, y3 = get_vertex()\n",
    "\n",
    "    return x1, y1, x2, y2, x3, y3 \n",
    "    # NOTE! This function returns six values as one!"
   ]
  },
  {
   "cell_type": "code",
   "execution_count": 11,
   "metadata": {},
   "outputs": [],
   "source": [
    "def calc_side_length(x1, y1, a, b):\n",
    "    # sig: float, float, float, float -> float\n",
    "    return math.sqrt((x1-a)**2 + (y1-b)**2)"
   ]
  },
  {
   "cell_type": "code",
   "execution_count": 12,
   "metadata": {},
   "outputs": [],
   "source": [
    "def calc_area(x1, y1, x2, y2, x3, y3):\n",
    "    ''' return area using Heron's formula '''\n",
    "    # sig: float, float, float, float, float, float -> float\n",
    "    a = calc_side_length(x1, y1, x2, y2)\n",
    "    b = calc_side_length(x2, y2, x3, y3)\n",
    "    c = calc_side_length(x3, y3, x1, y1)\n",
    "    s = (1/2) * (a + b + c)\n",
    "    return math.sqrt(s * (s-a) * (s-b) * (s-c))"
   ]
  },
  {
   "cell_type": "code",
   "execution_count": 13,
   "metadata": {},
   "outputs": [
    {
     "name": "stdout",
     "output_type": "stream",
     "text": [
      "\n",
      "Enter the first vertex:\n",
      "   Please enter x:4\n",
      "   Please enter y:6\n",
      "\n",
      "Enter the second vertex:\n",
      "   Please enter x:6\n",
      "   Please enter y:4\n",
      "\n",
      "Enter the third vertex:\n",
      "   Please enter x:0\n",
      "   Please enter y:0\n",
      "Area is: 10.0000\n"
     ]
    }
   ],
   "source": [
    "x1, y1, x2, y2, x3, y3 = get_triangle()\n",
    "area = calc_area(x1, y1, x2, y2, x3, y3)\n",
    "print(\"Area is: {:2.4f}\".format(area))"
   ]
  },
  {
   "cell_type": "code",
   "execution_count": null,
   "metadata": {},
   "outputs": [],
   "source": []
  }
 ],
 "metadata": {
  "kernelspec": {
   "display_name": "Python 3",
   "language": "python",
   "name": "python3"
  },
  "language_info": {
   "codemirror_mode": {
    "name": "ipython",
    "version": 3
   },
   "file_extension": ".py",
   "mimetype": "text/x-python",
   "name": "python",
   "nbconvert_exporter": "python",
   "pygments_lexer": "ipython3",
   "version": "3.6.2"
  }
 },
 "nbformat": 4,
 "nbformat_minor": 2
}
