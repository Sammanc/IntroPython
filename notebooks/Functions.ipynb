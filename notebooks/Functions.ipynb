{
 "cells": [
  {
   "cell_type": "markdown",
   "metadata": {},
   "source": [
    "## Functions"
   ]
  },
  {
   "cell_type": "markdown",
   "metadata": {},
   "source": [
    "A *function* is a package of code we can call repeatedly. \n",
    "\n",
    "Functions:\n",
    "- takes zero or more arguments as input\n",
    "- return one value (potentially a compound object) as output\n",
    "\n",
    "Using functions serves several purposes:\n",
    "\n",
    "1. it names a computation\n",
    "1. it makes the code easier to read by hiding details inside the fuction\n",
    "1. it means we don't have to repeat lines of code throughout our program, easing maintenance\n"
   ]
  },
  {
   "cell_type": "markdown",
   "metadata": {},
   "source": [
    "Function definition - accepts no arguments, returns nothing:"
   ]
  },
  {
   "cell_type": "code",
   "execution_count": 5,
   "metadata": {},
   "outputs": [],
   "source": [
    "def print_welcome_message():\n",
    "    # sig: None -> None\n",
    "    print (\"Welcome to the temperature converter!\")"
   ]
  },
  {
   "cell_type": "markdown",
   "metadata": {},
   "source": [
    "Function definition - accept one int argument, returns nothing:"
   ]
  },
  {
   "cell_type": "code",
   "execution_count": 6,
   "metadata": {},
   "outputs": [],
   "source": [
    "def print_blank_lines(num_lines):\n",
    "    # sig: int -> None\n",
    "    for line_number in range(0, num_lines):\n",
    "        print()"
   ]
  },
  {
   "cell_type": "markdown",
   "metadata": {},
   "source": [
    "Function definition - accepts one number, returns a float:"
   ]
  },
  {
   "cell_type": "code",
   "execution_count": 7,
   "metadata": {},
   "outputs": [],
   "source": [
    "def celsius_to_farenheit(celsius_float):\n",
    "    # sig: float -> float\n",
    "    result = celsius_float * (9/5) + 32\n",
    "    return result"
   ]
  },
  {
   "cell_type": "code",
   "execution_count": 17,
   "metadata": {},
   "outputs": [],
   "source": [
    "def nice_print(c, f):\n",
    "    print(\"{:5.2f} degrees celsius is {:5.2f} degrees fahrenheit.\".format(c, f))"
   ]
  },
  {
   "cell_type": "markdown",
   "metadata": {},
   "source": [
    "Function invocation (calling our functions):"
   ]
  },
  {
   "cell_type": "code",
   "execution_count": 18,
   "metadata": {},
   "outputs": [
    {
     "name": "stdout",
     "output_type": "stream",
     "text": [
      "Welcome to the temperature converter!\n",
      "\n",
      "\n",
      "\n",
      "55.00 degrees celsius is 131.00 degrees fahrenheit.\n",
      "20.55 degrees celsius is 131.00 degrees fahrenheit.\n",
      "12.80 degrees celsius is 55.04 degrees fahrenheit.\n"
     ]
    }
   ],
   "source": [
    "print_welcome_message()\n",
    "print_blank_lines(3)\n",
    "\n",
    "celsius = 55.0\n",
    "fahrenheit = celsius_to_farenheit(celsius)\n",
    "nice_print(celsius, fahrenheit)\n",
    "nice_print(20.55, celsius_to_farenheit(celsius))\n",
    "nice_print(12.8, celsius_to_farenheit(12.8))"
   ]
  },
  {
   "cell_type": "markdown",
   "metadata": {},
   "source": [
    "### More function definition examples:"
   ]
  },
  {
   "cell_type": "code",
   "execution_count": 10,
   "metadata": {},
   "outputs": [],
   "source": [
    "def fancy_print_gpa(name, gpa):\n",
    "    # sig: String, float -> None\n",
    "    print(\"{:s} has a gpa of {:1.2f}\".format(name, gpa))"
   ]
  },
  {
   "cell_type": "code",
   "execution_count": 11,
   "metadata": {},
   "outputs": [],
   "source": [
    "def extract_nth_char(input_string, position):\n",
    "    # sig: String, int -> String\n",
    "    if len(input_string) > position:\n",
    "        return input_string[position]\n",
    "    else:\n",
    "        return \"ERROR\""
   ]
  },
  {
   "cell_type": "code",
   "execution_count": 15,
   "metadata": {},
   "outputs": [],
   "source": [
    "def print_results(index, sample, result):\n",
    "    # sig: int, String, String -> None\n",
    "    print(\"The {}th character of '{}' is '{}'\".format(index, sample, result))"
   ]
  },
  {
   "cell_type": "code",
   "execution_count": 16,
   "metadata": {},
   "outputs": [
    {
     "name": "stdout",
     "output_type": "stream",
     "text": [
      "Peter has a gpa of 0.80\n",
      "The 12th character of 'This is a sample string' is 'm'\n"
     ]
    }
   ],
   "source": [
    "gpa = 0.8\n",
    "fancy_print_gpa(\"Peter\", gpa)\n",
    "\n",
    "index = 12\n",
    "sample = \"This is a sample string\"\n",
    "result = extract_nth_char(sample, index)\n",
    "if result != \"ERROR\":\n",
    "    print_results(index, sample, result)\n",
    "else:\n",
    "    print(\"Something bad happened.\")"
   ]
  },
  {
   "cell_type": "markdown",
   "metadata": {},
   "source": [
    "### Using a `main()` function:"
   ]
  },
  {
   "cell_type": "markdown",
   "metadata": {},
   "source": [
    "`main()` in Python is the customary name for a function to execute *if* your code is running as the top-level module in a Python program.\n",
    "\n",
    "[Here is how `main()` is used.](https://docs.python.org/3/library/__main__.html)\n",
    "\n",
    "Here is some code with a `main()` function:"
   ]
  },
  {
   "cell_type": "code",
   "execution_count": 21,
   "metadata": {},
   "outputs": [],
   "source": [
    "def double_it(some_number):\n",
    "    return some_number*2\n",
    "\n",
    "def main():\n",
    "    print(\"Welcome to my program.\")\n",
    "    value = int(input(\"Enter an int and I'll double it! \"))\n",
    "\n",
    "    result = double_it(value)\n",
    "    print(\"Your value doubled is:\", result)"
   ]
  },
  {
   "cell_type": "markdown",
   "metadata": {},
   "source": [
    "Now run `main()`:"
   ]
  },
  {
   "cell_type": "code",
   "execution_count": 22,
   "metadata": {},
   "outputs": [
    {
     "name": "stdout",
     "output_type": "stream",
     "text": [
      "Welcome to my program.\n",
      "Enter an int and I'll double it! 23\n",
      "Your value doubled is: 46\n"
     ]
    }
   ],
   "source": [
    "main()"
   ]
  },
  {
   "cell_type": "markdown",
   "metadata": {},
   "source": [
    "### Functions (Larger example)\n",
    "\n",
    "We will calculate the area of a triangle, given length of 3 sides:\n",
    "\n",
    "s = (a + b + c) / 2\n",
    "area = sqrt(s * (s-a) * (s-b) * (s-c))"
   ]
  },
  {
   "cell_type": "code",
   "execution_count": 23,
   "metadata": {},
   "outputs": [],
   "source": [
    "import math\n",
    "\n",
    "def get_vertex():\n",
    "    # sig: None -> float, float\n",
    "    x = float(input(\"   Please enter x:\"))\n",
    "    y = float(input(\"   Please enter y:\"))\n",
    "    return x,y   # NOTE! This function returns two values at one!"
   ]
  },
  {
   "cell_type": "code",
   "execution_count": 28,
   "metadata": {},
   "outputs": [],
   "source": [
    "def get_triangle():\n",
    "    # sig: None -> (float, float, float, float, float, float)\n",
    "    print(\"\\nEnter the first vertex:\")\n",
    "    x1, y1 = get_vertex()\n",
    "\n",
    "    print(\"\\nEnter the second vertex:\")\n",
    "    x2, y2 = get_vertex()\n",
    "\n",
    "    print(\"\\nEnter the third vertex:\")\n",
    "    x3, y3 = get_vertex()\n",
    "\n",
    "    return x1, y1, x2, y2, x3, y3 \n",
    "    # NOTE! This function returns six values as one!"
   ]
  },
  {
   "cell_type": "code",
   "execution_count": 25,
   "metadata": {},
   "outputs": [],
   "source": [
    "def calc_side_length(x1, y1, a, b):\n",
    "    # sig: float, float, float, float -> float\n",
    "    return math.sqrt((x1-a)**2 + (y1-b)**2)"
   ]
  },
  {
   "cell_type": "code",
   "execution_count": 30,
   "metadata": {},
   "outputs": [],
   "source": [
    "def calc_area(x1, y1, x2, y2, x3, y3):\n",
    "    ''' return area using Heron's formula '''\n",
    "    # sig: float, float, float, float, float, float -> float\n",
    "    a = calc_side_length(x1, y1, x2, y2)\n",
    "    b = calc_side_length(x2, y2, x3, y3)\n",
    "    c = calc_side_length(x3, y3, x1, y1)\n",
    "    s = (1/2) * (a + b + c)\n",
    "    return math.sqrt(s * (s-a) * (s-b) * (s-c))"
   ]
  },
  {
   "cell_type": "code",
   "execution_count": 29,
   "metadata": {},
   "outputs": [
    {
     "name": "stdout",
     "output_type": "stream",
     "text": [
      "\n",
      "Enter the first vertex:\n",
      "   Please enter x:12\n",
      "   Please enter y:12\n",
      "\n",
      "Enter the second vertex:\n",
      "   Please enter x:4\n",
      "   Please enter y:4\n",
      "\n",
      "Enter the third vertex:\n",
      "   Please enter x:8\n",
      "   Please enter y:8\n",
      "Area is: 0.0000\n"
     ]
    }
   ],
   "source": [
    "x1, y1, x2, y2, x3, y3 = get_triangle()\n",
    "area = calc_area(x1, y1, x2, y2, x3, y3)\n",
    "print(\"Area is: {:2.4f}\".format(area))"
   ]
  },
  {
   "cell_type": "code",
   "execution_count": null,
   "metadata": {},
   "outputs": [],
   "source": []
  }
 ],
 "metadata": {
  "kernelspec": {
   "display_name": "Python 3",
   "language": "python",
   "name": "python3"
  },
  "language_info": {
   "codemirror_mode": {
    "name": "ipython",
    "version": 3
   },
   "file_extension": ".py",
   "mimetype": "text/x-python",
   "name": "python",
   "nbconvert_exporter": "python",
   "pygments_lexer": "ipython3",
   "version": "3.6.2"
  }
 },
 "nbformat": 4,
 "nbformat_minor": 2
}
