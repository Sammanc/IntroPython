{
 "cells": [
  {
   "cell_type": "markdown",
   "metadata": {},
   "source": [
    "## Functions"
   ]
  },
  {
   "cell_type": "markdown",
   "metadata": {},
   "source": [
    "A *function* is a package of code we can call repeatedly. \n",
    "\n",
    "Functions:\n",
    "- takes zero or more arguments as input\n",
    "- return one value (potentially a compound object) as output\n",
    "\n",
    "Using functions serves several purposes:\n",
    "\n",
    "1. it names a computation\n",
    "1. it makes the code easier to read by hiding details inside the fuction\n",
    "1. it means we don't have to repeat lines of code throughout our program, easing maintenance\n"
   ]
  },
  {
   "cell_type": "code",
   "execution_count": 2,
   "metadata": {},
   "outputs": [
    {
     "ename": "SyntaxError",
     "evalue": "invalid syntax (<ipython-input-2-4b4eecbb5c28>, line 1)",
     "output_type": "error",
     "traceback": [
      "\u001b[0;36m  File \u001b[0;32m\"<ipython-input-2-4b4eecbb5c28>\"\u001b[0;36m, line \u001b[0;32m1\u001b[0m\n\u001b[0;31m    Function definition - accepts no arguments, returns nothing:\u001b[0m\n\u001b[0m                      ^\u001b[0m\n\u001b[0;31mSyntaxError\u001b[0m\u001b[0;31m:\u001b[0m invalid syntax\n"
     ]
    }
   ],
   "source": [
    "Function definition - accepts no arguments, returns nothing:"
   ]
  },
  {
   "cell_type": "code",
   "execution_count": null,
   "metadata": {},
   "outputs": [],
   "source": [
    "def print_welcome_message():\n",
    "    # sig: None -> None\n",
    "    print (\"Welcome to the temperature converter!\")"
   ]
  },
  {
   "cell_type": "markdown",
   "metadata": {},
   "source": [
    "Function definition - accept one int argument, returns nothing:"
   ]
  },
  {
   "cell_type": "code",
   "execution_count": null,
   "metadata": {},
   "outputs": [],
   "source": [
    "def print_blank_lines(num_lines):\n",
    "    # sig: int -> None\n",
    "    for line_number in range(0, num_lines):\n",
    "        print()"
   ]
  },
  {
   "cell_type": "markdown",
   "metadata": {},
   "source": [
    "Function definition - accepts one number, returns a float:"
   ]
  },
  {
   "cell_type": "code",
   "execution_count": null,
   "metadata": {},
   "outputs": [],
   "source": [
    "def celsius_to_farenheit(celsius_float):\n",
    "    # sig: float -> float\n",
    "    result = celsius_float * (9/5) + 32\n",
    "    return result"
   ]
  },
  {
   "cell_type": "code",
   "execution_count": null,
   "metadata": {},
   "outputs": [],
   "source": [
    "def nice_print(c, f):\n",
    "    print(\"{:5.2f} degrees celsius is {:5.2f} degrees fahrenheit.\".format(c, f))"
   ]
  },
  {
   "cell_type": "markdown",
   "metadata": {},
   "source": [
    "Function invocation (calling the function):"
   ]
  },
  {
   "cell_type": "code",
   "execution_count": null,
   "metadata": {},
   "outputs": [],
   "source": [
    "print_welcome_message()\n",
    "print_blank_lines(3)\n",
    "\n",
    "celsius = 55.0\n",
    "fahrenheit = celsius_to_farenheit(celsius)\n",
    "nice_print(celsius, fahrenheit)\n",
    "nice_print(20.55, celsius_to_farenheit(celsius))\n",
    "nice_print(12.8, celsius_to_farenheit(12.8))"
   ]
  }
 ],
 "metadata": {
  "kernelspec": {
   "display_name": "Python 3",
   "language": "python",
   "name": "python3"
  },
  "language_info": {
   "codemirror_mode": {
    "name": "ipython",
    "version": 3
   },
   "file_extension": ".py",
   "mimetype": "text/x-python",
   "name": "python",
   "nbconvert_exporter": "python",
   "pygments_lexer": "ipython3",
   "version": "3.6.2"
  }
 },
 "nbformat": 4,
 "nbformat_minor": 2
}
