{
 "cells": [
  {
   "cell_type": "markdown",
   "metadata": {},
   "source": [
    "## Functions"
   ]
  },
  {
   "cell_type": "markdown",
   "metadata": {},
   "source": [
    "A *function* is a package of code we can call repeatedly. \n",
    "\n",
    "Functions:\n",
    "- takes zero or more arguments as input\n",
    "- return one value (potentially a compound object) as output\n",
    "\n",
    "Using functions serves several purposes:\n",
    "\n",
    "1. it names a computation\n",
    "1. it makes the code easier to read by hiding details inside the fuction\n",
    "1. it means we don't have to repeat lines of code throughout our program, easing maintenance\n"
   ]
  },
  {
   "cell_type": "markdown",
   "metadata": {},
   "source": [
    "Function definition - accepts no arguments, returns nothing:"
   ]
  },
  {
   "cell_type": "code",
   "execution_count": 5,
   "metadata": {},
   "outputs": [],
   "source": [
    "def print_welcome_message():\n",
    "    # sig: None -> None\n",
    "    print (\"Welcome to the temperature converter!\")"
   ]
  },
  {
   "cell_type": "markdown",
   "metadata": {},
   "source": [
    "Function definition - accept one int argument, returns nothing:"
   ]
  },
  {
   "cell_type": "code",
   "execution_count": 6,
   "metadata": {},
   "outputs": [],
   "source": [
    "def print_blank_lines(num_lines):\n",
    "    # sig: int -> None\n",
    "    for line_number in range(0, num_lines):\n",
    "        print()"
   ]
  },
  {
   "cell_type": "markdown",
   "metadata": {},
   "source": [
    "Function definition - accepts one number, returns a float:"
   ]
  },
  {
   "cell_type": "code",
   "execution_count": 7,
   "metadata": {},
   "outputs": [],
   "source": [
    "def celsius_to_farenheit(celsius_float):\n",
    "    # sig: float -> float\n",
    "    result = celsius_float * (9/5) + 32\n",
    "    return result"
   ]
  },
  {
   "cell_type": "code",
   "execution_count": 8,
   "metadata": {},
   "outputs": [],
   "source": [
    "def nice_print(c, f):\n",
    "    print(\"{:5.2f} degrees celsius is\"\n",
    "          + \" {:5.2f} degrees fahrenheit.\".format(c, f))"
   ]
  },
  {
   "cell_type": "markdown",
   "metadata": {},
   "source": [
    "Function invocation (calling our functions):"
   ]
  },
  {
   "cell_type": "code",
   "execution_count": 9,
   "metadata": {},
   "outputs": [
    {
     "name": "stdout",
     "output_type": "stream",
     "text": [
      "Welcome to the temperature converter!\n",
      "\n",
      "\n",
      "\n",
      "{:5.2f} degrees celsius is 55.00 degrees fahrenheit.\n",
      "{:5.2f} degrees celsius is 20.55 degrees fahrenheit.\n",
      "{:5.2f} degrees celsius is 12.80 degrees fahrenheit.\n"
     ]
    }
   ],
   "source": [
    "print_welcome_message()\n",
    "print_blank_lines(3)\n",
    "\n",
    "celsius = 55.0\n",
    "fahrenheit = celsius_to_farenheit(celsius)\n",
    "nice_print(celsius, fahrenheit)\n",
    "nice_print(20.55, celsius_to_farenheit(celsius))\n",
    "nice_print(12.8, celsius_to_farenheit(12.8))"
   ]
  },
  {
   "cell_type": "markdown",
   "metadata": {},
   "source": [
    "### More function definition examples:"
   ]
  },
  {
   "cell_type": "code",
   "execution_count": 10,
   "metadata": {},
   "outputs": [],
   "source": [
    "def fancy_print_gpa(name, gpa):\n",
    "    # sig: String, float -> None\n",
    "    print(\"{:s} has a gpa of {:1.2f}\".format(name, gpa))"
   ]
  },
  {
   "cell_type": "code",
   "execution_count": 11,
   "metadata": {},
   "outputs": [],
   "source": [
    "def extract_nth_char(input_string, position):\n",
    "    # sig: String, int -> String\n",
    "    if len(input_string) > position:\n",
    "        return input_string[position]\n",
    "    else:\n",
    "        return \"ERROR\""
   ]
  },
  {
   "cell_type": "code",
   "execution_count": 13,
   "metadata": {},
   "outputs": [],
   "source": [
    "def print_results(index, sample, result):\n",
    "    # sig: int, String, String -> None\n",
    "    print(\"The {}th character of \"\n",
    "          + \"'{}' is '{}'\".format(index, sample, result))"
   ]
  },
  {
   "cell_type": "code",
   "execution_count": 14,
   "metadata": {},
   "outputs": [
    {
     "name": "stdout",
     "output_type": "stream",
     "text": [
      "Peter has a gpa of 0.80\n",
      "Enter for more...\n",
      "The {}th character of '12' is 'This is a sample string'\n"
     ]
    }
   ],
   "source": [
    "gpa = 0.8\n",
    "fancy_print_gpa(\"Peter\", gpa)\n",
    "input(\"Enter for more...\")\n",
    "\n",
    "index = 12\n",
    "sample = \"This is a sample string\"\n",
    "result = extract_nth_char(sample, index)\n",
    "if result != \"ERROR\":\n",
    "    print_results(index, sample, result)\n",
    "else:\n",
    "    print(\"Something bad happened.\")"
   ]
  },
  {
   "cell_type": "code",
   "execution_count": null,
   "metadata": {},
   "outputs": [],
   "source": []
  }
 ],
 "metadata": {
  "kernelspec": {
   "display_name": "Python 3",
   "language": "python",
   "name": "python3"
  },
  "language_info": {
   "codemirror_mode": {
    "name": "ipython",
    "version": 3
   },
   "file_extension": ".py",
   "mimetype": "text/x-python",
   "name": "python",
   "nbconvert_exporter": "python",
   "pygments_lexer": "ipython3",
   "version": "3.6.2"
  }
 },
 "nbformat": 4,
 "nbformat_minor": 2
}
