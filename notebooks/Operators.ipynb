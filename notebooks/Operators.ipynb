{
 "cells": [
  {
   "cell_type": "markdown",
   "metadata": {},
   "source": [
    "# Operators"
   ]
  },
  {
   "cell_type": "markdown",
   "metadata": {},
   "source": [
    "The distinctions between *operators* and *functions* in programming languages is somewhat arbitrary. What are regarded as *operators* are typically the mathemical symbols that come in between their *operands*, while in a function call, the name of the function comes first, followed by its *arguments*, which are equivalent to the *operands* of an *operator*. What the hey does all of this verbiage mean? Well, essentially, `add(3, 4)` is an alernative way of saying `3 + 4`.\n",
    "\n",
    "When we are using an operator, the things it is operating on are called *operands*. So in the expression above, `3` and `4` are the operands.\n",
    "\n",
    "Here are the Python operators we will be using:\n",
    "\n",
    "- +\n",
    "- -\n",
    "- *\n",
    "- \\*\\*\n",
    "- /\n",
    "- //\n",
    "- %\n",
    "- <\n",
    "- >\n",
    "- <=\n",
    "- \\>=\n",
    "- +=\n",
    "- -=\n",
    "- *=\n",
    "- **=\n",
    "- /=\n",
    "- //=\n",
    "- %=\n"
   ]
  },
  {
   "cell_type": "markdown",
   "metadata": {},
   "source": [
    "Let's look at examples of using them, especially the less familiar ones:"
   ]
  },
  {
   "cell_type": "code",
   "execution_count": 3,
   "metadata": {},
   "outputs": [
    {
     "name": "stdout",
     "output_type": "stream",
     "text": [
      "result 1 is 3.5 ; res2 is 3\n"
     ]
    }
   ],
   "source": [
    "n = 7\n",
    "res1 = n / 2\n",
    "res2 = n // 2\n",
    "print(\"result 1 is\", res1, \"; res2 is\", res2)"
   ]
  },
  {
   "cell_type": "code",
   "execution_count": 10,
   "metadata": {},
   "outputs": [
    {
     "name": "stdout",
     "output_type": "stream",
     "text": [
      "0 modulus  7  =  0\n",
      "1 modulus  7  =  1\n",
      "2 modulus  7  =  2\n",
      "3 modulus  7  =  3\n",
      "4 modulus  7  =  4\n",
      "5 modulus  7  =  5\n",
      "6 modulus  7  =  6\n",
      "7 modulus  7  =  0\n",
      "8 modulus  7  =  1\n",
      "9 modulus  7  =  2\n",
      "10 modulus  7  =  3\n",
      "11 modulus  7  =  4\n",
      "12 modulus  7  =  5\n",
      "13 modulus  7  =  6\n"
     ]
    }
   ],
   "source": [
    "mod_num = 7\n",
    "for i in range(0, 14):\n",
    "    print(i, \"modulus \", mod_num, \" = \", i % mod_num)"
   ]
  },
  {
   "cell_type": "code",
   "execution_count": 1,
   "metadata": {},
   "outputs": [
    {
     "data": {
      "text/plain": [
       "15"
      ]
     },
     "execution_count": 1,
     "metadata": {},
     "output_type": "execute_result"
    }
   ],
   "source": [
    "n = 7\n",
    "n += 8\n",
    "n"
   ]
  },
  {
   "cell_type": "code",
   "execution_count": 2,
   "metadata": {},
   "outputs": [
    {
     "data": {
      "text/plain": [
       "-1"
      ]
     },
     "execution_count": 2,
     "metadata": {},
     "output_type": "execute_result"
    }
   ],
   "source": [
    "n = 7\n",
    "n -= 8\n",
    "n"
   ]
  },
  {
   "cell_type": "code",
   "execution_count": 4,
   "metadata": {},
   "outputs": [
    {
     "data": {
      "text/plain": [
       "14"
      ]
     },
     "execution_count": 4,
     "metadata": {},
     "output_type": "execute_result"
    }
   ],
   "source": [
    "n = 7\n",
    "n *= 2\n",
    "n"
   ]
  },
  {
   "cell_type": "code",
   "execution_count": 5,
   "metadata": {},
   "outputs": [
    {
     "data": {
      "text/plain": [
       "1.5"
      ]
     },
     "execution_count": 5,
     "metadata": {},
     "output_type": "execute_result"
    }
   ],
   "source": [
    "n = 3\n",
    "n /= 2\n",
    "n"
   ]
  },
  {
   "cell_type": "code",
   "execution_count": 7,
   "metadata": {},
   "outputs": [
    {
     "data": {
      "text/plain": [
       "1"
      ]
     },
     "execution_count": 7,
     "metadata": {},
     "output_type": "execute_result"
    }
   ],
   "source": [
    "n = 3\n",
    "n //= 2\n",
    "n"
   ]
  },
  {
   "cell_type": "markdown",
   "metadata": {},
   "source": [
    "These operators can be combined into more complex expressions. For instance, what does the expression to the right of the `=` assign to `x`?"
   ]
  },
  {
   "cell_type": "code",
   "execution_count": 1,
   "metadata": {},
   "outputs": [],
   "source": [
    "x = 3 * 4 + 5"
   ]
  },
  {
   "cell_type": "markdown",
   "metadata": {},
   "source": [
    "a) 12\n",
    "\n",
    "b) 27\n",
    "\n",
    "c) 17\n",
    "\n",
    "d) Nothing: it is bad code!"
   ]
  },
  {
   "cell_type": "markdown",
   "metadata": {},
   "source": [
    "Let's say instead we write:"
   ]
  },
  {
   "cell_type": "code",
   "execution_count": 2,
   "metadata": {},
   "outputs": [],
   "source": [
    "x = 3 * (4 + 5)"
   ]
  },
  {
   "cell_type": "markdown",
   "metadata": {},
   "source": [
    "Now what is the value assigned to `x`?"
   ]
  },
  {
   "cell_type": "markdown",
   "metadata": {},
   "source": [
    "a) 12\n",
    "\n",
    "b) 27\n",
    "\n",
    "c) 17\n",
    "\n",
    "d) Nothing: it is bad code!"
   ]
  },
  {
   "cell_type": "markdown",
   "metadata": {},
   "source": [
    "Parentheses change the *precedence* of operations. You must understand the precedence of operators in order to make your calculation do what you want it to do.\n",
    "\n",
    "In Python, the order of precedence is:\n",
    "\n",
    "1. parentheses: `()`\n",
    "2. exponentiation: `**`\n",
    "3. negation: `-`\n",
    "4. multiplication, both divisions, modulus: `*`, `/`, `//`, `%`\n",
    "5. addition and subtraction: `+`, `-`\n",
    "6. position (left to right among equal precedence operators)"
   ]
  },
  {
   "cell_type": "markdown",
   "metadata": {},
   "source": [
    "Given the above rules, what is the result of evaluating:"
   ]
  },
  {
   "cell_type": "code",
   "execution_count": 3,
   "metadata": {},
   "outputs": [
    {
     "data": {
      "text/plain": [
       "2"
      ]
     },
     "execution_count": 3,
     "metadata": {},
     "output_type": "execute_result"
    }
   ],
   "source": [
    "(1 + 1) ** 2 - 2 ** 2 // 2"
   ]
  },
  {
   "cell_type": "markdown",
   "metadata": {},
   "source": [
    "a) 4\n",
    "\n",
    "b) 6\n",
    "\n",
    "c) 8\n",
    "\n",
    "d) 2"
   ]
  },
  {
   "cell_type": "code",
   "execution_count": null,
   "metadata": {},
   "outputs": [],
   "source": []
  }
 ],
 "metadata": {
  "kernelspec": {
   "display_name": "Python 3",
   "language": "python",
   "name": "python3"
  },
  "language_info": {
   "codemirror_mode": {
    "name": "ipython",
    "version": 3
   },
   "file_extension": ".py",
   "mimetype": "text/x-python",
   "name": "python",
   "nbconvert_exporter": "python",
   "pygments_lexer": "ipython3",
   "version": "3.6.9"
  }
 },
 "nbformat": 4,
 "nbformat_minor": 2
}
