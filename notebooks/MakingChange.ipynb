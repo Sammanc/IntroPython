{
 "cells": [
  {
   "cell_type": "markdown",
   "metadata": {},
   "source": [
    "# Making Change"
   ]
  },
  {
   "cell_type": "markdown",
   "metadata": {},
   "source": [
    "<img src=\"https://upload.wikimedia.org/wikipedia/commons/thumb/e/ee/Kiloware.JPG/516px-Kiloware.JPG\" width=\"24%\">\n",
    "\n",
    "Today we will write a program to \"make change\": given a user input dollar amount, the program will output what bills and coins to return to the customer who needs the change. So, given user entry of 4.32, we want to output:\n",
    "\n",
    "| Denomination | Amount |\n",
    "|--------------|--------|\n",
    "| Dollars      |    4   |\n",
    "| Quarters     |    1   |\n",
    "| Dimes        |    0   |\n",
    "| Nickels      |    1   |\n",
    "| Pennies      |    2   |\n",
    "\n",
    "So let's outline the program:"
   ]
  },
  {
   "cell_type": "code",
   "execution_count": 1,
   "metadata": {},
   "outputs": [],
   "source": [
    "def make_change():\n",
    "    \"\"\"Prompts user for an amount of change in decimal format.\n",
    "    Outputs the number of dollars, quarters, dimes,\n",
    "    nickels,and pennies needed to make this amount of \n",
    "    change withthe fewest monetary units.\n",
    "    \"\"\"\n",
    "    pass\n",
    "\n",
    "def main():\n",
    "    \"\"\"Calculates monetary units needed to make \n",
    "    user-input change amount.\n",
    "    \"\"\"\n",
    "    make_change()\n",
    "\n",
    "if __name__ == '__main__':\n",
    "    main()\n"
   ]
  },
  {
   "cell_type": "code",
   "execution_count": 2,
   "metadata": {},
   "outputs": [],
   "source": [
    "main()"
   ]
  },
  {
   "cell_type": "markdown",
   "metadata": {},
   "source": [
    "So far, so good! Everything \"runs,\" even though it is not yet really doing anything. It is much better to start with a program you know runs OK, and then gradually add pieces, testing each piece as you add it. That why, when Python \"complains\" -- and sooner or later, we all make some mistake, so we expect it will! -- you know the mistake must be in the last bit you added. That's much, much easier than writing 100 or 200 lines of code all at once, and then being faced with a dozen errors!\n",
    "\n",
    "Now let's write pseudo-code for the `make_change()` function:"
   ]
  },
  {
   "cell_type": "code",
   "execution_count": 3,
   "metadata": {},
   "outputs": [],
   "source": [
    "def make_change():\n",
    "    \"\"\"Prompts user for an amount of change in decimal format.\n",
    "    Outputs the number of dollars, quarters, dimes,\n",
    "    nickels,and pennies needed to make this amount of \n",
    "    change withthe fewest monetary units.\n",
    "    \"\"\"\n",
    "    # prompt user for change amount\n",
    "\n",
    "    # convert change amount to cents\n",
    "\n",
    "    # calculate and output number of dollars\n",
    "\n",
    "    # calculate and output number of quarters\n",
    "\n",
    "    # calculate and output number of dimes\n",
    "\n",
    "    # calculate and output number of nickels\n",
    "\n",
    "    # calculate and output number of pennies\n",
    "    pass\n"
   ]
  },
  {
   "cell_type": "markdown",
   "metadata": {},
   "source": [
    "Now let's start writing stubs for the functions that `make_change()` will call. For the user input, we can just call Python's built-in `input()` function, and capture its output in a variable. But what should we call the variable?\n",
    "\n",
    "a) CHANGE\n",
    "\n",
    "b) #change\n",
    "\n",
    "c) x\n",
    "\n",
    "d) change_str"
   ]
  },
  {
   "cell_type": "markdown",
   "metadata": {},
   "source": [
    "OK, here is our new `make_change()`:"
   ]
  },
  {
   "cell_type": "code",
   "execution_count": 6,
   "metadata": {},
   "outputs": [],
   "source": [
    "def make_change():\n",
    "    \"\"\"Prompts user for an amount of change in decimal format.\n",
    "    Outputs the number of dollars, quarters, dimes,\n",
    "    nickels,and pennies needed to make this amount of \n",
    "    change withthe fewest monetary units.\n",
    "    \"\"\"\n",
    "    # prompt user for change amount\n",
    "    change_str = input(\"For what amount do you need to make change?\")\n",
    "\n",
    "    # convert change amount to cents\n",
    "\n",
    "    # calculate and output number of dollars\n",
    "\n",
    "    # calculate and output number of quarters\n",
    "\n",
    "    # calculate and output number of dimes\n",
    "\n",
    "    # calculate and output number of nickels\n",
    "\n",
    "    # calculate and output number of pennies"
   ]
  },
  {
   "cell_type": "markdown",
   "metadata": {},
   "source": [
    "We can now test `make_change()`:"
   ]
  },
  {
   "cell_type": "code",
   "execution_count": 5,
   "metadata": {},
   "outputs": [
    {
     "name": "stdout",
     "output_type": "stream",
     "text": [
      "For what amount do you need to make change?5.67\n"
     ]
    }
   ],
   "source": [
    "make_change()"
   ]
  },
  {
   "cell_type": "markdown",
   "metadata": {},
   "source": [
    "Looks OK! But we don't want the amount as a string, right? What function should we call to make it a number with a decimal point?\n",
    "\n",
    "a) `str()`\n",
    "\n",
    "b) `float()`\n",
    "\n",
    "c) `print()`\n",
    "\n",
    "d) `int()`"
   ]
  },
  {
   "cell_type": "markdown",
   "metadata": {},
   "source": [
    "Here is the new `make_change()` -- I've thrown in a `print()` just to see if we have the amount right."
   ]
  },
  {
   "cell_type": "code",
   "execution_count": 7,
   "metadata": {},
   "outputs": [],
   "source": [
    "def make_change():\n",
    "    \"\"\"Prompts user for an amount of change in decimal format.\n",
    "    Outputs the number of dollars, quarters, dimes,\n",
    "    nickels,and pennies needed to make this amount of \n",
    "    change withthe fewest monetary units.\n",
    "    \"\"\"\n",
    "    # prompt user for change amount\n",
    "    change_str = input(\"For what amount do you need to make change?\")\n",
    "    change = float(change_str)\n",
    "    print(change)  # this print will be removed later!\n",
    "    \n",
    "    # convert change amount to cents\n",
    "\n",
    "    # calculate and output number of dollars\n",
    "\n",
    "    # calculate and output number of quarters\n",
    "\n",
    "    # calculate and output number of dimes\n",
    "\n",
    "    # calculate and output number of nickels\n",
    "\n",
    "    # calculate and output number of pennies"
   ]
  },
  {
   "cell_type": "code",
   "execution_count": 8,
   "metadata": {},
   "outputs": [
    {
     "name": "stdout",
     "output_type": "stream",
     "text": [
      "For what amount do you need to make change?4.56\n",
      "4.56\n"
     ]
    }
   ],
   "source": [
    "make_change()"
   ]
  },
  {
   "cell_type": "code",
   "execution_count": null,
   "metadata": {},
   "outputs": [],
   "source": []
  }
 ],
 "metadata": {
  "kernelspec": {
   "display_name": "Python 3",
   "language": "python",
   "name": "python3"
  },
  "language_info": {
   "codemirror_mode": {
    "name": "ipython",
    "version": 3
   },
   "file_extension": ".py",
   "mimetype": "text/x-python",
   "name": "python",
   "nbconvert_exporter": "python",
   "pygments_lexer": "ipython3",
   "version": "3.6.9"
  }
 },
 "nbformat": 4,
 "nbformat_minor": 4
}
