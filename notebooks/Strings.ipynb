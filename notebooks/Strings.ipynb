{
 "cells": [
  {
   "cell_type": "markdown",
   "metadata": {},
   "source": [
    "## Strings\n",
    "\n",
    "<img src=\"https://upload.wikimedia.org/wikipedia/commons/thumb/b/b4/0321_DNA_Macrostructure.jpg/300px-0321_DNA_Macrostructure.jpg\" width=\"33%\">\n",
    "\n",
    "A [*string*](https://en.wikipedia.org/wiki/String_%28computer_science%29) is a sequence of characters. We might commonly call it *text*.\n",
    "\n",
    "A *string literal* is a sequence of characters, between single or double quotes, written directly in the source code.\n",
    "\n",
    "Let's look at some things we can do with strings in Python."
   ]
  },
  {
   "cell_type": "markdown",
   "metadata": {},
   "source": [
    "### Valid strings"
   ]
  },
  {
   "cell_type": "code",
   "execution_count": null,
   "metadata": {},
   "outputs": [],
   "source": [
    "# Valid strings\n",
    "\n",
    "print('Single quoted: NYU')\n",
    "print()\n",
    "\n",
    "print(\"Double quoted: NYU\")\n",
    "print()\n",
    "\n",
    "print('''Triple quoted: NYU has established the Center for\n",
    "Social Media and Politics, which will examine the production,\n",
    "flow, and impact of social media content in the political sphere,\n",
    "as well as support research that uses social media data to study politics.\n",
    "\n",
    "Photo credit: adamkaz/Getty Images\n",
    "Will Focus on Production, Flow, and Impact of Content—and Methods\n",
    "to Use Social Media Data to Study Politics''')\n",
    "\n",
    "someString = '''Triple quoted: NYU has established the Center for\n",
    "Social Media and Politics, which will examine the production,\n",
    "flow, and impact of social media content in the political sphere,\n",
    "as well as support research that uses social media data to study politics.\n",
    "\n",
    "Photo credit: adamkaz/Getty Images\n",
    "Will Focus on Production, Flow, and Impact of Content—and Methods\n",
    "to Use Social Media Data to Study Politics'''\n"
   ]
  },
  {
   "cell_type": "markdown",
   "metadata": {},
   "source": [
    "### Strings as a Sequence"
   ]
  },
  {
   "cell_type": "markdown",
   "metadata": {},
   "source": [
    "We can \"get at\" a particular character in a string using the square-bracket `[]` operator. Recall, programmers like to start counting at 0!"
   ]
  },
  {
   "cell_type": "code",
   "execution_count": 3,
   "metadata": {},
   "outputs": [
    {
     "name": "stdout",
     "output_type": "stream",
     "text": [
      "my_string = Hello New York!\n",
      "my_string[0] = H\n",
      "my_string[14] = !\n",
      "my_string[-1] = !\n",
      "my_string[-15] = H\n"
     ]
    }
   ],
   "source": [
    "#H e l l o   N e w   Y o r k !\n",
    "#-----------------------------\n",
    "#0 1 2 3 4 5 6 7 8 9 1 1 1 1 1\n",
    "#                    0 1 2 3 4\n",
    "#-----------------------------\n",
    "#        (negatives... below)\n",
    "#1 1 1 1 1 1 9 8 7 6 5 4 3 2 -1\n",
    "#5 4 3 2 1 0\n",
    "\n",
    "my_string = \"Hello New York!\"\n",
    "\n",
    "print('my_string =', my_string)\n",
    "print('my_string[0] =', my_string[0])\n",
    "print('my_string[14] =', my_string[14])\n",
    "print('my_string[-1] =', my_string[-1])\n",
    "print('my_string[-15] =', my_string[-15])"
   ]
  },
  {
   "cell_type": "markdown",
   "metadata": {},
   "source": [
    "What happens if we use an invalid index?"
   ]
  },
  {
   "cell_type": "code",
   "execution_count": 4,
   "metadata": {},
   "outputs": [
    {
     "ename": "IndexError",
     "evalue": "string index out of range",
     "output_type": "error",
     "traceback": [
      "\u001b[0;31m---------------------------------------------------------------------------\u001b[0m",
      "\u001b[0;31mIndexError\u001b[0m                                Traceback (most recent call last)",
      "\u001b[0;32m<ipython-input-4-336daad007e9>\u001b[0m in \u001b[0;36m<module>\u001b[0;34m\u001b[0m\n\u001b[0;32m----> 1\u001b[0;31m \u001b[0mprint\u001b[0m\u001b[0;34m(\u001b[0m\u001b[0;34m'my_string[15]='\u001b[0m\u001b[0;34m,\u001b[0m \u001b[0mmy_string\u001b[0m\u001b[0;34m[\u001b[0m\u001b[0;36m15\u001b[0m\u001b[0;34m]\u001b[0m\u001b[0;34m)\u001b[0m\u001b[0;34m\u001b[0m\u001b[0;34m\u001b[0m\u001b[0m\n\u001b[0m",
      "\u001b[0;31mIndexError\u001b[0m: string index out of range"
     ]
    }
   ],
   "source": [
    "print('my_string[15]=', my_string[15])"
   ]
  },
  {
   "cell_type": "markdown",
   "metadata": {},
   "source": [
    "What will be the result of running the following code?\n",
    "\n",
    "a) It will print 'H'  \n",
    "b) It will print 'e'  \n",
    "c) It will print 'Hello New York!'  \n",
    "d) We will get an 'Index Error' message"
   ]
  },
  {
   "cell_type": "code",
   "execution_count": 5,
   "metadata": {},
   "outputs": [
    {
     "ename": "IndexError",
     "evalue": "string index out of range",
     "output_type": "error",
     "traceback": [
      "\u001b[0;31m---------------------------------------------------------------------------\u001b[0m",
      "\u001b[0;31mIndexError\u001b[0m                                Traceback (most recent call last)",
      "\u001b[0;32m<ipython-input-5-277a974182a0>\u001b[0m in \u001b[0;36m<module>\u001b[0;34m\u001b[0m\n\u001b[0;32m----> 1\u001b[0;31m \u001b[0mprint\u001b[0m\u001b[0;34m(\u001b[0m\u001b[0mmy_string\u001b[0m\u001b[0;34m[\u001b[0m\u001b[0;34m-\u001b[0m\u001b[0;36m16\u001b[0m\u001b[0;34m]\u001b[0m\u001b[0;34m)\u001b[0m\u001b[0;34m\u001b[0m\u001b[0;34m\u001b[0m\u001b[0m\n\u001b[0m",
      "\u001b[0;31mIndexError\u001b[0m: string index out of range"
     ]
    }
   ],
   "source": [
    "print(my_string[-16])"
   ]
  },
  {
   "cell_type": "markdown",
   "metadata": {},
   "source": [
    "### Special Characters\n",
    "\n",
    "\"Special\" characters don't have a direct typed representation. They are specified using the backslash character followed by their special designation."
   ]
  },
  {
   "cell_type": "code",
   "execution_count": null,
   "metadata": {},
   "outputs": [],
   "source": [
    "# Non-printing characters\n",
    "\n",
    "# Some characters perform necessary operations but show up as whitespace in\n",
    "# the output\n",
    "\n",
    "# Newline - \\n\n",
    "# Tab -     \\t\n",
    "\n",
    "print(\"this is the first line\\nthis is the second line.\\n\\t a tabbed\\tline.\")\n",
    "print(\"aaaa\\fform feed\")\n",
    "print(\"abcdefghijklmnopqrstuvwxyz\\rcarriage return\")\n",
    "print(\"abcdef\\v\\vghijkl\\t\\123\\xF2\\a\")\n",
    "\n",
    "#\\newline   Ignored\n",
    "#\\\\ Backslash (\\)\n",
    "#\\' Single quote (')\n",
    "#\\\" Double quote (\")\n",
    "#\\a ASCII Bell (BEL)\n",
    "#\\b ASCII Backspace (BS)\n",
    "#\\f ASCII Formfeed (FF)\n",
    "#\\n ASCII Linefeed (LF)\n",
    "#\\r ASCII Carriage Return (CR)\n",
    "#\\t ASCII Horizontal Tab (TAB)\n",
    "#\\v ASCII Vertical Tab (VT)\n",
    "#\\ooo   ASCII character with octal value ooo\n",
    "#\\xhhh    ASCII character with hex value hhh\n"
   ]
  },
  {
   "cell_type": "markdown",
   "metadata": {},
   "source": [
    "### String Are Immutable\n",
    "\n",
    "That means they can't be changed! (But we can create a new string from an old one, as we will see.)\n",
    "\n",
    "Let's try to change a string:"
   ]
  },
  {
   "cell_type": "markdown",
   "metadata": {},
   "source": [
    "s = \"Fazzlebop\"\n",
    "s[0] = \"D\""
   ]
  },
  {
   "cell_type": "markdown",
   "metadata": {},
   "source": [
    "### Traversing a string\n",
    "\n",
    "\"To traverse\" is to pass through.\n",
    "\n",
    "We can use a `for` loop to traverse a string:"
   ]
  },
  {
   "cell_type": "code",
   "execution_count": 7,
   "metadata": {},
   "outputs": [
    {
     "name": "stdout",
     "output_type": "stream",
     "text": [
      "G\n",
      "o\n",
      "o\n",
      "d\n",
      "b\n",
      "y\n",
      "e\n",
      " \n",
      "m\n",
      "a\n",
      "m\n",
      "a\n",
      " \n",
      "a\n",
      "n\n",
      "d\n",
      " \n",
      "p\n",
      "a\n",
      "p\n",
      "a\n"
     ]
    }
   ],
   "source": [
    "s = \"Goodbye mama and papa\"\n",
    "for c in s:\n",
    "    print(c)"
   ]
  },
  {
   "cell_type": "markdown",
   "metadata": {},
   "source": [
    "### Transposing a string\n",
    "\n",
    "\"To transpose\" means to reverse the elements of some sequence.\n",
    "\n",
    "How can we transpose a string?\n",
    "\n",
    "We're going to use the Python built-in function `len()`, which returns the length of a sequence."
   ]
  },
  {
   "cell_type": "code",
   "execution_count": 12,
   "metadata": {},
   "outputs": [
    {
     "name": "stdout",
     "output_type": "stream",
     "text": [
      "sdnomaid fo llafthgin evitisnart ehT"
     ]
    }
   ],
   "source": [
    "s = \"The transitive nightfall of diamonds\"\n",
    "for i in range(-1, -len(s) - 1, -1):\n",
    "    print(s[i], end=\"\")"
   ]
  },
  {
   "cell_type": "markdown",
   "metadata": {},
   "source": [
    "### String Slicing"
   ]
  },
  {
   "cell_type": "code",
   "execution_count": null,
   "metadata": {},
   "outputs": [],
   "source": [
    "my_string = \"Gregor Samsa awoke in his bed one morning...\"\n",
    "print(my_string)\n",
    "\n",
    "print(\"my_string[6:11] =\", my_string[6:11]) # specifies starting and ending\n",
    "\n",
    "print(\"my_string[6:] =\", my_string[6:]) # specifies starting only, goes to end\n",
    "\n",
    "print(\"my_string[:6] =\", my_string[:6]) # slices from start to end (6)\n",
    "\n",
    "# specifies start and end, end is neg.\n",
    "print(\"my_string[3:-2] =\", my_string[3:-2]) \n",
    "\n",
    "print(\"my_string[::2] =\", my_string[::2]) # every other char\n",
    "\n",
    "print(\"my_string[::-1] =\", my_string[::-1]) # backward from end of string\n",
    "\n",
    "# reverse chars starting from 2nd last letter\n",
    "print(\"my_string[-2::-2] =\", my_string[-2::-2]) \n",
    "\n",
    "input(\"Hit enter to continue.\")\n",
    "print()"
   ]
  },
  {
   "cell_type": "code",
   "execution_count": 4,
   "metadata": {},
   "outputs": [
    {
     "name": "stdout",
     "output_type": "stream",
     "text": [
      "id of my_string:       140333676901168\n",
      "id of alias_of_string: 140333676901168\n",
      "id of copy_of_string:  140333676901168\n",
      "G..r..e..g..o..r.. ..S..a..m..s..a.. ..a..w..o..k..e.. ..i..n.. ..h..i..s.. ..b..e..d.. ..o..n..e.. ..m..o..r..n..i..n..g..........."
     ]
    }
   ],
   "source": [
    "my_string = \"Gregor Samsa awoke in his bed one morning...\"\n",
    "\n",
    "alias_of_string = my_string\n",
    "print(\"id of my_string:      \", id(my_string))\n",
    "print(\"id of alias_of_string:\", id(alias_of_string))\n",
    "\n",
    "copy_of_string = my_string[:]\n",
    "print(\"id of copy_of_string: \", id(copy_of_string))\n",
    "\n",
    "# Strings are iterable\n",
    "for char in my_string:\n",
    "    print(char, end='..')"
   ]
  },
  {
   "cell_type": "markdown",
   "metadata": {},
   "source": [
    "### String Methods\n",
    "\n",
    "Methods are like functions (which we have used.... math.sqrt is a function).\n",
    "\n",
    "Methods are called in conjunction with the things on which they operate.\n",
    "\n"
   ]
  },
  {
   "cell_type": "code",
   "execution_count": 6,
   "metadata": {},
   "outputs": [
    {
     "name": "stdout",
     "output_type": "stream",
     "text": [
      "New:  PYTHON IS GREAT!\n",
      "My:  Python is great!\n"
     ]
    }
   ],
   "source": [
    "my_string = 'Python is great!'\n",
    "new_string = my_string.upper()\n",
    "print(\"New: \", new_string)\n",
    "print(\"My: \", my_string)"
   ]
  },
  {
   "cell_type": "markdown",
   "metadata": {},
   "source": [
    "`find()` locates strings within a string.\n",
    "\n",
    "An example with a single argument (\"t\") -- we get the *first* instance:"
   ]
  },
  {
   "cell_type": "code",
   "execution_count": 7,
   "metadata": {},
   "outputs": [
    {
     "name": "stdout",
     "output_type": "stream",
     "text": [
      "2\n"
     ]
    }
   ],
   "source": [
    "t_index = my_string.find(\"t\")  \n",
    "print(t_index)"
   ]
  },
  {
   "cell_type": "markdown",
   "metadata": {},
   "source": [
    "`find()` returns -1 if argument not found."
   ]
  },
  {
   "cell_type": "code",
   "execution_count": 8,
   "metadata": {},
   "outputs": [
    {
     "name": "stdout",
     "output_type": "stream",
     "text": [
      "-1\n"
     ]
    }
   ],
   "source": [
    "z_index = my_string.find('z')\n",
    "print(z_index)"
   ]
  },
  {
   "cell_type": "markdown",
   "metadata": {},
   "source": [
    "We can chain methods:"
   ]
  },
  {
   "cell_type": "code",
   "execution_count": 9,
   "metadata": {},
   "outputs": [
    {
     "name": "stdout",
     "output_type": "stream",
     "text": [
      "8\n"
     ]
    }
   ],
   "source": [
    "print(my_string.upper().find('S'))"
   ]
  },
  {
   "cell_type": "markdown",
   "metadata": {},
   "source": [
    "The next example finds the first 'o', starting at index 0:"
   ]
  },
  {
   "cell_type": "code",
   "execution_count": 10,
   "metadata": {},
   "outputs": [
    {
     "name": "stdout",
     "output_type": "stream",
     "text": [
      "4\n"
     ]
    }
   ],
   "source": [
    "o_index = my_string.find('o')\n",
    "print(o_index)"
   ]
  },
  {
   "cell_type": "markdown",
   "metadata": {},
   "source": [
    "This example finds the next 'o', starting after 1st 'o'.\n"
   ]
  },
  {
   "cell_type": "code",
   "execution_count": 11,
   "metadata": {},
   "outputs": [
    {
     "name": "stdout",
     "output_type": "stream",
     "text": [
      "-1\n"
     ]
    }
   ],
   "source": [
    "print(my_string.find('o', o_index + 1)) "
   ]
  },
  {
   "cell_type": "markdown",
   "metadata": {},
   "source": [
    "### More String Methods"
   ]
  },
  {
   "cell_type": "markdown",
   "metadata": {},
   "source": [
    "`count()` returns the number of occurrences of a substring in the given string."
   ]
  },
  {
   "cell_type": "code",
   "execution_count": 21,
   "metadata": {},
   "outputs": [
    {
     "name": "stdout",
     "output_type": "stream",
     "text": [
      "0\n"
     ]
    }
   ],
   "source": [
    "quote = \"  Mr Leopold Bloom ate with relish the inner organs \" \\\n",
    "        + \"of beasts and fowls. He liked thick giblet soup, \" \\\n",
    "        + \"nutty gizzards, a stuffed roast heart, liverslices \" \\\n",
    "        + \"fried with crustcrumbs, fried hencods' roes...\\t\"\n",
    "print(quote.count(\" it \"))"
   ]
  },
  {
   "cell_type": "markdown",
   "metadata": {},
   "source": [
    "`find()` returns the index of first occurrence of the\n",
    "substring (if found). If not found, it returns -1."
   ]
  },
  {
   "cell_type": "code",
   "execution_count": 14,
   "metadata": {},
   "outputs": [
    {
     "name": "stdout",
     "output_type": "stream",
     "text": [
      "24\n"
     ]
    }
   ],
   "source": [
    "print(quote.find(\"it\"))  "
   ]
  },
  {
   "cell_type": "markdown",
   "metadata": {},
   "source": [
    "`index()` returns the index of a substring inside the string\n",
    "(if found). If the substring is not found, it raises an exception."
   ]
  },
  {
   "cell_type": "code",
   "execution_count": 15,
   "metadata": {},
   "outputs": [
    {
     "name": "stdout",
     "output_type": "stream",
     "text": [
      "24\n"
     ]
    }
   ],
   "source": [
    "print(quote.index(\"it\"))"
   ]
  },
  {
   "cell_type": "markdown",
   "metadata": {},
   "source": [
    "`isalnum()` returns `True` if all characters in the string are\n",
    "alphanumeric (either alphabets or numbers). If not, it returns `False`.  "
   ]
  },
  {
   "cell_type": "code",
   "execution_count": 16,
   "metadata": {},
   "outputs": [
    {
     "name": "stdout",
     "output_type": "stream",
     "text": [
      "False\n"
     ]
    }
   ],
   "source": [
    "print(quote.isalnum())"
   ]
  },
  {
   "cell_type": "markdown",
   "metadata": {},
   "source": [
    "`isalpha()` returns `True` if all characters in the string are alphabetical. If not, it returns `False`."
   ]
  },
  {
   "cell_type": "code",
   "execution_count": 17,
   "metadata": {},
   "outputs": [
    {
     "name": "stdout",
     "output_type": "stream",
     "text": [
      "True\n"
     ]
    }
   ],
   "source": [
    "s = \"Letters\"\n",
    "print(s.isalpha())                             "
   ]
  },
  {
   "cell_type": "markdown",
   "metadata": {},
   "source": [
    "`isdigit()` returns `True` if all characters in a string are digits. If not, it returns `False`."
   ]
  },
  {
   "cell_type": "code",
   "execution_count": 19,
   "metadata": {},
   "outputs": [
    {
     "name": "stdout",
     "output_type": "stream",
     "text": [
      "False\n"
     ]
    }
   ],
   "source": [
    "digits = \"012-34-56789\"\n",
    "print(digits.isdigit()) "
   ]
  },
  {
   "cell_type": "markdown",
   "metadata": {},
   "source": [
    "`lower()` converts all uppercase characters in a string into lowercase characters in the return string."
   ]
  },
  {
   "cell_type": "code",
   "execution_count": 20,
   "metadata": {},
   "outputs": [
    {
     "name": "stdout",
     "output_type": "stream",
     "text": [
      "  mr leopold bloom ate with relish the inner organs of beasts and fowls. he liked thick giblet soup, nutty gizzards, a stuffed roast heart, liverslices fried with crustcrumbs, fried hencods' roes...\n",
      "\n",
      "  Mr Leopold Bloom ate with relish the inner organs of beasts and fowls. He liked thick giblet soup, nutty gizzards, a stuffed roast heart, liverslices fried with crustcrumbs, fried hencods' roes...\n",
      "\n"
     ]
    }
   ],
   "source": [
    "s = quote.lower()\n",
    "print(s)\n",
    "print(quote)"
   ]
  },
  {
   "cell_type": "markdown",
   "metadata": {},
   "source": [
    "`strip()` returns a copy of the string passed with both leading and trailing whitespace characters removed."
   ]
  },
  {
   "cell_type": "code",
   "execution_count": 22,
   "metadata": {},
   "outputs": [
    {
     "name": "stdout",
     "output_type": "stream",
     "text": [
      "Mr Leopold Bloom ate with relish the inner organs of beasts and fowls. He liked thick giblet soup, nutty gizzards, a stuffed roast heart, liverslices fried with crustcrumbs, fried hencods' roes...\n",
      "  Mr Leopold Bloom ate with relish the inner organs of beasts and fowls. He liked thick giblet soup, nutty gizzards, a stuffed roast heart, liverslices fried with crustcrumbs, fried hencods' roes...\t\n"
     ]
    }
   ],
   "source": [
    "s = quote.strip()\n",
    "print(s)\n",
    "print(quote)"
   ]
  },
  {
   "cell_type": "markdown",
   "metadata": {},
   "source": [
    "`upper()` returns a string with all lowercase characters in the original string changed into uppercase characters in returned, modified string."
   ]
  },
  {
   "cell_type": "code",
   "execution_count": 23,
   "metadata": {},
   "outputs": [
    {
     "name": "stdout",
     "output_type": "stream",
     "text": [
      "  MR LEOPOLD BLOOM ATE WITH RELISH THE INNER ORGANS OF BEASTS AND FOWLS. HE LIKED THICK GIBLET SOUP, NUTTY GIZZARDS, A STUFFED ROAST HEART, LIVERSLICES FRIED WITH CRUSTCRUMBS, FRIED HENCODS' ROES...\t\n",
      "  Mr Leopold Bloom ate with relish the inner organs of beasts and fowls. He liked thick giblet soup, nutty gizzards, a stuffed roast heart, liverslices fried with crustcrumbs, fried hencods' roes...\t\n"
     ]
    }
   ],
   "source": [
    "s = quote.upper()\n",
    "print(s)\n",
    "print(quote)"
   ]
  },
  {
   "cell_type": "markdown",
   "metadata": {},
   "source": [
    "### String Formatting\n",
    "\n",
    "The print function is easy, but provides no real control over the format of the output (think about how floats are printed, for example). The string `format()` method can help with this:\n",
    "\n",
    "**Usage:**\n",
    "`\"string to format\".format(data1, data2, ...)`\n"
   ]
  },
  {
   "cell_type": "code",
   "execution_count": null,
   "metadata": {},
   "outputs": [],
   "source": [
    "date_str = \"03/10/20\"\n",
    "print(\"Midterm #{} will be held on {}\".format(1, date_str))"
   ]
  },
  {
   "cell_type": "code",
   "execution_count": 2,
   "metadata": {},
   "outputs": [
    {
     "name": "stdout",
     "output_type": "stream",
     "text": [
      "Midterm #1 will be held on 03/10/20\n",
      "Total sale: $25.67     \n"
     ]
    }
   ],
   "source": [
    "# The way each object is formatted in the string is done by default based on\n",
    "# the object's type. Can include \"formatting commands\"\n",
    "\n",
    "# General Structure ([] indicate optional args):\n",
    "#   {:[align] [min_width] [.precision] [descriptor]}\n",
    "import math\n",
    "\n",
    "print (\"Total sale: ${:<10.2f}\".format(25.667899999999))"
   ]
  },
  {
   "cell_type": "code",
   "execution_count": 9,
   "metadata": {},
   "outputs": [
    {
     "name": "stdout",
     "output_type": "stream",
     "text": [
      "Student name: '  Peter   '\n",
      "Class size:    50.000000\n",
      "Pi is 3.141592653590\n"
     ]
    }
   ],
   "source": [
    "print (\"Student name: '{:^10s}'\".format(\"Peter\"))\n",
    "print (\"Class size: {:>12f}\".format(50))\n",
    "print (\"Pi is {:<1.12f}\".format(math.pi))"
   ]
  },
  {
   "cell_type": "code",
   "execution_count": 4,
   "metadata": {},
   "outputs": [
    {
     "name": "stdout",
     "output_type": "stream",
     "text": [
      "Peter      is   56.000 years old\n",
      "Rebecca    is   21.000 years old\n"
     ]
    }
   ],
   "source": [
    "# Alignment: < (left), ^ (center), > (right)\n",
    "# Descriptors: s (string), d (integer), f (float), e (exponent), % (float as %), b (boolean)\n",
    "\n",
    "print(\"{:<10s} is {:>8.3f} years old\".format(\"Peter\", 2**6-8))\n",
    "print(\"{:<10s} is {:>8.3f} years old\".format(\"Rebecca\", 2**4+5))"
   ]
  },
  {
   "cell_type": "markdown",
   "metadata": {},
   "source": [
    "### More Formatting\n",
    "\n"
   ]
  },
  {
   "cell_type": "code",
   "execution_count": 6,
   "metadata": {},
   "outputs": [
    {
     "name": "stdout",
     "output_type": "stream",
     "text": [
      "3.141592653589793\n",
      "3.141593\n",
      "   3.142\n",
      "  66.67%\n"
     ]
    }
   ],
   "source": [
    "import math\n",
    "\n",
    "print (math.pi)\n",
    "print (\"{:<8f}\".format(math.pi))    # Note the rounding\n",
    "print (\"{:>8.3f}\".format(math.pi))  # Note the rounding\n",
    "\n",
    "print(\"{:8.2%}\".format(2/3))\n"
   ]
  },
  {
   "cell_type": "code",
   "execution_count": null,
   "metadata": {},
   "outputs": [],
   "source": []
  }
 ],
 "metadata": {
  "kernelspec": {
   "display_name": "Python 3",
   "language": "python",
   "name": "python3"
  },
  "language_info": {
   "codemirror_mode": {
    "name": "ipython",
    "version": 3
   },
   "file_extension": ".py",
   "mimetype": "text/x-python",
   "name": "python",
   "nbconvert_exporter": "python",
   "pygments_lexer": "ipython3",
   "version": "3.6.9"
  }
 },
 "nbformat": 4,
 "nbformat_minor": 2
}
