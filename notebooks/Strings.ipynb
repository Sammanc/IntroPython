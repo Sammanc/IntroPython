{
 "cells": [
  {
   "cell_type": "markdown",
   "metadata": {},
   "source": [
    "## Strings\n",
    "\n",
    "<img src=\"https://upload.wikimedia.org/wikipedia/commons/thumb/b/b4/0321_DNA_Macrostructure.jpg/300px-0321_DNA_Macrostructure.jpg\" width=\"33%\">\n",
    "\n",
    "A [*string*](https://en.wikipedia.org/wiki/String_%28computer_science%29) is a sequence of characters. We might commonly call it *text*.\n",
    "\n",
    "A *string literal* is a sequence of characters, between single or double quotes, written directly in the source code.\n",
    "\n",
    "Let's look at some things we can do with strings in Python."
   ]
  },
  {
   "cell_type": "markdown",
   "metadata": {},
   "source": [
    "### Valid strings"
   ]
  },
  {
   "cell_type": "code",
   "execution_count": 1,
   "metadata": {},
   "outputs": [
    {
     "name": "stdout",
     "output_type": "stream",
     "text": [
      "Single quoted: NYU\n",
      "\n",
      "Double quoted: NYU\n",
      "\n",
      "Triple quoted: NYU has established the Center for\n",
      "Social Media and Politics, which will examine the production,\n",
      "flow, and impact of social media content in the political sphere,\n",
      "as well as support research that uses social media data to study politics.\n",
      "\n",
      "Photo credit: adamkaz/Getty Images\n",
      "Will Focus on Production, Flow, and Impact of Content—and Methods\n",
      "to Use Social Media Data to Study Politics\n"
     ]
    }
   ],
   "source": [
    "# Valid strings\n",
    "\n",
    "print('Single quoted: NYU')\n",
    "print()\n",
    "\n",
    "print(\"Double quoted: NYU\")\n",
    "print()\n",
    "\n",
    "print('''Triple quoted: NYU has established the Center for\n",
    "Social Media and Politics, which will examine the production,\n",
    "flow, and impact of social media content in the political sphere,\n",
    "as well as support research that uses social media data to study politics.\n",
    "\n",
    "Photo credit: adamkaz/Getty Images\n",
    "Will Focus on Production, Flow, and Impact of Content—and Methods\n",
    "to Use Social Media Data to Study Politics''')"
   ]
  },
  {
   "cell_type": "markdown",
   "metadata": {},
   "source": [
    "Why choose ' or \"?\n",
    "\n",
    "Think about whether your string has quotes inside it:"
   ]
  },
  {
   "cell_type": "code",
   "execution_count": 5,
   "metadata": {},
   "outputs": [],
   "source": [
    "s = \"Don't use `s` as var name in your labs!'\"\n",
    "\n",
    "s = 'She said \"Stop in love\\'s name!\"'"
   ]
  },
  {
   "cell_type": "markdown",
   "metadata": {},
   "source": [
    "### Strings as a Sequence"
   ]
  },
  {
   "cell_type": "markdown",
   "metadata": {},
   "source": [
    "We can \"get at\" a particular character in a string using the square-bracket `[]` operator. This is called *indexing* the string. The number in the brackets is called the *index*. Recall, programmers like to start counting at 0!"
   ]
  },
  {
   "cell_type": "code",
   "execution_count": 7,
   "metadata": {},
   "outputs": [
    {
     "name": "stdout",
     "output_type": "stream",
     "text": [
      "my_string = Hello New York!\n",
      "my_string[0] = H\n",
      "my_string[14] = !\n",
      "my_string[-1] = !\n",
      "my_string[-2] = k\n",
      "my_string[-15] = H\n"
     ]
    }
   ],
   "source": [
    "#H e l l o   N e w   Y o r k !\n",
    "#-----------------------------\n",
    "#0 1 2 3 4 5 6 7 8 9 1 1 1 1 1\n",
    "#                    0 1 2 3 4\n",
    "#-----------------------------\n",
    "#        (negatives... below)\n",
    "#1 1 1 1 1 1 9 8 7 6 5 4 3 2 -1\n",
    "#5 4 3 2 1 0\n",
    "\n",
    "my_string = \"Hello New York!\"\n",
    "\n",
    "print('my_string =', my_string)\n",
    "print('my_string[0] =', my_string[0])\n",
    "print('my_string[14] =', my_string[14])\n",
    "print('my_string[-1] =', my_string[-1])\n",
    "print('my_string[-2] =', my_string[-2])\n",
    "print('my_string[-15] =', my_string[-15])"
   ]
  },
  {
   "cell_type": "code",
   "execution_count": 8,
   "metadata": {},
   "outputs": [
    {
     "data": {
      "text/plain": [
       "0"
      ]
     },
     "execution_count": 8,
     "metadata": {},
     "output_type": "execute_result"
    }
   ],
   "source": [
    "-0"
   ]
  },
  {
   "cell_type": "markdown",
   "metadata": {},
   "source": [
    "What happens if we use an invalid index?"
   ]
  },
  {
   "cell_type": "code",
   "execution_count": 9,
   "metadata": {},
   "outputs": [
    {
     "ename": "IndexError",
     "evalue": "string index out of range",
     "output_type": "error",
     "traceback": [
      "\u001b[0;31m---------------------------------------------------------------------------\u001b[0m",
      "\u001b[0;31mIndexError\u001b[0m                                Traceback (most recent call last)",
      "\u001b[0;32m<ipython-input-9-968bbae94e01>\u001b[0m in \u001b[0;36m<module>\u001b[0;34m()\u001b[0m\n\u001b[0;32m----> 1\u001b[0;31m \u001b[0mprint\u001b[0m\u001b[0;34m(\u001b[0m\u001b[0;34m'my_string[15] = '\u001b[0m\u001b[0;34m,\u001b[0m \u001b[0mmy_string\u001b[0m\u001b[0;34m[\u001b[0m\u001b[0;36m15\u001b[0m\u001b[0;34m]\u001b[0m\u001b[0;34m)\u001b[0m\u001b[0;34m\u001b[0m\u001b[0m\n\u001b[0m",
      "\u001b[0;31mIndexError\u001b[0m: string index out of range"
     ]
    }
   ],
   "source": [
    "print('my_string[15] = ', my_string[15])"
   ]
  },
  {
   "cell_type": "markdown",
   "metadata": {},
   "source": [
    "What will be the result of running the following code?\n",
    "\n",
    "a) It will print 'H'  \n",
    "b) It will print 'e'  \n",
    "c) It will print 'Hello New York!'  \n",
    "d) We will get an 'IndexError' message"
   ]
  },
  {
   "cell_type": "code",
   "execution_count": 10,
   "metadata": {},
   "outputs": [
    {
     "ename": "IndexError",
     "evalue": "string index out of range",
     "output_type": "error",
     "traceback": [
      "\u001b[0;31m---------------------------------------------------------------------------\u001b[0m",
      "\u001b[0;31mIndexError\u001b[0m                                Traceback (most recent call last)",
      "\u001b[0;32m<ipython-input-10-563fccd91611>\u001b[0m in \u001b[0;36m<module>\u001b[0;34m()\u001b[0m\n\u001b[0;32m----> 1\u001b[0;31m \u001b[0mprint\u001b[0m\u001b[0;34m(\u001b[0m\u001b[0mmy_string\u001b[0m\u001b[0;34m[\u001b[0m\u001b[0;34m-\u001b[0m\u001b[0;36m16\u001b[0m\u001b[0;34m]\u001b[0m\u001b[0;34m)\u001b[0m\u001b[0;34m\u001b[0m\u001b[0m\n\u001b[0m",
      "\u001b[0;31mIndexError\u001b[0m: string index out of range"
     ]
    }
   ],
   "source": [
    "print(my_string[-16])"
   ]
  },
  {
   "cell_type": "markdown",
   "metadata": {},
   "source": [
    "### Special Characters\n",
    "\n",
    "\"Special\" characters don't have a direct typed representation. They are specified using the backslash character followed by their special designation. We say the backslash *escapes* the character we type after it."
   ]
  },
  {
   "cell_type": "code",
   "execution_count": 11,
   "metadata": {},
   "outputs": [
    {
     "name": "stdout",
     "output_type": "stream",
     "text": [
      "print a \t (tab)\n"
     ]
    }
   ],
   "source": [
    "print(\"print a \\t (tab)\")"
   ]
  },
  {
   "cell_type": "code",
   "execution_count": 13,
   "metadata": {},
   "outputs": [
    {
     "name": "stdout",
     "output_type": "stream",
     "text": [
      "This is the first line.\n",
      "This is the second line.\n",
      "\tA tabbed line.\n"
     ]
    }
   ],
   "source": [
    "# Non-printing characters\n",
    "\n",
    "# Some characters perform necessary operations but show up as whitespace in\n",
    "# the output\n",
    "\n",
    "# Newline - \\n\n",
    "# Tab -     \\t\n",
    "\n",
    "print(\"This is the first line.\\nThis is the second line.\\n\\tA tabbed line.\")"
   ]
  },
  {
   "cell_type": "code",
   "execution_count": 14,
   "metadata": {},
   "outputs": [
    {
     "name": "stdout",
     "output_type": "stream",
     "text": [
      "aaaa\f",
      "form feed\n"
     ]
    }
   ],
   "source": [
    "print(\"aaaa\\fform feed\")"
   ]
  },
  {
   "cell_type": "code",
   "execution_count": 15,
   "metadata": {},
   "outputs": [
    {
     "name": "stdout",
     "output_type": "stream",
     "text": [
      "abcdefghijklmnopqrstuvwxyz\r",
      "carriage return\n"
     ]
    }
   ],
   "source": [
    "print(\"abcdefghijklmnopqrstuvwxyz\\rcarriage return\")"
   ]
  },
  {
   "cell_type": "code",
   "execution_count": null,
   "metadata": {},
   "outputs": [],
   "source": [
    "print(\"abcdef\\v\\vghijkl\\t\\123\\xF2\\a\")"
   ]
  },
  {
   "cell_type": "code",
   "execution_count": null,
   "metadata": {},
   "outputs": [],
   "source": [
    "print('''W\\nh\\na\n",
    "t\n",
    "h\n",
    "a\n",
    "p\n",
    "p\n",
    "ens if we \n",
    "    try multiline print\n",
    "with triple quotes?''')"
   ]
  },
  {
   "cell_type": "markdown",
   "metadata": {},
   "source": [
    "#### Some special characters:\n",
    "\n",
    "- \\n Newline\n",
    "- \\t Tab\n",
    "- \\\\\\ Backslash (\\\\)\n",
    "- \\' Single quote (')\n",
    "- \\\" Double quote (\")\n",
    "- \\a ASCII Bell (BEL)\n",
    "- \\b ASCII Backspace (BS)\n",
    "- \\f ASCII Formfeed (FF)\n",
    "- \\n ASCII Linefeed (LF)\n",
    "- \\r ASCII Carriage Return (CR)\n",
    "- \\t ASCII Horizontal Tab (TAB)\n",
    "- \\v ASCII Vertical Tab (VT)\n",
    "- \\ooo   ASCII character with octal value ooo\n",
    "- \\xhh    ASCII character with hex value hh"
   ]
  },
  {
   "cell_type": "markdown",
   "metadata": {},
   "source": [
    "([**ASCII**](https://en.wikipedia.org/wiki/ASCII) stands for *American Standard Code for Information Interchange*: it is our standard way of encoding characters.)\n",
    "\n",
    "<img src=\"https://upload.wikimedia.org/wikipedia/commons/thumb/c/cf/USASCII_code_chart.png/500px-USASCII_code_chart.png\" width=\"30%\">"
   ]
  },
  {
   "cell_type": "code",
   "execution_count": 20,
   "metadata": {},
   "outputs": [
    {
     "name": "stdout",
     "output_type": "stream",
     "text": [
      "Helloo\b\n"
     ]
    }
   ],
   "source": [
    "print(\"Helloo\\b\")"
   ]
  },
  {
   "cell_type": "code",
   "execution_count": 36,
   "metadata": {},
   "outputs": [
    {
     "name": "stdout",
     "output_type": "stream",
     "text": [
      "\u000b",
      "Hello: þ\n"
     ]
    }
   ],
   "source": [
    "print(\"\\vHello: \\xfe\")"
   ]
  },
  {
   "cell_type": "code",
   "execution_count": 19,
   "metadata": {},
   "outputs": [
    {
     "name": "stdout",
     "output_type": "stream",
     "text": [
      "This is the backslash: \\ \n"
     ]
    }
   ],
   "source": [
    "s = \"This is the backslash: \\\\\"\n",
    "print(s)"
   ]
  },
  {
   "cell_type": "markdown",
   "metadata": {},
   "source": [
    "### String Are Immutable\n",
    "\n",
    "That means they can't be changed! (But we can create a new string from an old one, as we will see.)\n",
    "\n",
    "Let's try to change a string:"
   ]
  },
  {
   "cell_type": "code",
   "execution_count": 37,
   "metadata": {},
   "outputs": [
    {
     "ename": "TypeError",
     "evalue": "'str' object does not support item assignment",
     "output_type": "error",
     "traceback": [
      "\u001b[0;31m---------------------------------------------------------------------------\u001b[0m",
      "\u001b[0;31mTypeError\u001b[0m                                 Traceback (most recent call last)",
      "\u001b[0;32m<ipython-input-37-7e5a3f5a9c1c>\u001b[0m in \u001b[0;36m<module>\u001b[0;34m()\u001b[0m\n\u001b[1;32m      1\u001b[0m \u001b[0mkids_name\u001b[0m \u001b[0;34m=\u001b[0m \u001b[0;34m\"Fazzlebop\"\u001b[0m\u001b[0;34m\u001b[0m\u001b[0m\n\u001b[0;32m----> 2\u001b[0;31m \u001b[0mkids_name\u001b[0m\u001b[0;34m[\u001b[0m\u001b[0;36m0\u001b[0m\u001b[0;34m]\u001b[0m \u001b[0;34m=\u001b[0m \u001b[0;34m\"D\"\u001b[0m\u001b[0;34m\u001b[0m\u001b[0m\n\u001b[0m",
      "\u001b[0;31mTypeError\u001b[0m: 'str' object does not support item assignment"
     ]
    }
   ],
   "source": [
    "kids_name = \"Fazzlebop\"\n",
    "kids_name[0] = \"D\""
   ]
  },
  {
   "cell_type": "markdown",
   "metadata": {},
   "source": [
    "### Traversing a string\n",
    "\n",
    "\"To traverse\" is to pass through.\n",
    "\n",
    "We can use a `for` loop to traverse a string:"
   ]
  },
  {
   "cell_type": "code",
   "execution_count": 41,
   "metadata": {},
   "outputs": [
    {
     "name": "stdout",
     "output_type": "stream",
     "text": [
      "G\n",
      "o\n",
      "o\n",
      "d\n",
      "b\n",
      "y\n",
      "e\n",
      " \n",
      "m\n",
      "a\n",
      "m\n",
      "a\n",
      " \n",
      "a\n",
      "n\n",
      "d\n",
      " \n",
      "p\n",
      "a\n",
      "p\n",
      "a\n"
     ]
    }
   ],
   "source": [
    "ramble_rose_lyric = \"Goodbye mama and papa\"\n",
    "for char in ramble_rose_lyric:\n",
    "    print(char, end=\"\\n\")  # is just like writing `print(c, end='\\n')`"
   ]
  },
  {
   "cell_type": "markdown",
   "metadata": {},
   "source": [
    "What do we need to use in end=X to get this to the default?\n",
    "\n",
    "a) can't do it  \n",
    "b) end=\"\\t\"  \n",
    "c) , s  \n",
    "d) end=\"\\n\"  "
   ]
  },
  {
   "cell_type": "markdown",
   "metadata": {},
   "source": [
    "What do we put instead of the comma to get tab-separated characters?\n",
    "\n",
    "a) tab  \n",
    "b) \\tab  \n",
    "c) \\n  \n",
    "d) \\t  "
   ]
  },
  {
   "cell_type": "markdown",
   "metadata": {},
   "source": [
    "### Transposing a string\n",
    "\n",
    "\"To transpose\" means to reverse the elements of some sequence.\n",
    "\n",
    "How can we transpose a string?\n",
    "\n",
    "We're going to use the Python built-in function `len()`, which returns the length of a sequence."
   ]
  },
  {
   "cell_type": "code",
   "execution_count": 43,
   "metadata": {},
   "outputs": [
    {
     "name": "stdout",
     "output_type": "stream",
     "text": [
      "Length of s is 36\n",
      "Position of first char counting backwards is: -37\n"
     ]
    }
   ],
   "source": [
    "s = \"The transitive nightfall of diamonds\"\n",
    "print(\"Length of s is\", len(s))\n",
    "print(\"Position of first char counting backwards is:\", -len(s) - 1)"
   ]
  },
  {
   "cell_type": "code",
   "execution_count": 52,
   "metadata": {},
   "outputs": [
    {
     "name": "stdout",
     "output_type": "stream",
     "text": [
      "sdnomaid fo llafthgin evitisnart ehT"
     ]
    }
   ],
   "source": [
    "for i in range(-1, -len(s) - 1, -1):\n",
    "    print(s[i], end=\"\")"
   ]
  },
  {
   "cell_type": "markdown",
   "metadata": {},
   "source": [
    "We can turn this into a function:"
   ]
  },
  {
   "cell_type": "code",
   "execution_count": 56,
   "metadata": {},
   "outputs": [
    {
     "name": "stdout",
     "output_type": "stream",
     "text": [
      "boB"
     ]
    }
   ],
   "source": [
    "def transpose_str(s):\n",
    "    for i in range(-1, -len(s) - 1, -1):\n",
    "        print(s[i], end=\"\")\n",
    "        \n",
    "s = \"A man a plan a canal Panama\"\n",
    "transpose_str(\"Bob\")"
   ]
  },
  {
   "cell_type": "markdown",
   "metadata": {},
   "source": [
    "Let's see how to do loop over a string with a `while` loop instead. We need to initialize a loop variable, then increment it in the loop body. So our outline is:"
   ]
  },
  {
   "cell_type": "code",
   "execution_count": 61,
   "metadata": {},
   "outputs": [
    {
     "name": "stdout",
     "output_type": "stream",
     "text": [
      "S | o | m | e |   | s | t | r | i | n | g | \n",
      " ******************************\n",
      "0:S | 1:o | 2:m | 3:e | 4:  | 5:s | 6:t | 7:r | 8:i | 9:n | 10:g | "
     ]
    }
   ],
   "source": [
    "s = \"Some string\"\n",
    "for c in s:\n",
    "    print(c, end=\" | \")\n",
    "\n",
    "print(\"\\n\", \"*\"*30)\n",
    "\n",
    "i = 0\n",
    "while i < len(s):\n",
    "    print(i, s[i], sep=\":\", end=\" | \")\n",
    "    i += 1"
   ]
  },
  {
   "cell_type": "markdown",
   "metadata": {},
   "source": [
    "We clearly need to replace `cond_test` with something better! If we want our code to handle strings of *any* length, we should replace it with:\n",
    "\n",
    "a) 7  \n",
    "b) len(s)  \n",
    "c) len(s) - 1  \n",
    "d) -len(s)"
   ]
  },
  {
   "cell_type": "markdown",
   "metadata": {},
   "source": [
    "### String Comparisons\n",
    "\n",
    "The relational operators we studied in our [Boolean Expressions notebook](https://github.com/gcallah/IntroPython/blob/master/notebooks/BooleanExpr.ipynb) can be used on strings:"
   ]
  },
  {
   "cell_type": "code",
   "execution_count": null,
   "metadata": {},
   "outputs": [],
   "source": [
    "s1 = \"A\"\n",
    "s2 = \"B\"\n",
    "s1 < s2"
   ]
  },
  {
   "cell_type": "code",
   "execution_count": null,
   "metadata": {},
   "outputs": [],
   "source": [
    "s1 == s2"
   ]
  },
  {
   "cell_type": "code",
   "execution_count": null,
   "metadata": {},
   "outputs": [],
   "source": [
    "s1 > s2"
   ]
  },
  {
   "cell_type": "markdown",
   "metadata": {},
   "source": [
    "When the strings compared are equal up to the length of the shorted string, the longer one will be \"greater\":"
   ]
  },
  {
   "cell_type": "code",
   "execution_count": null,
   "metadata": {},
   "outputs": [],
   "source": [
    "s1 = \"Hello\"\n",
    "s2 = \"Hello!\"\n",
    "s2 > s1"
   ]
  },
  {
   "cell_type": "markdown",
   "metadata": {},
   "source": [
    "Furthermore, upper case letters are not equal to lower case letters, and \"come before\" them, so:"
   ]
  },
  {
   "cell_type": "code",
   "execution_count": null,
   "metadata": {},
   "outputs": [],
   "source": [
    "'A' == 'a'"
   ]
  },
  {
   "cell_type": "code",
   "execution_count": null,
   "metadata": {},
   "outputs": [],
   "source": [
    "'A' < 'a'"
   ]
  },
  {
   "cell_type": "markdown",
   "metadata": {},
   "source": [
    "Empty string length is 0, always smaller:"
   ]
  },
  {
   "cell_type": "code",
   "execution_count": null,
   "metadata": {},
   "outputs": [],
   "source": [
    "print ('' < 'a')"
   ]
  },
  {
   "cell_type": "markdown",
   "metadata": {},
   "source": [
    "### The `in` Operator\n",
    "\n",
    "The `in` operator determines if some value is in a sequence"
   ]
  },
  {
   "cell_type": "code",
   "execution_count": null,
   "metadata": {},
   "outputs": [],
   "source": [
    "\"abc\" in \"abcd\""
   ]
  },
  {
   "cell_type": "code",
   "execution_count": null,
   "metadata": {},
   "outputs": [],
   "source": [
    "\"abd\" in \"abcd\""
   ]
  },
  {
   "cell_type": "markdown",
   "metadata": {},
   "source": [
    "What sort of value does `in` return?\n",
    "\n",
    "a) int  \n",
    "b) None  \n",
    "c) boolean  \n",
    "d) float"
   ]
  },
  {
   "cell_type": "markdown",
   "metadata": {},
   "source": [
    "So, we can use this in an `if` statement:"
   ]
  },
  {
   "cell_type": "code",
   "execution_count": null,
   "metadata": {},
   "outputs": [],
   "source": [
    "s1 = \"to be\"\n",
    "s2 = \"or not to be\"\n",
    "\n",
    "str_to_find = \"not\"\n",
    "\n",
    "if str_to_find in s1:\n",
    "    print(\"Found it in s1\")\n",
    "elif str_to_find in s2:\n",
    "    print(\"Found it in s2\")"
   ]
  },
  {
   "cell_type": "code",
   "execution_count": null,
   "metadata": {},
   "outputs": [],
   "source": []
  }
 ],
 "metadata": {
  "kernelspec": {
   "display_name": "Python 3",
   "language": "python",
   "name": "python3"
  },
  "language_info": {
   "codemirror_mode": {
    "name": "ipython",
    "version": 3
   },
   "file_extension": ".py",
   "mimetype": "text/x-python",
   "name": "python",
   "nbconvert_exporter": "python",
   "pygments_lexer": "ipython3",
   "version": "3.6.2"
  }
 },
 "nbformat": 4,
 "nbformat_minor": 2
}
