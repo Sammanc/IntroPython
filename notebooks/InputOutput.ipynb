{
 "cells": [
  {
   "cell_type": "markdown",
   "metadata": {},
   "source": [
    "# Input and Output"
   ]
  },
  {
   "cell_type": "markdown",
   "metadata": {},
   "source": [
    "In the end, people write computer programs because they are, they hope, useful in some way or another *to humans*. That means that we must, somehow, be able to \"tell\" the computer what we want it to compute: that is our *input* to the computer. And we must, somehow, get the computer to \"tell\" us about the result of its computation: that is the computer's *output* to us.\n",
    "\n",
    "In modern cloud architectures, the chain of inputs and outputs may be long and convoluted: your input of an order at amazon.com may pass through many computers before the order is actually placed, and the confirmation may also have to progress from one computer to another... as Hamlet says, \"a king may go a progress through the guts of a beggar.\"\n",
    "\n",
    "But this course is an *introduction* to programming, so we don't want to involve you in such complex chains of input and output! Instead, we will be looking at how you can get input *directly* into the program upon which you are working, and how you can *directly* see the output of your program."
   ]
  },
  {
   "cell_type": "markdown",
   "metadata": {},
   "source": [
    "## Output"
   ]
  },
  {
   "cell_type": "markdown",
   "metadata": {},
   "source": [
    "In Python, the simplest way of outputting something from your program is the `print` function. And the simplest form of `print` just takes a single value you wish to output. So, to write the traditional first program that outputs \"Hello world!\" we just write:"
   ]
  },
  {
   "cell_type": "code",
   "execution_count": 3,
   "metadata": {},
   "outputs": [
    {
     "name": "stdout",
     "output_type": "stream",
     "text": [
      "Hello world!\n"
     ]
    }
   ],
   "source": [
    "print(\"Hello world!\")"
   ]
  },
  {
   "cell_type": "markdown",
   "metadata": {},
   "source": [
    "## Input"
   ]
  },
  {
   "cell_type": "code",
   "execution_count": null,
   "metadata": {},
   "outputs": [],
   "source": []
  }
 ],
 "metadata": {
  "kernelspec": {
   "display_name": "Python 3",
   "language": "python",
   "name": "python3"
  },
  "language_info": {
   "codemirror_mode": {
    "name": "ipython",
    "version": 3
   },
   "file_extension": ".py",
   "mimetype": "text/x-python",
   "name": "python",
   "nbconvert_exporter": "python",
   "pygments_lexer": "ipython3",
   "version": "3.6.9"
  }
 },
 "nbformat": 4,
 "nbformat_minor": 4
}
