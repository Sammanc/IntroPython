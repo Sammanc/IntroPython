{
 "cells": [
  {
   "cell_type": "markdown",
   "metadata": {},
   "source": [
    "## Tuples"
   ]
  },
  {
   "cell_type": "code",
   "execution_count": null,
   "metadata": {},
   "outputs": [],
   "source": [
    "# Immutable lists, defined by comma separated items\n",
    "\n",
    "my_tuple = 5, 10\n",
    "print(my_tuple)\n",
    "\n",
    "also_a_tuple = (4, 8, 12)\n",
    "print(also_a_tuple)\n",
    "\n",
    "not_a_tuple = (1)  # parens make Python think it's grouping (like math expressions)\n",
    "print(type(not_a_tuple))\n",
    "\n",
    "also_not_a_tuple = (\"Hello\")\n",
    "print(type(also_not_a_tuple))\n",
    "\n",
    "might_be_a_tuple = (\"Hello\",)\n",
    "print(type(might_be_a_tuple))"
   ]
  },
  {
   "cell_type": "code",
   "execution_count": null,
   "metadata": {},
   "outputs": [],
   "source": [
    "x, y = 'a', 3.14159\n",
    "print(x)\n",
    "print(y)\n",
    "\n",
    "z = x, y\n",
    "print(z)\n",
    "print(type(z))\n",
    "\n",
    "\n",
    "input(\"Enter to continue...\")\n",
    "print()"
   ]
  },
  {
   "cell_type": "markdown",
   "metadata": {},
   "source": [
    "### Notes\n",
    "\n",
    "- operators such as + and * still work with tuples\n",
    "- slicing also works\n",
    "- membership (in) and for iteration\n",
    "- len, min, max, >, <, sum work on tuples\n",
    "- operations that change lists don't work on tuples (extend, insert, remove, pop, reverse, sort)"
   ]
  },
  {
   "cell_type": "code",
   "execution_count": null,
   "metadata": {},
   "outputs": [],
   "source": [
    "# Tuples from lists\n",
    "a_list = [2, 4, 6, 8]\n",
    "a_tuple = tuple(a_list)\n",
    "print(a_tuple)"
   ]
  },
  {
   "cell_type": "code",
   "execution_count": null,
   "metadata": {},
   "outputs": [],
   "source": []
  }
 ],
 "metadata": {
  "kernelspec": {
   "display_name": "Python 3",
   "language": "python",
   "name": "python3"
  },
  "language_info": {
   "codemirror_mode": {
    "name": "ipython",
    "version": 3
   },
   "file_extension": ".py",
   "mimetype": "text/x-python",
   "name": "python",
   "nbconvert_exporter": "python",
   "pygments_lexer": "ipython3",
   "version": "3.6.2"
  }
 },
 "nbformat": 4,
 "nbformat_minor": 2
}
