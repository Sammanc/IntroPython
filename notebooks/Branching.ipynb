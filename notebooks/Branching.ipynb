{
 "cells": [
  {
   "cell_type": "markdown",
   "metadata": {},
   "source": [
    "## Branching\n",
    "\n",
    "Branches are how programs select different sections of code to execute. A typical example would be a payroll program that, *if* the employee is hourly, calculates hourly pay, *else* calculates salaried pay.\n",
    "\n",
    "Let's look at a simple if:"
   ]
  },
  {
   "cell_type": "code",
   "execution_count": 1,
   "metadata": {},
   "outputs": [
    {
     "name": "stdout",
     "output_type": "stream",
     "text": [
      "i is less than 7\n"
     ]
    }
   ],
   "source": [
    "i = 6\n",
    "if i < 7:\n",
    "    print(\"i is less than 7\")\n",
    "else:\n",
    "    print(\"is is greater than or equal to 7\")"
   ]
  },
  {
   "cell_type": "markdown",
   "metadata": {},
   "source": [
    "Python also has an `elif` construct:"
   ]
  },
  {
   "cell_type": "code",
   "execution_count": 1,
   "metadata": {},
   "outputs": [
    {
     "name": "stdout",
     "output_type": "stream",
     "text": [
      "i is equal to 6\n"
     ]
    }
   ],
   "source": [
    "i = 6\n",
    "if i < 6:\n",
    "    print(\"i is less than 6\")\n",
    "elif i == 6:\n",
    "    print(\"i is equal to 6\")\n",
    "else:\n",
    "    print(\"is is greater than 6\")"
   ]
  },
  {
   "cell_type": "markdown",
   "metadata": {},
   "source": [
    "Here is something *not* to do with `elif`:"
   ]
  },
  {
   "cell_type": "code",
   "execution_count": 2,
   "metadata": {},
   "outputs": [
    {
     "name": "stdout",
     "output_type": "stream",
     "text": [
      "i is even\n"
     ]
    }
   ],
   "source": [
    "if i % 2 == 0:\n",
    "    print(\"i is even\")\n",
    "elif i % 2 == 1:\n",
    "    print(\"i is odd\")"
   ]
  },
  {
   "cell_type": "markdown",
   "metadata": {},
   "source": [
    "What is wrong? Can anyone explain?\n",
    "\n",
    "Note: the problem is *not* chiefly efficiency! It is puzzling your readers!"
   ]
  },
  {
   "cell_type": "markdown",
   "metadata": {},
   "source": [
    "### Controlling a Multiway Branch\n",
    "\n",
    "Let's look at a more complex decision."
   ]
  },
  {
   "cell_type": "code",
   "execution_count": 3,
   "metadata": {},
   "outputs": [
    {
     "name": "stdout",
     "output_type": "stream",
     "text": [
      "Please enter the outdoor temperature: 43\n",
      "Temperature is  43\n"
     ]
    }
   ],
   "source": [
    "temp = int(input(\"Please enter the outdoor temperature: \"))\n",
    "\n",
    "print(\"Temperature is\", temp)\n",
    "\n",
    "# here is our branch!"
   ]
  },
  {
   "cell_type": "markdown",
   "metadata": {},
   "source": [
    "### What Is True?\n",
    "\n",
    "![Image of Socrates](https://upload.wikimedia.org/wikipedia/commons/thumb/8/8d/Σωκράτης%2C_Ακαδημία_Αθηνών_6616.jpg/220px-Σωκράτης%2C_Ακαδημία_Αθηνών_6616.jpg)\n",
    "\n",
    "No, we're not going all Socratic here!\n",
    "\n",
    "We want to know what *Python* considers to be true, in an `if` or `elif` clause.\n",
    "\n",
    "Let's experiment!"
   ]
  },
  {
   "cell_type": "code",
   "execution_count": 4,
   "metadata": {},
   "outputs": [
    {
     "name": "stdout",
     "output_type": "stream",
     "text": [
      "l is False\n"
     ]
    }
   ],
   "source": [
    "l = []\n",
    "if l:\n",
    "    print(\"l is True!\")\n",
    "else:\n",
    "    print(\"l is False\")"
   ]
  },
  {
   "cell_type": "code",
   "execution_count": 5,
   "metadata": {},
   "outputs": [
    {
     "name": "stdout",
     "output_type": "stream",
     "text": [
      "l is True!\n"
     ]
    }
   ],
   "source": [
    "l.append(\"Item1\")\n",
    "if l:\n",
    "    print(\"l is True!\")\n",
    "else:\n",
    "    print(\"l is False\")"
   ]
  },
  {
   "cell_type": "code",
   "execution_count": null,
   "metadata": {},
   "outputs": [],
   "source": []
  }
 ],
 "metadata": {
  "kernelspec": {
   "display_name": "Python 3",
   "language": "python",
   "name": "python3"
  },
  "language_info": {
   "codemirror_mode": {
    "name": "ipython",
    "version": 3
   },
   "file_extension": ".py",
   "mimetype": "text/x-python",
   "name": "python",
   "nbconvert_exporter": "python",
   "pygments_lexer": "ipython3",
   "version": "3.6.2"
  }
 },
 "nbformat": 4,
 "nbformat_minor": 2
}
