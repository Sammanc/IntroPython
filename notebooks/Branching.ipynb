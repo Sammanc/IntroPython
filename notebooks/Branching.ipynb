{
 "cells": [
  {
   "cell_type": "markdown",
   "metadata": {},
   "source": [
    "## Branching\n",
    "\n",
    "Branches are how programs select different sections of code to execute. A typical example would be a payroll program that, *if* the employee is hourly, calculates hourly pay, *else* calculates salaried pay.\n",
    "\n",
    "Let's look at a simple if:"
   ]
  },
  {
   "cell_type": "code",
   "execution_count": null,
   "metadata": {},
   "outputs": [],
   "source": [
    "i = 7\n",
    "if i < 7:\n",
    "    print(\"i is less than 7\")\n",
    "else:\n",
    "    print(\"is is greater than or equal to 7\")"
   ]
  },
  {
   "cell_type": "markdown",
   "metadata": {},
   "source": [
    "Python also has an `elif` construct:"
   ]
  },
  {
   "cell_type": "code",
   "execution_count": null,
   "metadata": {},
   "outputs": [],
   "source": [
    "i = 6\n",
    "if i < 6:\n",
    "    print(\"i is less than 6\")\n",
    "elif i == 6:\n",
    "    print(\"i is equal to 6\")\n",
    "else:\n",
    "    print(\"is is greater than 6\")"
   ]
  },
  {
   "cell_type": "markdown",
   "metadata": {},
   "source": [
    "Here is something *not* to do with `elif`:"
   ]
  },
  {
   "cell_type": "code",
   "execution_count": null,
   "metadata": {},
   "outputs": [],
   "source": [
    "if i % 2 == 0:\n",
    "    print(\"i is even\")\n",
    "elif i % 2 == 1:\n",
    "    print(\"i is odd\")"
   ]
  },
  {
   "cell_type": "markdown",
   "metadata": {},
   "source": [
    "What is wrong? Can anyone explain?\n",
    "\n",
    "Note: the problem is *not* chiefly efficiency! It is puzzling your readers!"
   ]
  },
  {
   "cell_type": "markdown",
   "metadata": {},
   "source": [
    "### Controlling a Multiway Branch\n",
    "\n",
    "Let's look at a more complex decision."
   ]
  },
  {
   "cell_type": "code",
   "execution_count": null,
   "metadata": {},
   "outputs": [],
   "source": [
    "temp = int(input(\"Please enter the outdoor temperature: \"))\n",
    "\n",
    "print(\"Temperature is\", temp)\n",
    "\n",
    "# here is our branch!\n",
    "if temp < 10:\n",
    "    print(\"Stay inside!\")\n",
    "elif temp < 30:\n",
    "    print(\"Wear winter coat.\")\n",
    "elif temp < 50:\n",
    "    print(\"Wear sweater.\")\n",
    "elif temp < 70:\n",
    "    print(\"Wear windbreaker.\")\n",
    "elif temp < 100:\n",
    "    print(\"Wear shorts.\")\n",
    "else:\n",
    "    print(\"Stay inside!\")\n",
    "\n",
    "    "
   ]
  },
  {
   "cell_type": "markdown",
   "metadata": {},
   "source": [
    "### What Is True?\n",
    "\n",
    "![Image of Socrates](https://upload.wikimedia.org/wikipedia/commons/thumb/8/8d/Σωκράτης%2C_Ακαδημία_Αθηνών_6616.jpg/220px-Σωκράτης%2C_Ακαδημία_Αθηνών_6616.jpg)\n",
    "\n",
    "No, we're not going all Socratic here!\n",
    "\n",
    "We want to know what *Python* considers to be true, in an `if` or `elif` clause.\n",
    "\n",
    "Let's experiment!"
   ]
  },
  {
   "cell_type": "code",
   "execution_count": null,
   "metadata": {},
   "outputs": [],
   "source": [
    "i = 0\n",
    "if i:\n",
    "    print(\"i is True!\")\n",
    "else:\n",
    "    print(\"i is False\")"
   ]
  },
  {
   "cell_type": "code",
   "execution_count": 3,
   "metadata": {},
   "outputs": [
    {
     "name": "stdout",
     "output_type": "stream",
     "text": [
      "i is True!\n"
     ]
    }
   ],
   "source": [
    "i = -897897\n",
    "if i:\n",
    "    print(\"i is True!\")\n",
    "else:\n",
    "    print(\"i is False\")"
   ]
  },
  {
   "cell_type": "code",
   "execution_count": 2,
   "metadata": {},
   "outputs": [
    {
     "name": "stdout",
     "output_type": "stream",
     "text": [
      "f is False\n"
     ]
    }
   ],
   "source": [
    "f = 0.0\n",
    "if f:\n",
    "    print(\"f is True!\")\n",
    "else:\n",
    "    print(\"f is False\")"
   ]
  },
  {
   "cell_type": "code",
   "execution_count": 1,
   "metadata": {},
   "outputs": [
    {
     "name": "stdout",
     "output_type": "stream",
     "text": [
      "s is False\n"
     ]
    }
   ],
   "source": [
    "s = \"\"\n",
    "if s:\n",
    "    print(\"s is True!\")\n",
    "else:\n",
    "    print(\"s is False\")"
   ]
  },
  {
   "cell_type": "code",
   "execution_count": null,
   "metadata": {},
   "outputs": [],
   "source": [
    "s = \"Goodbye\"\n",
    "if s:\n",
    "    print(\"s is True!\")\n",
    "else:\n",
    "    print(\"s is False\")"
   ]
  },
  {
   "cell_type": "code",
   "execution_count": null,
   "metadata": {},
   "outputs": [],
   "source": [
    "l = []\n",
    "if l:\n",
    "    print(\"l is True!\")\n",
    "else:\n",
    "    print(\"l is False\")"
   ]
  },
  {
   "cell_type": "code",
   "execution_count": null,
   "metadata": {},
   "outputs": [],
   "source": [
    "l.append(\"Item1\")\n",
    "if l:\n",
    "    print(\"l is True!\")\n",
    "else:\n",
    "    print(\"l is False\")"
   ]
  },
  {
   "cell_type": "code",
   "execution_count": null,
   "metadata": {},
   "outputs": [],
   "source": []
  }
 ],
 "metadata": {
  "kernelspec": {
   "display_name": "Python 3",
   "language": "python",
   "name": "python3"
  },
  "language_info": {
   "codemirror_mode": {
    "name": "ipython",
    "version": 3
   },
   "file_extension": ".py",
   "mimetype": "text/x-python",
   "name": "python",
   "nbconvert_exporter": "python",
   "pygments_lexer": "ipython3",
   "version": "3.6.9"
  }
 },
 "nbformat": 4,
 "nbformat_minor": 2
}
