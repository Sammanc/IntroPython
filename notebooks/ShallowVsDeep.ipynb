{
 "cells": [
  {
   "cell_type": "markdown",
   "metadata": {},
   "source": [
    "## Shallow versus deep copy operations"
   ]
  },
  {
   "cell_type": "markdown",
   "metadata": {},
   "source": [
    "### Deep copy\n",
    "\n",
    "Let's first look at a deep copy."
   ]
  },
  {
   "cell_type": "code",
   "execution_count": 4,
   "metadata": {},
   "outputs": [
    {
     "name": "stdout",
     "output_type": "stream",
     "text": [
      "The original elements before deep copying\n",
      "1 2 [3, 5] 4 \n",
      "\n",
      "The new list (list_2) of elements after deep copying and list modification\n",
      "1 2 [7, 5] 4 \n",
      "\n",
      "The original list (list_1) elements after deep copying\n",
      "1 2 [3, 5] 4 The list IDs are: 4699620424 4700437640\n",
      "The inner list IDs are: 4699619912 4699621640\n"
     ]
    }
   ],
   "source": [
    "import copy \n",
    "\n",
    "# initializing list_1 \n",
    "list_1 = [1, 2, [3, 5], 4] \n",
    "\n",
    "# original elements of list_1\n",
    "print (\"The original elements before deep copying\") \n",
    "for index in range(0, len(list_1)): \n",
    "    print(list_1[index], end=\" \")\n",
    "print(\"\\n\") \n",
    "\n",
    "# using deepcopy to deep copy list_1 and changing an element in the new list \n",
    "list_2 = copy.deepcopy(list_1)\n",
    "list_2[2][0] = 7\n",
    "\n",
    "# Change is reflected in list_2 \n",
    "print(\"The new list (list_2) of elements after deep copying and list modification\") \n",
    "for index in range(0, len(list_1)): \n",
    "    print(list_2[index], end=\" \") \n",
    "print(\"\\n\")\n",
    "\n",
    "# Change is NOT reflected in original list as it is a deep copy \n",
    "print (\"The original list (list_1) elements after deep copying\") \n",
    "for index in range(0, len(list_1)): \n",
    "    print(list_1[index], end=\" \")\n",
    "    \n",
    "print(\"The list IDs are:\", id(list_1), id(list_2))\n",
    "print(\"The inner list IDs are:\", id(list_1[2]), id(list_2[2]))"
   ]
  },
  {
   "cell_type": "markdown",
   "metadata": {},
   "source": [
    "### Shallow copy"
   ]
  },
  {
   "cell_type": "code",
   "execution_count": 3,
   "metadata": {},
   "outputs": [
    {
     "name": "stdout",
     "output_type": "stream",
     "text": [
      "The original elements before shallow copying\n",
      "1 2 [3, 5] 4 \n",
      "\n",
      "\n",
      "The original elements after shallow copying\n",
      "1 2 [7, 5] 4 \n",
      "\n",
      "\n",
      "The list IDs are: 4700437640 4699619528\n",
      "The inner list IDs are: 4700437128 4700437128\n"
     ]
    }
   ],
   "source": [
    "import copy \n",
    "\n",
    "# initializing list_1 \n",
    "list_1 = [1, 2, [3,5], 4] \n",
    "\n",
    "# original elements of list \n",
    "print (\"The original elements before shallow copying\") \n",
    "for index in range(0, len(list_1)): \n",
    "    print(list_1[index], end=\" \") \n",
    "print(\"\\n\\n\") \n",
    "\n",
    "# using copy to shallow copy adding an element to new list \n",
    "list_2 = copy.copy(list_1)\n",
    "list_2[2][0] = 7\n",
    "\n",
    "# checking if change is reflected \n",
    "print (\"The original elements after shallow copying\") \n",
    "for index in range(0, len(list_1)): \n",
    "    print(list_1[index], end=\" \") \n",
    "print(\"\\n\\n\")\n",
    "\n",
    "print(\"The list IDs are:\", id(list_1), id(list_2))\n",
    "print(\"The inner list IDs are:\", id(list_1[2]), id(list_2[2]))"
   ]
  },
  {
   "cell_type": "code",
   "execution_count": null,
   "metadata": {},
   "outputs": [],
   "source": []
  }
 ],
 "metadata": {
  "kernelspec": {
   "display_name": "Python 3",
   "language": "python",
   "name": "python3"
  },
  "language_info": {
   "codemirror_mode": {
    "name": "ipython",
    "version": 3
   },
   "file_extension": ".py",
   "mimetype": "text/x-python",
   "name": "python",
   "nbconvert_exporter": "python",
   "pygments_lexer": "ipython3",
   "version": "3.6.2"
  }
 },
 "nbformat": 4,
 "nbformat_minor": 2
}
