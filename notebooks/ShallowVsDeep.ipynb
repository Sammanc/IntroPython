{
 "cells": [
  {
   "cell_type": "markdown",
   "metadata": {},
   "source": [
    "## Shallow versus deep copy operations"
   ]
  },
  {
   "cell_type": "markdown",
   "metadata": {},
   "source": [
    "### Deep copy\n",
    "\n",
    "Let's first look at a deep copy."
   ]
  },
  {
   "cell_type": "code",
   "execution_count": 5,
   "metadata": {},
   "outputs": [
    {
     "name": "stdout",
     "output_type": "stream",
     "text": [
      "The original elements before deep copying\n",
      "1 2 [3, 5] 4 \n",
      "\n",
      "3\n"
     ]
    }
   ],
   "source": [
    "import copy \n",
    "\n",
    "# initializing list_1 \n",
    "list_1 = [1, 2, [3, 5], 4] \n",
    "\n",
    "# original elements of list_1\n",
    "print (\"The original elements before deep copying\") \n",
    "for index in range(0, len(list_1)): \n",
    "    print(list_1[index], end=\" \")\n",
    "print(\"\\n\") \n",
    "print(list_1[2][0])"
   ]
  },
  {
   "cell_type": "markdown",
   "metadata": {},
   "source": [
    "Using deepcopy to deep copy list_1 and changing an element in the new list "
   ]
  },
  {
   "cell_type": "code",
   "execution_count": 6,
   "metadata": {},
   "outputs": [],
   "source": [
    "list_2 = copy.deepcopy(list_1)\n",
    "list_2[2][0] = 7"
   ]
  },
  {
   "cell_type": "markdown",
   "metadata": {},
   "source": [
    "Change is reflected in list_2 "
   ]
  },
  {
   "cell_type": "code",
   "execution_count": 7,
   "metadata": {},
   "outputs": [
    {
     "name": "stdout",
     "output_type": "stream",
     "text": [
      "The new list (list_2) of elements after deep copying and list modification\n",
      "1 2 [7, 5] 4 \n",
      "\n"
     ]
    }
   ],
   "source": [
    "print(\"The new list (list_2) of elements after deep copying and list modification\") \n",
    "for index in range(0, len(list_1)): \n",
    "    print(list_2[index], end=\" \") \n",
    "print(\"\\n\")"
   ]
  },
  {
   "cell_type": "markdown",
   "metadata": {},
   "source": [
    "Change is NOT reflected in original list as it is a deep copy"
   ]
  },
  {
   "cell_type": "code",
   "execution_count": 8,
   "metadata": {},
   "outputs": [
    {
     "name": "stdout",
     "output_type": "stream",
     "text": [
      "The original list (list_1) elements after deep copying\n",
      "1 2 [3, 5] 4 "
     ]
    }
   ],
   "source": [
    "print (\"The original list (list_1) elements after deep copying\") \n",
    "for index in range(0, len(list_1)): \n",
    "    print(list_1[index], end=\" \")"
   ]
  },
  {
   "cell_type": "code",
   "execution_count": 9,
   "metadata": {},
   "outputs": [
    {
     "name": "stdout",
     "output_type": "stream",
     "text": [
      "The list IDs are: 4545838408 4543936456\n",
      "The inner list IDs are: 4545756296 4544607240\n"
     ]
    }
   ],
   "source": [
    "  \n",
    "print(\"The list IDs are:\", id(list_1), id(list_2))\n",
    "print(\"The inner list IDs are:\", id(list_1[2]), id(list_2[2]))"
   ]
  },
  {
   "cell_type": "markdown",
   "metadata": {},
   "source": [
    "### Shallow copy"
   ]
  },
  {
   "cell_type": "code",
   "execution_count": 10,
   "metadata": {},
   "outputs": [
    {
     "name": "stdout",
     "output_type": "stream",
     "text": [
      "The original elements before shallow copying\n",
      "1 2 [3, 5] 4 \n",
      "\n"
     ]
    }
   ],
   "source": [
    "import copy \n",
    "\n",
    "# initializing list_1 \n",
    "list_1 = [1, 2, [3,5], 4] \n",
    "\n",
    "# original elements of list \n",
    "print (\"The original elements before shallow copying\") \n",
    "for index in range(0, len(list_1)): \n",
    "    print(list_1[index], end=\" \") \n",
    "print(\"\\n\")"
   ]
  },
  {
   "cell_type": "markdown",
   "metadata": {},
   "source": [
    "Using copy to shallow copy adding an element to new list"
   ]
  },
  {
   "cell_type": "code",
   "execution_count": 11,
   "metadata": {},
   "outputs": [],
   "source": [
    "list_2 = copy.copy(list_1)\n",
    "list_2[2][0] = 7"
   ]
  },
  {
   "cell_type": "markdown",
   "metadata": {},
   "source": [
    "Checking if change is reflected "
   ]
  },
  {
   "cell_type": "code",
   "execution_count": 12,
   "metadata": {},
   "outputs": [
    {
     "name": "stdout",
     "output_type": "stream",
     "text": [
      "The original elements after shallow copying\n",
      "1 2 [7, 5] 4 \n",
      "\n"
     ]
    }
   ],
   "source": [
    "print (\"The original elements after shallow copying\") \n",
    "for index in range(0, len(list_1)): \n",
    "    print(list_1[index], end=\" \") \n",
    "print(\"\\n\")"
   ]
  },
  {
   "cell_type": "code",
   "execution_count": 3,
   "metadata": {},
   "outputs": [
    {
     "name": "stdout",
     "output_type": "stream",
     "text": [
      "The original elements before shallow copying\n",
      "1 2 [3, 5] 4 \n",
      "\n",
      "\n",
      "The original elements after shallow copying\n",
      "1 2 [7, 5] 4 \n",
      "\n",
      "\n",
      "The list IDs are: 4700437640 4699619528\n",
      "The inner list IDs are: 4700437128 4700437128\n"
     ]
    }
   ],
   "source": [
    "print(\"The list IDs are:\", id(list_1), id(list_2))\n",
    "print(\"The inner list IDs are:\", id(list_1[2]), id(list_2[2]))"
   ]
  },
  {
   "cell_type": "code",
   "execution_count": null,
   "metadata": {},
   "outputs": [],
   "source": []
  }
 ],
 "metadata": {
  "kernelspec": {
   "display_name": "Python 3",
   "language": "python",
   "name": "python3"
  },
  "language_info": {
   "codemirror_mode": {
    "name": "ipython",
    "version": 3
   },
   "file_extension": ".py",
   "mimetype": "text/x-python",
   "name": "python",
   "nbconvert_exporter": "python",
   "pygments_lexer": "ipython3",
   "version": "3.6.2"
  }
 },
 "nbformat": 4,
 "nbformat_minor": 2
}
