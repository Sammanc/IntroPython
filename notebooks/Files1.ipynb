{
 "cells": [
  {
   "cell_type": "markdown",
   "metadata": {},
   "source": [
    "## File I/O"
   ]
  },
  {
   "cell_type": "markdown",
   "metadata": {},
   "source": [
    "File: collection of bytes of information residing permanently on disk. There are two major types: *binary files* and *text files*.\n",
    "\n",
    "- **binary files**: info encoded in some scheme that is not human-readable\n",
    "- **text files**: info encoded in ASCII/UNICODE characters and IS human-readable\n",
    "\n",
    "We need a \"pipe\" to connect our program to the file\n",
    "File object will be our pipe, also known as a stream.  It's an object."
   ]
  },
  {
   "cell_type": "code",
   "execution_count": 2,
   "metadata": {},
   "outputs": [
    {
     "name": "stdout",
     "output_type": "stream",
     "text": [
      "A few light taps upon the pane made him turn to the window.\n",
      "It had begun to snow again.\n",
      "He watched sleepily the flakes, silver and dark, falling obliquely against the lamplight.\n",
      "The time had come for him to set out on his journey westward.\n",
      "Yes, the newspapers were right: snow was general all over Ireland.\n",
      "It was falling on every part of the dark central plain, on the treeless hills, falling softly upon the Bog of Allen and, farther westward, softly falling into the dark mutinous Shannon waves.\n",
      "It was falling, too, upon every part of the lonely churchyard on the hill where Michael Furey lay buried.\n",
      "It lay thickly drifted on the crooked crosses and headstones, on the spears of the little gate, on the barren thorns.\n",
      "His soul swooned slowly as he heard the snow falling faintly through the universe and faintly falling, like the descent of their last end, upon all the living and the dead.\n"
     ]
    }
   ],
   "source": [
    "temp_file = open(\"temp.txt\", \"r\")\n",
    "for line_str in temp_file:\n",
    "    print(line_str, end='')   # why end=''???\n",
    "\n",
    "temp_file.close()  # always close your files."
   ]
  },
  {
   "cell_type": "markdown",
   "metadata": {},
   "source": [
    "### Writing to files"
   ]
  },
  {
   "cell_type": "code",
   "execution_count": 3,
   "metadata": {},
   "outputs": [],
   "source": [
    "temp_file = open(\"temp_out.txt\", \"w\")\n",
    "\n",
    "print(\"first line\", file=temp_file)\n",
    "print(\"second line!!!!!\", file=temp_file)\n",
    "\n",
    "temp_file.close()"
   ]
  },
  {
   "cell_type": "markdown",
   "metadata": {},
   "source": [
    "Let's look at the result:"
   ]
  },
  {
   "cell_type": "code",
   "execution_count": 5,
   "metadata": {},
   "outputs": [
    {
     "name": "stdout",
     "output_type": "stream",
     "text": [
      "first line\r\n",
      "second line!!!!!\r\n"
     ]
    }
   ],
   "source": [
    "!cat temp_out.txt"
   ]
  },
  {
   "cell_type": "markdown",
   "metadata": {},
   "source": [
    "### File I/O details\n",
    "\n",
    "# File behaviour and errors\n",
    "\n",
    "Reading: attempt to open a non-existent file for reading: error\n",
    "Reading: attempt to open a file that exists for reading: connection made, can read\n",
    "\n",
    "Writing: attempt to open a non-existent file for writing: create new file\n",
    "Writing: attempt to open a file that exists for writing: overwrite the file\n",
    "Writing: attempt to open a file that exists for APPENDING: append to file\n",
    "\n",
    "File opening modes:\n",
    "\n",
    "- 'r': read-only\n",
    "- 'w': write-only\n",
    "- 'a': write-only at end of file (append)\n",
    "- 'r+': read and overwrites from start of the file\n",
    "- 'w+': clears the file's contents, reads and writes\n",
    "- 'a+': read and write from file's end\n"
   ]
  },
  {
   "cell_type": "markdown",
   "metadata": {},
   "source": [
    "### Reading and writing simultaneously"
   ]
  },
  {
   "cell_type": "code",
   "execution_count": 6,
   "metadata": {},
   "outputs": [
    {
     "name": "stdout",
     "output_type": "stream",
     "text": [
      "Line 'Perhaps she had not told him all the story.' reversed is '.yrots eht lla mih dlot ton dah ehs spahreP'\n",
      "Line 'His eyes moved to the chair over which she had thrown some of her clothes.' reversed is '.sehtolc reh fo emos nworht dah ehs hcihw revo riahc eht ot devom seye siH'\n",
      "Line 'A petticoat string dangled to the floor.' reversed is '.roolf eht ot delgnad gnirts taocittep A'\n",
      "Line 'One boot stood upright, its limp upper fallen down: the fellow of it lay upon its side.' reversed is '.edis sti nopu yal ti fo wollef eht :nwod nellaf reppu pmil sti ,thgirpu doots toob enO'\n",
      "Line 'He wondered at his riot of emotions of an hour before.' reversed is '.erofeb ruoh na fo snoitome fo toir sih ta derednow eH'\n",
      "Line 'From what had it proceeded? From his aunt’s supper, from his own foolish speech, from the wine and dancing, the merry-making when saying good-night in the hall, the pleasure of the walk along the river in the snow.' reversed is '.wons eht ni revir eht gnola klaw eht fo erusaelp eht ,llah eht ni thgin-doog gniyas nehw gnikam-yrrem eht ,gnicnad dna eniw eht morf ,hceeps hsiloof nwo sih morf ,reppus s’tnua sih morF ?dedeecorp ti dah tahw morF'\n",
      "Line 'Poor Aunt Julia! She, too, would soon be a shade with the shade of Patrick Morkan and his horse.' reversed is '.esroh sih dna nakroM kcirtaP fo edahs eht htiw edahs a eb noos dluow ,oot ,ehS !ailuJ tnuA rooP'\n",
      "Line 'He had caught that haggard look upon her face for a moment when she was singing Arrayed for the Bridal.' reversed is '.ladirB eht rof deyarrA gnignis saw ehs nehw tnemom a rof ecaf reh nopu kool draggah taht thguac dah eH'\n",
      "Line 'Soon, perhaps, he would be sitting in that same drawing-room, dressed in black, his silk hat on his knees.' reversed is '.seenk sih no tah klis sih ,kcalb ni desserd ,moor-gniward emas taht ni gnittis eb dluow eh ,spahrep ,nooS'\n",
      "Line 'The blinds would be drawn down and Aunt Kate would be sitting beside him, crying and blowing her nose and telling him how Julia had died.' reversed is '.deid dah ailuJ woh mih gnillet dna eson reh gniwolb dna gniyrc ,mih ediseb gnittis eb dluow etaK tnuA dna nwod nward eb dluow sdnilb ehT'\n",
      "Line 'He would cast about in his mind for some words that might console her, and would find only lame and useless ones.' reversed is '.seno sselesu dna emal ylno dnif dluow dna ,reh elosnoc thgim taht sdrow emos rof dnim sih ni tuoba tsac dluow eH'\n",
      "Line 'Yes, yes: that would happen very soon.' reversed is '.noos yrev neppah dluow taht :sey ,seY'\n"
     ]
    }
   ],
   "source": [
    "input_file = open(\"input.txt\", \"r\")\n",
    "output_file = open(\"output.txt\", \"w\")\n",
    "\n",
    "for line_str in input_file:\n",
    "    new_str = ''\n",
    "    line_str = line_str.strip()\n",
    "\n",
    "    for char in line_str:\n",
    "        new_str = char + new_str\n",
    "\n",
    "    print(new_str, file=output_file)\n",
    "    print(\"Line '{:s}' reversed is '{:s}'\".format(line_str, new_str))\n",
    "\n",
    "input_file.close()\n",
    "output_file.close()"
   ]
  },
  {
   "cell_type": "markdown",
   "metadata": {},
   "source": [
    "### Doing something interesting with a file"
   ]
  },
  {
   "cell_type": "code",
   "execution_count": 9,
   "metadata": {},
   "outputs": [
    {
     "name": "stdout",
     "output_type": "stream",
     "text": [
      "The average is:  74.8125\n"
     ]
    }
   ],
   "source": [
    "input_file=open(\"grades.txt\",\"r\")\n",
    "\n",
    "sum = counter = 0\n",
    "\n",
    "for line in input_file:\n",
    "    grade = float(line)\n",
    "    sum += grade\n",
    "    counter += 1\n",
    "\n",
    "print(\"The average is: \", sum/counter)\n",
    "\n",
    "input_file.close()"
   ]
  },
  {
   "cell_type": "code",
   "execution_count": null,
   "metadata": {},
   "outputs": [],
   "source": []
  }
 ],
 "metadata": {
  "kernelspec": {
   "display_name": "Python 3",
   "language": "python",
   "name": "python3"
  },
  "language_info": {
   "codemirror_mode": {
    "name": "ipython",
    "version": 3
   },
   "file_extension": ".py",
   "mimetype": "text/x-python",
   "name": "python",
   "nbconvert_exporter": "python",
   "pygments_lexer": "ipython3",
   "version": "3.6.2"
  }
 },
 "nbformat": 4,
 "nbformat_minor": 2
}
